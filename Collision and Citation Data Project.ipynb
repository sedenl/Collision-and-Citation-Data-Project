{
 "cells": [
  {
   "cell_type": "markdown",
   "metadata": {},
   "source": [
    "## Collision and Citation Data Project"
   ]
  },
  {
   "cell_type": "markdown",
   "metadata": {},
   "source": [
    "For this project I am using the Montgomery County Parking Citation Data (link to this dataset is: https://data.montgomerycountymd.gov/Transportation/DOT-Parking-Tickets/uyb2-cfmc) and the Maryland Crash Data (link to this dataset is:  https://opendata.maryland.gov/Public-Safety/Maryland-Statewide-Vehicle-Crashes-Circum_weather/q6mx-6mk8). There is also a data dictionary for this dataset (link:https://catalog.data.gov/dataset/maryland-statewide-vehicle-crash-data-dictionary-f4840). \n",
    "\n",
    "For this project I will be investigating my hypothesis that more crashes and parking violations occurred during the winter and if there is a correlation between crashes and citations in Montgomery County. "
   ]
  },
  {
   "cell_type": "code",
   "execution_count": 1,
   "metadata": {},
   "outputs": [],
   "source": [
    "import pandas as pd\n",
    "import datetime\n",
    "from datetime import datetime\n",
    "from scipy.stats import pearsonr\n",
    "import matplotlib.pyplot as plt\n",
    "import seaborn"
   ]
  },
  {
   "cell_type": "code",
   "execution_count": 2,
   "metadata": {},
   "outputs": [],
   "source": [
    "pd.set_option('display.max_columns', None) #resetting options to show all of the columns in the dataframes"
   ]
  },
  {
   "cell_type": "markdown",
   "metadata": {},
   "source": [
    "### Dataset 1: Montgomery County Parking Citation Data "
   ]
  },
  {
   "cell_type": "code",
   "execution_count": 3,
   "metadata": {},
   "outputs": [],
   "source": [
    "citations=pd.read_csv('https://data.montgomerycountymd.gov/api/views/uyb2-cfmc/rows.csv?accessType=DOWNLOAD', engine='python')\n",
    "#downloading data of citations from Montgomery County from July 2019 to June of 2020 and loading it into dataframe"
   ]
  },
  {
   "cell_type": "code",
   "execution_count": 4,
   "metadata": {},
   "outputs": [
    {
     "data": {
      "text/html": [
       "<div>\n",
       "<style scoped>\n",
       "    .dataframe tbody tr th:only-of-type {\n",
       "        vertical-align: middle;\n",
       "    }\n",
       "\n",
       "    .dataframe tbody tr th {\n",
       "        vertical-align: top;\n",
       "    }\n",
       "\n",
       "    .dataframe thead th {\n",
       "        text-align: right;\n",
       "    }\n",
       "</style>\n",
       "<table border=\"1\" class=\"dataframe\">\n",
       "  <thead>\n",
       "    <tr style=\"text-align: right;\">\n",
       "      <th></th>\n",
       "      <th>Ticket Number</th>\n",
       "      <th>Date/Time</th>\n",
       "      <th>Parking Division</th>\n",
       "      <th>Ticket Location</th>\n",
       "      <th>Meter</th>\n",
       "      <th>Violation Code</th>\n",
       "      <th>Violation Description</th>\n",
       "      <th>Plate Year</th>\n",
       "      <th>Vehicle Make</th>\n",
       "      <th>Plate Month</th>\n",
       "      <th>Vehicle Type</th>\n",
       "      <th>Vehicle Color</th>\n",
       "      <th>Remarks</th>\n",
       "      <th>Issuing Agency</th>\n",
       "    </tr>\n",
       "  </thead>\n",
       "  <tbody>\n",
       "    <tr>\n",
       "      <th>0</th>\n",
       "      <td>407607690</td>\n",
       "      <td>08/26/0019 01:41:00 PM</td>\n",
       "      <td>2</td>\n",
       "      <td>8100 NORFOLK AVE</td>\n",
       "      <td>1104302</td>\n",
       "      <td>50.0</td>\n",
       "      <td>EXPIRED PRKG METER</td>\n",
       "      <td>2021</td>\n",
       "      <td>SUBA</td>\n",
       "      <td>9.0</td>\n",
       "      <td>4D</td>\n",
       "      <td>WH</td>\n",
       "      <td>2 HR PARKING</td>\n",
       "      <td>DOT</td>\n",
       "    </tr>\n",
       "    <tr>\n",
       "      <th>1</th>\n",
       "      <td>407556122</td>\n",
       "      <td>08/15/0019 05:07:00 PM</td>\n",
       "      <td>2</td>\n",
       "      <td>G40-4935 ST ELMO AVE</td>\n",
       "      <td>3400323</td>\n",
       "      <td>50.0</td>\n",
       "      <td>EXPIRED PRKG METER</td>\n",
       "      <td>2019</td>\n",
       "      <td>TESL</td>\n",
       "      <td>10.0</td>\n",
       "      <td>4D</td>\n",
       "      <td>RE</td>\n",
       "      <td>4 HR PARKING</td>\n",
       "      <td>DOT</td>\n",
       "    </tr>\n",
       "    <tr>\n",
       "      <th>2</th>\n",
       "      <td>407841700</td>\n",
       "      <td>10/18/0019 09:25:00 AM</td>\n",
       "      <td>8</td>\n",
       "      <td>MEDICAL CENTER DR</td>\n",
       "      <td>1601887</td>\n",
       "      <td>50.0</td>\n",
       "      <td>EXPIRED PRKG METER</td>\n",
       "      <td>2019</td>\n",
       "      <td>BMW</td>\n",
       "      <td>10.0</td>\n",
       "      <td>4D</td>\n",
       "      <td>GY</td>\n",
       "      <td>12 HR PARKING</td>\n",
       "      <td>DOT</td>\n",
       "    </tr>\n",
       "    <tr>\n",
       "      <th>3</th>\n",
       "      <td>407344663</td>\n",
       "      <td>07/08/0019 10:47:00 AM</td>\n",
       "      <td>2</td>\n",
       "      <td>4800 HAMPDEN LN</td>\n",
       "      <td>1103032</td>\n",
       "      <td>50.0</td>\n",
       "      <td>EXPIRED PRKG METER</td>\n",
       "      <td>2020</td>\n",
       "      <td>FORD</td>\n",
       "      <td>2.0</td>\n",
       "      <td>4D</td>\n",
       "      <td>WH</td>\n",
       "      <td>1 HR PARKING</td>\n",
       "      <td>DOT</td>\n",
       "    </tr>\n",
       "    <tr>\n",
       "      <th>4</th>\n",
       "      <td>407645910</td>\n",
       "      <td>09/02/0019 10:56:00 AM</td>\n",
       "      <td>2</td>\n",
       "      <td>7000 WISCONSIN AVE</td>\n",
       "      <td>1105612</td>\n",
       "      <td>50.0</td>\n",
       "      <td>EXPIRED PRKG METER</td>\n",
       "      <td>2020</td>\n",
       "      <td>TOYT</td>\n",
       "      <td>10.0</td>\n",
       "      <td>4D</td>\n",
       "      <td>SI</td>\n",
       "      <td>1 HR PARKING</td>\n",
       "      <td>DOT</td>\n",
       "    </tr>\n",
       "    <tr>\n",
       "      <th>...</th>\n",
       "      <td>...</td>\n",
       "      <td>...</td>\n",
       "      <td>...</td>\n",
       "      <td>...</td>\n",
       "      <td>...</td>\n",
       "      <td>...</td>\n",
       "      <td>...</td>\n",
       "      <td>...</td>\n",
       "      <td>...</td>\n",
       "      <td>...</td>\n",
       "      <td>...</td>\n",
       "      <td>...</td>\n",
       "      <td>...</td>\n",
       "      <td>...</td>\n",
       "    </tr>\n",
       "    <tr>\n",
       "      <th>127126</th>\n",
       "      <td>408114814</td>\n",
       "      <td>12/15/0019 04:18:00 PM</td>\n",
       "      <td>3</td>\n",
       "      <td>800 ROEDER RD</td>\n",
       "      <td>1207011</td>\n",
       "      <td>50.0</td>\n",
       "      <td>EXPIRED PRKG METER</td>\n",
       "      <td>2020</td>\n",
       "      <td>VOLK</td>\n",
       "      <td>3.0</td>\n",
       "      <td>4D</td>\n",
       "      <td>SI</td>\n",
       "      <td>2 HR PARKING</td>\n",
       "      <td>DOT</td>\n",
       "    </tr>\n",
       "    <tr>\n",
       "      <th>127127</th>\n",
       "      <td>407392871</td>\n",
       "      <td>07/12/0019 06:12:00 PM</td>\n",
       "      <td>8A</td>\n",
       "      <td>11815 GRAND PARK AVE</td>\n",
       "      <td>NaN</td>\n",
       "      <td>35.0</td>\n",
       "      <td>VIOLATION OFFICIAL SIGN  ON STREET</td>\n",
       "      <td>2019</td>\n",
       "      <td>HOND</td>\n",
       "      <td>10.0</td>\n",
       "      <td>4D</td>\n",
       "      <td>GY</td>\n",
       "      <td>NO PARKING 5 PM - 12 AM/. SIGNS POSTED</td>\n",
       "      <td>DOT</td>\n",
       "    </tr>\n",
       "    <tr>\n",
       "      <th>127128</th>\n",
       "      <td>407777322</td>\n",
       "      <td>10/04/0019 06:14:00 PM</td>\n",
       "      <td>3</td>\n",
       "      <td>G2-8700 CAMERON ST</td>\n",
       "      <td>3021058</td>\n",
       "      <td>50.0</td>\n",
       "      <td>EXPIRED PRKG METER</td>\n",
       "      <td>2019</td>\n",
       "      <td>NISS</td>\n",
       "      <td>1.0</td>\n",
       "      <td>SU</td>\n",
       "      <td>WH</td>\n",
       "      <td>2 HR PARKING</td>\n",
       "      <td>DOT</td>\n",
       "    </tr>\n",
       "    <tr>\n",
       "      <th>127129</th>\n",
       "      <td>408161364</td>\n",
       "      <td>12/28/0019 12:39:00 PM</td>\n",
       "      <td>2</td>\n",
       "      <td>L24-4601 LELAND ST</td>\n",
       "      <td>2240108</td>\n",
       "      <td>50.0</td>\n",
       "      <td>EXPIRED PRKG METER</td>\n",
       "      <td>2021</td>\n",
       "      <td>HOND</td>\n",
       "      <td>5.0</td>\n",
       "      <td>4D</td>\n",
       "      <td>SI</td>\n",
       "      <td>2 HR PARKING</td>\n",
       "      <td>DOT</td>\n",
       "    </tr>\n",
       "    <tr>\n",
       "      <th>127130</th>\n",
       "      <td>408115842</td>\n",
       "      <td>12/15/0019 06:08:00 PM</td>\n",
       "      <td>2</td>\n",
       "      <td>4800 BETHESDA AVE</td>\n",
       "      <td>1101332</td>\n",
       "      <td>50.0</td>\n",
       "      <td>EXPIRED PRKG METER</td>\n",
       "      <td>2021</td>\n",
       "      <td>SUBA</td>\n",
       "      <td>1.0</td>\n",
       "      <td>SU</td>\n",
       "      <td>WH</td>\n",
       "      <td>1 HR PARKING</td>\n",
       "      <td>DOT</td>\n",
       "    </tr>\n",
       "  </tbody>\n",
       "</table>\n",
       "<p>127131 rows × 14 columns</p>\n",
       "</div>"
      ],
      "text/plain": [
       "        Ticket Number               Date/Time Parking Division  \\\n",
       "0           407607690  08/26/0019 01:41:00 PM                2   \n",
       "1           407556122  08/15/0019 05:07:00 PM                2   \n",
       "2           407841700  10/18/0019 09:25:00 AM                8   \n",
       "3           407344663  07/08/0019 10:47:00 AM                2   \n",
       "4           407645910  09/02/0019 10:56:00 AM                2   \n",
       "...               ...                     ...              ...   \n",
       "127126      408114814  12/15/0019 04:18:00 PM                3   \n",
       "127127      407392871  07/12/0019 06:12:00 PM               8A   \n",
       "127128      407777322  10/04/0019 06:14:00 PM                3   \n",
       "127129      408161364  12/28/0019 12:39:00 PM                2   \n",
       "127130      408115842  12/15/0019 06:08:00 PM                2   \n",
       "\n",
       "             Ticket Location    Meter  Violation Code  \\\n",
       "0           8100 NORFOLK AVE  1104302            50.0   \n",
       "1       G40-4935 ST ELMO AVE  3400323            50.0   \n",
       "2          MEDICAL CENTER DR  1601887            50.0   \n",
       "3            4800 HAMPDEN LN  1103032            50.0   \n",
       "4         7000 WISCONSIN AVE  1105612            50.0   \n",
       "...                      ...      ...             ...   \n",
       "127126         800 ROEDER RD  1207011            50.0   \n",
       "127127  11815 GRAND PARK AVE      NaN            35.0   \n",
       "127128    G2-8700 CAMERON ST  3021058            50.0   \n",
       "127129    L24-4601 LELAND ST  2240108            50.0   \n",
       "127130     4800 BETHESDA AVE  1101332            50.0   \n",
       "\n",
       "                     Violation Description Plate Year Vehicle Make  \\\n",
       "0                       EXPIRED PRKG METER       2021         SUBA   \n",
       "1                       EXPIRED PRKG METER       2019         TESL   \n",
       "2                       EXPIRED PRKG METER       2019          BMW   \n",
       "3                       EXPIRED PRKG METER       2020         FORD   \n",
       "4                       EXPIRED PRKG METER       2020         TOYT   \n",
       "...                                    ...        ...          ...   \n",
       "127126                  EXPIRED PRKG METER       2020         VOLK   \n",
       "127127  VIOLATION OFFICIAL SIGN  ON STREET       2019         HOND   \n",
       "127128                  EXPIRED PRKG METER       2019         NISS   \n",
       "127129                  EXPIRED PRKG METER       2021         HOND   \n",
       "127130                  EXPIRED PRKG METER       2021         SUBA   \n",
       "\n",
       "        Plate Month Vehicle Type Vehicle Color  \\\n",
       "0               9.0           4D            WH   \n",
       "1              10.0           4D            RE   \n",
       "2              10.0           4D            GY   \n",
       "3               2.0           4D            WH   \n",
       "4              10.0           4D            SI   \n",
       "...             ...          ...           ...   \n",
       "127126          3.0           4D            SI   \n",
       "127127         10.0           4D            GY   \n",
       "127128          1.0           SU            WH   \n",
       "127129          5.0           4D            SI   \n",
       "127130          1.0           SU            WH   \n",
       "\n",
       "                                       Remarks Issuing Agency  \n",
       "0                                 2 HR PARKING            DOT  \n",
       "1                                 4 HR PARKING            DOT  \n",
       "2                                12 HR PARKING            DOT  \n",
       "3                                 1 HR PARKING            DOT  \n",
       "4                                 1 HR PARKING            DOT  \n",
       "...                                        ...            ...  \n",
       "127126                            2 HR PARKING            DOT  \n",
       "127127  NO PARKING 5 PM - 12 AM/. SIGNS POSTED            DOT  \n",
       "127128                            2 HR PARKING            DOT  \n",
       "127129                            2 HR PARKING            DOT  \n",
       "127130                            1 HR PARKING            DOT  \n",
       "\n",
       "[127131 rows x 14 columns]"
      ]
     },
     "execution_count": 4,
     "metadata": {},
     "output_type": "execute_result"
    }
   ],
   "source": [
    "citations"
   ]
  },
  {
   "cell_type": "code",
   "execution_count": 5,
   "metadata": {},
   "outputs": [
    {
     "name": "stdout",
     "output_type": "stream",
     "text": [
      "<class 'pandas.core.frame.DataFrame'>\n",
      "RangeIndex: 127131 entries, 0 to 127130\n",
      "Data columns (total 14 columns):\n",
      " #   Column                 Non-Null Count   Dtype  \n",
      "---  ------                 --------------   -----  \n",
      " 0   Ticket Number          127131 non-null  int64  \n",
      " 1   Date/Time              127130 non-null  object \n",
      " 2   Parking Division       126994 non-null  object \n",
      " 3   Ticket Location        126356 non-null  object \n",
      " 4   Meter                  100210 non-null  object \n",
      " 5   Violation Code         127009 non-null  float64\n",
      " 6   Violation Description  127009 non-null  object \n",
      " 7   Plate Year             119490 non-null  object \n",
      " 8   Vehicle Make           126435 non-null  object \n",
      " 9   Plate Month            118588 non-null  float64\n",
      " 10  Vehicle Type           126437 non-null  object \n",
      " 11  Vehicle Color          126437 non-null  object \n",
      " 12  Remarks                126262 non-null  object \n",
      " 13  Issuing Agency         127130 non-null  object \n",
      "dtypes: float64(2), int64(1), object(11)\n",
      "memory usage: 13.6+ MB\n"
     ]
    }
   ],
   "source": [
    "citations.info() #looking at data types and number of non-null values for each of the columns of the citation dataframe"
   ]
  },
  {
   "cell_type": "code",
   "execution_count": 6,
   "metadata": {},
   "outputs": [],
   "source": [
    "c=citations['Date/Time'].isnull() #finding the null row in the Date/Time column"
   ]
  },
  {
   "cell_type": "code",
   "execution_count": 7,
   "metadata": {},
   "outputs": [
    {
     "data": {
      "text/html": [
       "<div>\n",
       "<style scoped>\n",
       "    .dataframe tbody tr th:only-of-type {\n",
       "        vertical-align: middle;\n",
       "    }\n",
       "\n",
       "    .dataframe tbody tr th {\n",
       "        vertical-align: top;\n",
       "    }\n",
       "\n",
       "    .dataframe thead th {\n",
       "        text-align: right;\n",
       "    }\n",
       "</style>\n",
       "<table border=\"1\" class=\"dataframe\">\n",
       "  <thead>\n",
       "    <tr style=\"text-align: right;\">\n",
       "      <th></th>\n",
       "      <th>Ticket Number</th>\n",
       "      <th>Date/Time</th>\n",
       "      <th>Parking Division</th>\n",
       "      <th>Ticket Location</th>\n",
       "      <th>Meter</th>\n",
       "      <th>Violation Code</th>\n",
       "      <th>Violation Description</th>\n",
       "      <th>Plate Year</th>\n",
       "      <th>Vehicle Make</th>\n",
       "      <th>Plate Month</th>\n",
       "      <th>Vehicle Type</th>\n",
       "      <th>Vehicle Color</th>\n",
       "      <th>Remarks</th>\n",
       "      <th>Issuing Agency</th>\n",
       "    </tr>\n",
       "  </thead>\n",
       "  <tbody>\n",
       "    <tr>\n",
       "      <th>114929</th>\n",
       "      <td>127130</td>\n",
       "      <td>NaN</td>\n",
       "      <td>NaN</td>\n",
       "      <td>NaN</td>\n",
       "      <td>NaN</td>\n",
       "      <td>NaN</td>\n",
       "      <td>NaN</td>\n",
       "      <td>NaN</td>\n",
       "      <td>NaN</td>\n",
       "      <td>NaN</td>\n",
       "      <td>NaN</td>\n",
       "      <td>NaN</td>\n",
       "      <td>NaN</td>\n",
       "      <td>NaN</td>\n",
       "    </tr>\n",
       "  </tbody>\n",
       "</table>\n",
       "</div>"
      ],
      "text/plain": [
       "        Ticket Number Date/Time Parking Division Ticket Location Meter  \\\n",
       "114929         127130       NaN              NaN             NaN   NaN   \n",
       "\n",
       "        Violation Code Violation Description Plate Year Vehicle Make  \\\n",
       "114929             NaN                   NaN        NaN          NaN   \n",
       "\n",
       "        Plate Month Vehicle Type Vehicle Color Remarks Issuing Agency  \n",
       "114929          NaN          NaN           NaN     NaN            NaN  "
      ]
     },
     "execution_count": 7,
     "metadata": {},
     "output_type": "execute_result"
    }
   ],
   "source": [
    "citations[c] #showing the null row to get the index number"
   ]
  },
  {
   "cell_type": "code",
   "execution_count": 8,
   "metadata": {},
   "outputs": [],
   "source": [
    "citations.drop(114929, axis=0, inplace=True) #dropping this row from dataframe because it contains mostly null values"
   ]
  },
  {
   "cell_type": "code",
   "execution_count": 9,
   "metadata": {},
   "outputs": [],
   "source": [
    "index=[]\n",
    "for i in range(len(citations)):\n",
    "    index.append(i)\n",
    "citations.insert(0, \"Index\", index, False)\n",
    "citations.set_index('Index', inplace=True)\n",
    "#resetting the index after dropping the row with the null values"
   ]
  },
  {
   "cell_type": "markdown",
   "metadata": {},
   "source": [
    "While looking at the Date/Time column, I saw that the years were marked as '0019', and '0020' instead of '2019' and '2020' so I replaced the original year values with '2019' and '2020.' I also split up the Date/Time column to two separate columns to be able to group the data by date and time more easily."
   ]
  },
  {
   "cell_type": "code",
   "execution_count": 10,
   "metadata": {},
   "outputs": [],
   "source": [
    "dates=[] #putting all date values from citation data into list so that there could be a separate column for dates\n",
    "for date in citations['Date/Time']:\n",
    "    date=str(date)\n",
    "    dt=date[0:10]\n",
    "    if dt[6:10]=='0019': #replacing '0019' year values with '2019' to make it easier to convert this column to datetime\n",
    "        dte=dt[0:6]+'2019'\n",
    "        dates.append(dte)\n",
    "    elif dt[6:10]=='0020': #replacing '0020' year values with '2020' to make it easier to convert this column to datetime\n",
    "        dte=dt[0:6]+'2020'\n",
    "        dates.append(dte)"
   ]
  },
  {
   "cell_type": "markdown",
   "metadata": {},
   "source": [
    "The times in the Date/Time column were not in military time, so I converted them to military time so that I could more easily compare the crash and citation data."
   ]
  },
  {
   "cell_type": "code",
   "execution_count": 11,
   "metadata": {},
   "outputs": [],
   "source": [
    "times=[] #putting all time values from citation data into list that there could be a separate column for times\n",
    "for time in citations['Date/Time']:\n",
    "    time=str(time)\n",
    "    tm=time[11:22]\n",
    "    if tm[:2]=='12': #in military time 12:00AM is shown 0:00 and 12:00PM is 12:00, so I wanted a separate loop for hour 12 because if I added 12 to 12:00PM, the result would be over 24 hours which is not accurate\n",
    "        if tm[9:11]=='AM':\n",
    "            hr=int(tm[0:2])-12\n",
    "            t=str(hr)+tm[2:8]\n",
    "            times.append(t)\n",
    "        elif tm[9:11]=='PM':\n",
    "            times.append(tm[0:8])\n",
    "    elif tm[9:11]=='AM': \n",
    "        times.append(tm[0:8])\n",
    "    elif tm[9:11]=='PM': \n",
    "        hr=int(tm[0:2])+12 #adding 12 to evening times to convert times to military times\n",
    "        t=str(hr)+tm[2:8]\n",
    "        times.append(t)"
   ]
  },
  {
   "cell_type": "code",
   "execution_count": 12,
   "metadata": {},
   "outputs": [],
   "source": [
    "citations.insert(2, \"Dates\", dates, False) #inserting date list as column in citation dataframe\n",
    "citations.insert(2, \"Times\", times, False) #inserting time list as column in citation dataframe"
   ]
  },
  {
   "cell_type": "code",
   "execution_count": 13,
   "metadata": {},
   "outputs": [],
   "source": [
    "citations['Dates']=pd.to_datetime(citations['Dates']).dt.date \n",
    "#converting 'Dates' columns into datetime.date"
   ]
  },
  {
   "cell_type": "code",
   "execution_count": 14,
   "metadata": {},
   "outputs": [
    {
     "name": "stdout",
     "output_type": "stream",
     "text": [
      "Min Citation Date:  2019-07-03 Max Citation Date:  2020-07-02\n"
     ]
    }
   ],
   "source": [
    "print('Min Citation Date: ', citations['Dates'].min(), 'Max Citation Date: ', citations['Dates'].max())"
   ]
  },
  {
   "cell_type": "code",
   "execution_count": 15,
   "metadata": {},
   "outputs": [],
   "source": [
    "citations['Times']=pd.to_datetime(citations['Times'], format='%H:%M:%S').dt.time\n",
    "#converting Times to datetime.time"
   ]
  },
  {
   "cell_type": "code",
   "execution_count": 16,
   "metadata": {},
   "outputs": [
    {
     "name": "stdout",
     "output_type": "stream",
     "text": [
      "Min Citation Time:  05:50:00 Max Citation Time:  21:58:00\n"
     ]
    }
   ],
   "source": [
    "print('Min Citation Time: ', citations['Times'].min(), 'Max Citation Time: ', citations['Times'].max())"
   ]
  },
  {
   "cell_type": "code",
   "execution_count": 17,
   "metadata": {},
   "outputs": [
    {
     "data": {
      "text/html": [
       "<div>\n",
       "<style scoped>\n",
       "    .dataframe tbody tr th:only-of-type {\n",
       "        vertical-align: middle;\n",
       "    }\n",
       "\n",
       "    .dataframe tbody tr th {\n",
       "        vertical-align: top;\n",
       "    }\n",
       "\n",
       "    .dataframe thead th {\n",
       "        text-align: right;\n",
       "    }\n",
       "</style>\n",
       "<table border=\"1\" class=\"dataframe\">\n",
       "  <thead>\n",
       "    <tr style=\"text-align: right;\">\n",
       "      <th></th>\n",
       "      <th>Ticket Number</th>\n",
       "      <th>Date/Time</th>\n",
       "      <th>Times</th>\n",
       "      <th>Dates</th>\n",
       "      <th>Parking Division</th>\n",
       "      <th>Ticket Location</th>\n",
       "      <th>Meter</th>\n",
       "      <th>Violation Code</th>\n",
       "      <th>Violation Description</th>\n",
       "      <th>Plate Year</th>\n",
       "      <th>Vehicle Make</th>\n",
       "      <th>Plate Month</th>\n",
       "      <th>Vehicle Type</th>\n",
       "      <th>Vehicle Color</th>\n",
       "      <th>Remarks</th>\n",
       "      <th>Issuing Agency</th>\n",
       "    </tr>\n",
       "    <tr>\n",
       "      <th>Index</th>\n",
       "      <th></th>\n",
       "      <th></th>\n",
       "      <th></th>\n",
       "      <th></th>\n",
       "      <th></th>\n",
       "      <th></th>\n",
       "      <th></th>\n",
       "      <th></th>\n",
       "      <th></th>\n",
       "      <th></th>\n",
       "      <th></th>\n",
       "      <th></th>\n",
       "      <th></th>\n",
       "      <th></th>\n",
       "      <th></th>\n",
       "      <th></th>\n",
       "    </tr>\n",
       "  </thead>\n",
       "  <tbody>\n",
       "    <tr>\n",
       "      <th>0</th>\n",
       "      <td>407607690</td>\n",
       "      <td>08/26/0019 01:41:00 PM</td>\n",
       "      <td>13:41:00</td>\n",
       "      <td>2019-08-26</td>\n",
       "      <td>2</td>\n",
       "      <td>8100 NORFOLK AVE</td>\n",
       "      <td>1104302</td>\n",
       "      <td>50.0</td>\n",
       "      <td>EXPIRED PRKG METER</td>\n",
       "      <td>2021</td>\n",
       "      <td>SUBA</td>\n",
       "      <td>9.0</td>\n",
       "      <td>4D</td>\n",
       "      <td>WH</td>\n",
       "      <td>2 HR PARKING</td>\n",
       "      <td>DOT</td>\n",
       "    </tr>\n",
       "    <tr>\n",
       "      <th>1</th>\n",
       "      <td>407556122</td>\n",
       "      <td>08/15/0019 05:07:00 PM</td>\n",
       "      <td>17:07:00</td>\n",
       "      <td>2019-08-15</td>\n",
       "      <td>2</td>\n",
       "      <td>G40-4935 ST ELMO AVE</td>\n",
       "      <td>3400323</td>\n",
       "      <td>50.0</td>\n",
       "      <td>EXPIRED PRKG METER</td>\n",
       "      <td>2019</td>\n",
       "      <td>TESL</td>\n",
       "      <td>10.0</td>\n",
       "      <td>4D</td>\n",
       "      <td>RE</td>\n",
       "      <td>4 HR PARKING</td>\n",
       "      <td>DOT</td>\n",
       "    </tr>\n",
       "    <tr>\n",
       "      <th>2</th>\n",
       "      <td>407841700</td>\n",
       "      <td>10/18/0019 09:25:00 AM</td>\n",
       "      <td>09:25:00</td>\n",
       "      <td>2019-10-18</td>\n",
       "      <td>8</td>\n",
       "      <td>MEDICAL CENTER DR</td>\n",
       "      <td>1601887</td>\n",
       "      <td>50.0</td>\n",
       "      <td>EXPIRED PRKG METER</td>\n",
       "      <td>2019</td>\n",
       "      <td>BMW</td>\n",
       "      <td>10.0</td>\n",
       "      <td>4D</td>\n",
       "      <td>GY</td>\n",
       "      <td>12 HR PARKING</td>\n",
       "      <td>DOT</td>\n",
       "    </tr>\n",
       "    <tr>\n",
       "      <th>3</th>\n",
       "      <td>407344663</td>\n",
       "      <td>07/08/0019 10:47:00 AM</td>\n",
       "      <td>10:47:00</td>\n",
       "      <td>2019-07-08</td>\n",
       "      <td>2</td>\n",
       "      <td>4800 HAMPDEN LN</td>\n",
       "      <td>1103032</td>\n",
       "      <td>50.0</td>\n",
       "      <td>EXPIRED PRKG METER</td>\n",
       "      <td>2020</td>\n",
       "      <td>FORD</td>\n",
       "      <td>2.0</td>\n",
       "      <td>4D</td>\n",
       "      <td>WH</td>\n",
       "      <td>1 HR PARKING</td>\n",
       "      <td>DOT</td>\n",
       "    </tr>\n",
       "    <tr>\n",
       "      <th>4</th>\n",
       "      <td>407645910</td>\n",
       "      <td>09/02/0019 10:56:00 AM</td>\n",
       "      <td>10:56:00</td>\n",
       "      <td>2019-09-02</td>\n",
       "      <td>2</td>\n",
       "      <td>7000 WISCONSIN AVE</td>\n",
       "      <td>1105612</td>\n",
       "      <td>50.0</td>\n",
       "      <td>EXPIRED PRKG METER</td>\n",
       "      <td>2020</td>\n",
       "      <td>TOYT</td>\n",
       "      <td>10.0</td>\n",
       "      <td>4D</td>\n",
       "      <td>SI</td>\n",
       "      <td>1 HR PARKING</td>\n",
       "      <td>DOT</td>\n",
       "    </tr>\n",
       "    <tr>\n",
       "      <th>...</th>\n",
       "      <td>...</td>\n",
       "      <td>...</td>\n",
       "      <td>...</td>\n",
       "      <td>...</td>\n",
       "      <td>...</td>\n",
       "      <td>...</td>\n",
       "      <td>...</td>\n",
       "      <td>...</td>\n",
       "      <td>...</td>\n",
       "      <td>...</td>\n",
       "      <td>...</td>\n",
       "      <td>...</td>\n",
       "      <td>...</td>\n",
       "      <td>...</td>\n",
       "      <td>...</td>\n",
       "      <td>...</td>\n",
       "    </tr>\n",
       "    <tr>\n",
       "      <th>127125</th>\n",
       "      <td>408114814</td>\n",
       "      <td>12/15/0019 04:18:00 PM</td>\n",
       "      <td>16:18:00</td>\n",
       "      <td>2019-12-15</td>\n",
       "      <td>3</td>\n",
       "      <td>800 ROEDER RD</td>\n",
       "      <td>1207011</td>\n",
       "      <td>50.0</td>\n",
       "      <td>EXPIRED PRKG METER</td>\n",
       "      <td>2020</td>\n",
       "      <td>VOLK</td>\n",
       "      <td>3.0</td>\n",
       "      <td>4D</td>\n",
       "      <td>SI</td>\n",
       "      <td>2 HR PARKING</td>\n",
       "      <td>DOT</td>\n",
       "    </tr>\n",
       "    <tr>\n",
       "      <th>127126</th>\n",
       "      <td>407392871</td>\n",
       "      <td>07/12/0019 06:12:00 PM</td>\n",
       "      <td>18:12:00</td>\n",
       "      <td>2019-07-12</td>\n",
       "      <td>8A</td>\n",
       "      <td>11815 GRAND PARK AVE</td>\n",
       "      <td>NaN</td>\n",
       "      <td>35.0</td>\n",
       "      <td>VIOLATION OFFICIAL SIGN  ON STREET</td>\n",
       "      <td>2019</td>\n",
       "      <td>HOND</td>\n",
       "      <td>10.0</td>\n",
       "      <td>4D</td>\n",
       "      <td>GY</td>\n",
       "      <td>NO PARKING 5 PM - 12 AM/. SIGNS POSTED</td>\n",
       "      <td>DOT</td>\n",
       "    </tr>\n",
       "    <tr>\n",
       "      <th>127127</th>\n",
       "      <td>407777322</td>\n",
       "      <td>10/04/0019 06:14:00 PM</td>\n",
       "      <td>18:14:00</td>\n",
       "      <td>2019-10-04</td>\n",
       "      <td>3</td>\n",
       "      <td>G2-8700 CAMERON ST</td>\n",
       "      <td>3021058</td>\n",
       "      <td>50.0</td>\n",
       "      <td>EXPIRED PRKG METER</td>\n",
       "      <td>2019</td>\n",
       "      <td>NISS</td>\n",
       "      <td>1.0</td>\n",
       "      <td>SU</td>\n",
       "      <td>WH</td>\n",
       "      <td>2 HR PARKING</td>\n",
       "      <td>DOT</td>\n",
       "    </tr>\n",
       "    <tr>\n",
       "      <th>127128</th>\n",
       "      <td>408161364</td>\n",
       "      <td>12/28/0019 12:39:00 PM</td>\n",
       "      <td>12:39:00</td>\n",
       "      <td>2019-12-28</td>\n",
       "      <td>2</td>\n",
       "      <td>L24-4601 LELAND ST</td>\n",
       "      <td>2240108</td>\n",
       "      <td>50.0</td>\n",
       "      <td>EXPIRED PRKG METER</td>\n",
       "      <td>2021</td>\n",
       "      <td>HOND</td>\n",
       "      <td>5.0</td>\n",
       "      <td>4D</td>\n",
       "      <td>SI</td>\n",
       "      <td>2 HR PARKING</td>\n",
       "      <td>DOT</td>\n",
       "    </tr>\n",
       "    <tr>\n",
       "      <th>127129</th>\n",
       "      <td>408115842</td>\n",
       "      <td>12/15/0019 06:08:00 PM</td>\n",
       "      <td>18:08:00</td>\n",
       "      <td>2019-12-15</td>\n",
       "      <td>2</td>\n",
       "      <td>4800 BETHESDA AVE</td>\n",
       "      <td>1101332</td>\n",
       "      <td>50.0</td>\n",
       "      <td>EXPIRED PRKG METER</td>\n",
       "      <td>2021</td>\n",
       "      <td>SUBA</td>\n",
       "      <td>1.0</td>\n",
       "      <td>SU</td>\n",
       "      <td>WH</td>\n",
       "      <td>1 HR PARKING</td>\n",
       "      <td>DOT</td>\n",
       "    </tr>\n",
       "  </tbody>\n",
       "</table>\n",
       "<p>127130 rows × 16 columns</p>\n",
       "</div>"
      ],
      "text/plain": [
       "        Ticket Number               Date/Time     Times       Dates  \\\n",
       "Index                                                                 \n",
       "0           407607690  08/26/0019 01:41:00 PM  13:41:00  2019-08-26   \n",
       "1           407556122  08/15/0019 05:07:00 PM  17:07:00  2019-08-15   \n",
       "2           407841700  10/18/0019 09:25:00 AM  09:25:00  2019-10-18   \n",
       "3           407344663  07/08/0019 10:47:00 AM  10:47:00  2019-07-08   \n",
       "4           407645910  09/02/0019 10:56:00 AM  10:56:00  2019-09-02   \n",
       "...               ...                     ...       ...         ...   \n",
       "127125      408114814  12/15/0019 04:18:00 PM  16:18:00  2019-12-15   \n",
       "127126      407392871  07/12/0019 06:12:00 PM  18:12:00  2019-07-12   \n",
       "127127      407777322  10/04/0019 06:14:00 PM  18:14:00  2019-10-04   \n",
       "127128      408161364  12/28/0019 12:39:00 PM  12:39:00  2019-12-28   \n",
       "127129      408115842  12/15/0019 06:08:00 PM  18:08:00  2019-12-15   \n",
       "\n",
       "       Parking Division       Ticket Location    Meter  Violation Code  \\\n",
       "Index                                                                    \n",
       "0                     2      8100 NORFOLK AVE  1104302            50.0   \n",
       "1                     2  G40-4935 ST ELMO AVE  3400323            50.0   \n",
       "2                     8     MEDICAL CENTER DR  1601887            50.0   \n",
       "3                     2       4800 HAMPDEN LN  1103032            50.0   \n",
       "4                     2    7000 WISCONSIN AVE  1105612            50.0   \n",
       "...                 ...                   ...      ...             ...   \n",
       "127125                3         800 ROEDER RD  1207011            50.0   \n",
       "127126               8A  11815 GRAND PARK AVE      NaN            35.0   \n",
       "127127                3    G2-8700 CAMERON ST  3021058            50.0   \n",
       "127128                2    L24-4601 LELAND ST  2240108            50.0   \n",
       "127129                2     4800 BETHESDA AVE  1101332            50.0   \n",
       "\n",
       "                     Violation Description Plate Year Vehicle Make  \\\n",
       "Index                                                                \n",
       "0                       EXPIRED PRKG METER       2021         SUBA   \n",
       "1                       EXPIRED PRKG METER       2019         TESL   \n",
       "2                       EXPIRED PRKG METER       2019          BMW   \n",
       "3                       EXPIRED PRKG METER       2020         FORD   \n",
       "4                       EXPIRED PRKG METER       2020         TOYT   \n",
       "...                                    ...        ...          ...   \n",
       "127125                  EXPIRED PRKG METER       2020         VOLK   \n",
       "127126  VIOLATION OFFICIAL SIGN  ON STREET       2019         HOND   \n",
       "127127                  EXPIRED PRKG METER       2019         NISS   \n",
       "127128                  EXPIRED PRKG METER       2021         HOND   \n",
       "127129                  EXPIRED PRKG METER       2021         SUBA   \n",
       "\n",
       "        Plate Month Vehicle Type Vehicle Color  \\\n",
       "Index                                            \n",
       "0               9.0           4D            WH   \n",
       "1              10.0           4D            RE   \n",
       "2              10.0           4D            GY   \n",
       "3               2.0           4D            WH   \n",
       "4              10.0           4D            SI   \n",
       "...             ...          ...           ...   \n",
       "127125          3.0           4D            SI   \n",
       "127126         10.0           4D            GY   \n",
       "127127          1.0           SU            WH   \n",
       "127128          5.0           4D            SI   \n",
       "127129          1.0           SU            WH   \n",
       "\n",
       "                                       Remarks Issuing Agency  \n",
       "Index                                                          \n",
       "0                                 2 HR PARKING            DOT  \n",
       "1                                 4 HR PARKING            DOT  \n",
       "2                                12 HR PARKING            DOT  \n",
       "3                                 1 HR PARKING            DOT  \n",
       "4                                 1 HR PARKING            DOT  \n",
       "...                                        ...            ...  \n",
       "127125                            2 HR PARKING            DOT  \n",
       "127126  NO PARKING 5 PM - 12 AM/. SIGNS POSTED            DOT  \n",
       "127127                            2 HR PARKING            DOT  \n",
       "127128                            2 HR PARKING            DOT  \n",
       "127129                            1 HR PARKING            DOT  \n",
       "\n",
       "[127130 rows x 16 columns]"
      ]
     },
     "execution_count": 17,
     "metadata": {},
     "output_type": "execute_result"
    }
   ],
   "source": [
    "citations"
   ]
  },
  {
   "cell_type": "markdown",
   "metadata": {},
   "source": [
    "### Dataset 2: Maryland Crash Data"
   ]
  },
  {
   "cell_type": "code",
   "execution_count": 18,
   "metadata": {},
   "outputs": [],
   "source": [
    "crashdata=pd.read_csv('https://opendata.maryland.gov/api/views/65du-s3qu/rows.csv?accessType=DOWNLOAD', engine='python') \n",
    "#downloading Maryland Crash Data from January 2015 to June 2020 and loading it into dataframe"
   ]
  },
  {
   "cell_type": "code",
   "execution_count": 19,
   "metadata": {},
   "outputs": [
    {
     "data": {
      "text/html": [
       "<div>\n",
       "<style scoped>\n",
       "    .dataframe tbody tr th:only-of-type {\n",
       "        vertical-align: middle;\n",
       "    }\n",
       "\n",
       "    .dataframe tbody tr th {\n",
       "        vertical-align: top;\n",
       "    }\n",
       "\n",
       "    .dataframe thead th {\n",
       "        text-align: right;\n",
       "    }\n",
       "</style>\n",
       "<table border=\"1\" class=\"dataframe\">\n",
       "  <thead>\n",
       "    <tr style=\"text-align: right;\">\n",
       "      <th></th>\n",
       "      <th>YEAR</th>\n",
       "      <th>QUARTER</th>\n",
       "      <th>LIGHT_DESC</th>\n",
       "      <th>LIGHT_CODE</th>\n",
       "      <th>COUNTY_DESC</th>\n",
       "      <th>COUNTY_NO</th>\n",
       "      <th>MUNI_DESC</th>\n",
       "      <th>MUNI_CODE</th>\n",
       "      <th>JUNCTION_DESC</th>\n",
       "      <th>JUNCTION_CODE</th>\n",
       "      <th>COLLISION_TYPE_DESC</th>\n",
       "      <th>COLLISION_TYPE_CODE</th>\n",
       "      <th>SURF_COND_DESC</th>\n",
       "      <th>SURF_COND_CODE</th>\n",
       "      <th>LANE_DESC</th>\n",
       "      <th>LANE_CODE</th>\n",
       "      <th>RD_COND_DESC</th>\n",
       "      <th>RD_COND_CODE</th>\n",
       "      <th>RD_DIV_DESC</th>\n",
       "      <th>RD_DIV_CODE</th>\n",
       "      <th>FIX_OBJ_DESC</th>\n",
       "      <th>FIX_OBJ_CODE</th>\n",
       "      <th>REPORT_NO</th>\n",
       "      <th>REPORT_TYPE</th>\n",
       "      <th>WEATHER_DESC</th>\n",
       "      <th>WEATHER_CODE</th>\n",
       "      <th>ACC_DATE</th>\n",
       "      <th>ACC_TIME</th>\n",
       "      <th>LOC_CODE</th>\n",
       "      <th>SIGNAL_FLAG_DESC</th>\n",
       "      <th>SIGNAL_FLAG</th>\n",
       "      <th>C_M_ZONE_FLAG</th>\n",
       "      <th>AGENCY_CODE</th>\n",
       "      <th>AREA_CODE</th>\n",
       "      <th>HARM_EVENT_DESC1</th>\n",
       "      <th>HARM_EVENT_CODE1</th>\n",
       "      <th>HARM_EVENT_DESC2</th>\n",
       "      <th>HARM_EVENT_CODE2</th>\n",
       "      <th>RTE_NO</th>\n",
       "      <th>ROUTE_TYPE_CODE</th>\n",
       "      <th>RTE_SUFFIX</th>\n",
       "      <th>LOG_MILE</th>\n",
       "      <th>LOGMILE_DIR_FLAG_DESC</th>\n",
       "      <th>LOGMILE_DIR_FLAG</th>\n",
       "      <th>MAINROAD_NAME</th>\n",
       "      <th>DISTANCE</th>\n",
       "      <th>FEET_MILES_FLAG_DESC</th>\n",
       "      <th>FEET_MILES_FLAG</th>\n",
       "      <th>DISTANCE_DIR_FLAG</th>\n",
       "      <th>REFERENCE_NO</th>\n",
       "      <th>REFERENCE_TYPE_CODE</th>\n",
       "      <th>REFERENCE_SUFFIX</th>\n",
       "      <th>REFERENCE_ROAD_NAME</th>\n",
       "      <th>LATITUDE</th>\n",
       "      <th>LONGITUDE</th>\n",
       "      <th>LOCATION</th>\n",
       "    </tr>\n",
       "  </thead>\n",
       "  <tbody>\n",
       "    <tr>\n",
       "      <th>0</th>\n",
       "      <td>2020</td>\n",
       "      <td>Q2</td>\n",
       "      <td>Daylight</td>\n",
       "      <td>1.00</td>\n",
       "      <td>Baltimore</td>\n",
       "      <td>3.0</td>\n",
       "      <td>NaN</td>\n",
       "      <td>NaN</td>\n",
       "      <td>NaN</td>\n",
       "      <td>NaN</td>\n",
       "      <td>Other</td>\n",
       "      <td>88</td>\n",
       "      <td>NaN</td>\n",
       "      <td>NaN</td>\n",
       "      <td>NaN</td>\n",
       "      <td>NaN</td>\n",
       "      <td>NaN</td>\n",
       "      <td>NaN</td>\n",
       "      <td>NaN</td>\n",
       "      <td>NaN</td>\n",
       "      <td>Not Applicable</td>\n",
       "      <td>0.0</td>\n",
       "      <td>AE58770052</td>\n",
       "      <td>Property Damage Crash</td>\n",
       "      <td>Not Applicable</td>\n",
       "      <td>0.00</td>\n",
       "      <td>20200618</td>\n",
       "      <td>15:15:00</td>\n",
       "      <td>NaN</td>\n",
       "      <td>No</td>\n",
       "      <td>N</td>\n",
       "      <td>N</td>\n",
       "      <td>BACOPD</td>\n",
       "      <td>UNK</td>\n",
       "      <td>Parked Vehicle</td>\n",
       "      <td>2.0</td>\n",
       "      <td>Not Applicable</td>\n",
       "      <td>0.0</td>\n",
       "      <td>NaN</td>\n",
       "      <td>NaN</td>\n",
       "      <td>NaN</td>\n",
       "      <td>NaN</td>\n",
       "      <td>NaN</td>\n",
       "      <td>NaN</td>\n",
       "      <td>NaN</td>\n",
       "      <td>NaN</td>\n",
       "      <td>NaN</td>\n",
       "      <td>NaN</td>\n",
       "      <td>NaN</td>\n",
       "      <td>NaN</td>\n",
       "      <td>NaN</td>\n",
       "      <td>NaN</td>\n",
       "      <td>NaN</td>\n",
       "      <td>39.277263</td>\n",
       "      <td>-76.503693</td>\n",
       "      <td>POINT (-76.5036932 39.27726285)</td>\n",
       "    </tr>\n",
       "    <tr>\n",
       "      <th>1</th>\n",
       "      <td>2020</td>\n",
       "      <td>Q2</td>\n",
       "      <td>NaN</td>\n",
       "      <td>6.02</td>\n",
       "      <td>Baltimore City</td>\n",
       "      <td>24.0</td>\n",
       "      <td>NaN</td>\n",
       "      <td>NaN</td>\n",
       "      <td>Non Intersection</td>\n",
       "      <td>1.0</td>\n",
       "      <td>Other</td>\n",
       "      <td>88</td>\n",
       "      <td>Dry</td>\n",
       "      <td>2.0</td>\n",
       "      <td>Left Turn Lane</td>\n",
       "      <td>2.0</td>\n",
       "      <td>No Defects</td>\n",
       "      <td>1.0</td>\n",
       "      <td>One-way Trafficway</td>\n",
       "      <td>2.0</td>\n",
       "      <td>Other Pole</td>\n",
       "      <td>10.0</td>\n",
       "      <td>ADJ984001J</td>\n",
       "      <td>Injury Crash</td>\n",
       "      <td>NaN</td>\n",
       "      <td>7.01</td>\n",
       "      <td>20200430</td>\n",
       "      <td>06:39:00</td>\n",
       "      <td>1003</td>\n",
       "      <td>Yes</td>\n",
       "      <td>Y</td>\n",
       "      <td>N</td>\n",
       "      <td>BALTIMORE</td>\n",
       "      <td>UNK</td>\n",
       "      <td>Other Vehicle</td>\n",
       "      <td>1.0</td>\n",
       "      <td>Other Vehicle</td>\n",
       "      <td>1.0</td>\n",
       "      <td>NaN</td>\n",
       "      <td>NaN</td>\n",
       "      <td>NaN</td>\n",
       "      <td>0.000</td>\n",
       "      <td>NaN</td>\n",
       "      <td>NaN</td>\n",
       "      <td>CHARLES STREET</td>\n",
       "      <td>2.00</td>\n",
       "      <td>Miles</td>\n",
       "      <td>M</td>\n",
       "      <td>N</td>\n",
       "      <td>NaN</td>\n",
       "      <td>NaN</td>\n",
       "      <td>NaN</td>\n",
       "      <td>NORTH AVE</td>\n",
       "      <td>39.311025</td>\n",
       "      <td>-76.616429</td>\n",
       "      <td>POINT (-76.616429453205 39.311024794431)</td>\n",
       "    </tr>\n",
       "    <tr>\n",
       "      <th>2</th>\n",
       "      <td>2020</td>\n",
       "      <td>Q2</td>\n",
       "      <td>Daylight</td>\n",
       "      <td>1.00</td>\n",
       "      <td>Montgomery</td>\n",
       "      <td>15.0</td>\n",
       "      <td>NaN</td>\n",
       "      <td>NaN</td>\n",
       "      <td>NaN</td>\n",
       "      <td>NaN</td>\n",
       "      <td>Other</td>\n",
       "      <td>88</td>\n",
       "      <td>NaN</td>\n",
       "      <td>NaN</td>\n",
       "      <td>NaN</td>\n",
       "      <td>NaN</td>\n",
       "      <td>NaN</td>\n",
       "      <td>NaN</td>\n",
       "      <td>NaN</td>\n",
       "      <td>NaN</td>\n",
       "      <td>Not Applicable</td>\n",
       "      <td>0.0</td>\n",
       "      <td>EJ7878001D</td>\n",
       "      <td>Injury Crash</td>\n",
       "      <td>NaN</td>\n",
       "      <td>6.01</td>\n",
       "      <td>20200504</td>\n",
       "      <td>09:46:00</td>\n",
       "      <td>54222</td>\n",
       "      <td>No</td>\n",
       "      <td>N</td>\n",
       "      <td>N</td>\n",
       "      <td>GAITHERSBURG</td>\n",
       "      <td>UNK</td>\n",
       "      <td>Pedestrian</td>\n",
       "      <td>3.0</td>\n",
       "      <td>Not Applicable</td>\n",
       "      <td>0.0</td>\n",
       "      <td>NaN</td>\n",
       "      <td>NaN</td>\n",
       "      <td>NaN</td>\n",
       "      <td>NaN</td>\n",
       "      <td>NaN</td>\n",
       "      <td>NaN</td>\n",
       "      <td>NaN</td>\n",
       "      <td>NaN</td>\n",
       "      <td>NaN</td>\n",
       "      <td>NaN</td>\n",
       "      <td>NaN</td>\n",
       "      <td>NaN</td>\n",
       "      <td>NaN</td>\n",
       "      <td>NaN</td>\n",
       "      <td>NaN</td>\n",
       "      <td>39.140680</td>\n",
       "      <td>-77.193413</td>\n",
       "      <td>POINT (-77.193412729561 39.140680249069)</td>\n",
       "    </tr>\n",
       "    <tr>\n",
       "      <th>3</th>\n",
       "      <td>2017</td>\n",
       "      <td>Q2</td>\n",
       "      <td>Daylight</td>\n",
       "      <td>1.00</td>\n",
       "      <td>Baltimore City</td>\n",
       "      <td>24.0</td>\n",
       "      <td>NaN</td>\n",
       "      <td>NaN</td>\n",
       "      <td>NaN</td>\n",
       "      <td>NaN</td>\n",
       "      <td>Single Vehicle</td>\n",
       "      <td>17</td>\n",
       "      <td>NaN</td>\n",
       "      <td>NaN</td>\n",
       "      <td>NaN</td>\n",
       "      <td>NaN</td>\n",
       "      <td>NaN</td>\n",
       "      <td>NaN</td>\n",
       "      <td>NaN</td>\n",
       "      <td>NaN</td>\n",
       "      <td>Not Applicable</td>\n",
       "      <td>0.0</td>\n",
       "      <td>ADI7910042</td>\n",
       "      <td>Injury Crash</td>\n",
       "      <td>Other</td>\n",
       "      <td>88.00</td>\n",
       "      <td>20170507</td>\n",
       "      <td>10:39:00</td>\n",
       "      <td>CAD#0830</td>\n",
       "      <td>Yes</td>\n",
       "      <td>Y</td>\n",
       "      <td>N</td>\n",
       "      <td>BALTIMORE</td>\n",
       "      <td>UNK</td>\n",
       "      <td>NaN</td>\n",
       "      <td>3.0</td>\n",
       "      <td>Not Applicable</td>\n",
       "      <td>0.0</td>\n",
       "      <td>NaN</td>\n",
       "      <td>NaN</td>\n",
       "      <td>NaN</td>\n",
       "      <td>NaN</td>\n",
       "      <td>NaN</td>\n",
       "      <td>NaN</td>\n",
       "      <td>NaN</td>\n",
       "      <td>NaN</td>\n",
       "      <td>NaN</td>\n",
       "      <td>NaN</td>\n",
       "      <td>NaN</td>\n",
       "      <td>NaN</td>\n",
       "      <td>NaN</td>\n",
       "      <td>NaN</td>\n",
       "      <td>NaN</td>\n",
       "      <td>39.282928</td>\n",
       "      <td>-76.635215</td>\n",
       "      <td>POINT (-76.6352150952347 39.2829284750108)</td>\n",
       "    </tr>\n",
       "    <tr>\n",
       "      <th>4</th>\n",
       "      <td>2020</td>\n",
       "      <td>Q2</td>\n",
       "      <td>Daylight</td>\n",
       "      <td>1.00</td>\n",
       "      <td>Cecil</td>\n",
       "      <td>7.0</td>\n",
       "      <td>NaN</td>\n",
       "      <td>NaN</td>\n",
       "      <td>NaN</td>\n",
       "      <td>NaN</td>\n",
       "      <td>Same Direction Rear End</td>\n",
       "      <td>3</td>\n",
       "      <td>NaN</td>\n",
       "      <td>NaN</td>\n",
       "      <td>NaN</td>\n",
       "      <td>NaN</td>\n",
       "      <td>NaN</td>\n",
       "      <td>NaN</td>\n",
       "      <td>NaN</td>\n",
       "      <td>NaN</td>\n",
       "      <td>Not Applicable</td>\n",
       "      <td>0.0</td>\n",
       "      <td>MSP6709008R</td>\n",
       "      <td>Property Damage Crash</td>\n",
       "      <td>NaN</td>\n",
       "      <td>6.01</td>\n",
       "      <td>20200414</td>\n",
       "      <td>17:32:00</td>\n",
       "      <td>NaN</td>\n",
       "      <td>No</td>\n",
       "      <td>N</td>\n",
       "      <td>N</td>\n",
       "      <td>MSP</td>\n",
       "      <td>UNK</td>\n",
       "      <td>Other Vehicle</td>\n",
       "      <td>1.0</td>\n",
       "      <td>Not Applicable</td>\n",
       "      <td>0.0</td>\n",
       "      <td>NaN</td>\n",
       "      <td>NaN</td>\n",
       "      <td>NaN</td>\n",
       "      <td>NaN</td>\n",
       "      <td>NaN</td>\n",
       "      <td>NaN</td>\n",
       "      <td>NaN</td>\n",
       "      <td>NaN</td>\n",
       "      <td>NaN</td>\n",
       "      <td>NaN</td>\n",
       "      <td>NaN</td>\n",
       "      <td>NaN</td>\n",
       "      <td>NaN</td>\n",
       "      <td>NaN</td>\n",
       "      <td>NaN</td>\n",
       "      <td>39.611028</td>\n",
       "      <td>-75.951314</td>\n",
       "      <td>POINT (-75.951314 39.611027833333)</td>\n",
       "    </tr>\n",
       "    <tr>\n",
       "      <th>...</th>\n",
       "      <td>...</td>\n",
       "      <td>...</td>\n",
       "      <td>...</td>\n",
       "      <td>...</td>\n",
       "      <td>...</td>\n",
       "      <td>...</td>\n",
       "      <td>...</td>\n",
       "      <td>...</td>\n",
       "      <td>...</td>\n",
       "      <td>...</td>\n",
       "      <td>...</td>\n",
       "      <td>...</td>\n",
       "      <td>...</td>\n",
       "      <td>...</td>\n",
       "      <td>...</td>\n",
       "      <td>...</td>\n",
       "      <td>...</td>\n",
       "      <td>...</td>\n",
       "      <td>...</td>\n",
       "      <td>...</td>\n",
       "      <td>...</td>\n",
       "      <td>...</td>\n",
       "      <td>...</td>\n",
       "      <td>...</td>\n",
       "      <td>...</td>\n",
       "      <td>...</td>\n",
       "      <td>...</td>\n",
       "      <td>...</td>\n",
       "      <td>...</td>\n",
       "      <td>...</td>\n",
       "      <td>...</td>\n",
       "      <td>...</td>\n",
       "      <td>...</td>\n",
       "      <td>...</td>\n",
       "      <td>...</td>\n",
       "      <td>...</td>\n",
       "      <td>...</td>\n",
       "      <td>...</td>\n",
       "      <td>...</td>\n",
       "      <td>...</td>\n",
       "      <td>...</td>\n",
       "      <td>...</td>\n",
       "      <td>...</td>\n",
       "      <td>...</td>\n",
       "      <td>...</td>\n",
       "      <td>...</td>\n",
       "      <td>...</td>\n",
       "      <td>...</td>\n",
       "      <td>...</td>\n",
       "      <td>...</td>\n",
       "      <td>...</td>\n",
       "      <td>...</td>\n",
       "      <td>...</td>\n",
       "      <td>...</td>\n",
       "      <td>...</td>\n",
       "      <td>...</td>\n",
       "    </tr>\n",
       "    <tr>\n",
       "      <th>639937</th>\n",
       "      <td>2019</td>\n",
       "      <td>Q3</td>\n",
       "      <td>Daylight</td>\n",
       "      <td>1.00</td>\n",
       "      <td>Charles</td>\n",
       "      <td>8.0</td>\n",
       "      <td>NaN</td>\n",
       "      <td>0.0</td>\n",
       "      <td>Not Applicable</td>\n",
       "      <td>0.0</td>\n",
       "      <td>Same Direction Rear End</td>\n",
       "      <td>3</td>\n",
       "      <td>Dry</td>\n",
       "      <td>2.0</td>\n",
       "      <td>Right Turn Lane</td>\n",
       "      <td>1.0</td>\n",
       "      <td>No Defects</td>\n",
       "      <td>1.0</td>\n",
       "      <td>Two-way, Not Divided</td>\n",
       "      <td>1.0</td>\n",
       "      <td>Not Applicable</td>\n",
       "      <td>0.0</td>\n",
       "      <td>MDTA1582000H</td>\n",
       "      <td>Property Damage Crash</td>\n",
       "      <td>NaN</td>\n",
       "      <td>6.01</td>\n",
       "      <td>20190824</td>\n",
       "      <td>11:30:00</td>\n",
       "      <td>N09</td>\n",
       "      <td>No</td>\n",
       "      <td>N</td>\n",
       "      <td>N</td>\n",
       "      <td>MDTA</td>\n",
       "      <td>UNK</td>\n",
       "      <td>NaN</td>\n",
       "      <td>1.0</td>\n",
       "      <td>Other Vehicle</td>\n",
       "      <td>1.0</td>\n",
       "      <td>301.0</td>\n",
       "      <td>US</td>\n",
       "      <td>NaN</td>\n",
       "      <td>1.280</td>\n",
       "      <td>North</td>\n",
       "      <td>N</td>\n",
       "      <td>CRAIN HWY</td>\n",
       "      <td>0.22</td>\n",
       "      <td>NaN</td>\n",
       "      <td>M</td>\n",
       "      <td>N</td>\n",
       "      <td>0.0</td>\n",
       "      <td>UU</td>\n",
       "      <td>NaN</td>\n",
       "      <td>STRUC #CHZ301 POTOMAC RIVER</td>\n",
       "      <td>38.363845</td>\n",
       "      <td>-76.980606</td>\n",
       "      <td>POINT (-76.98060605635531 38.363845415321)</td>\n",
       "    </tr>\n",
       "    <tr>\n",
       "      <th>639938</th>\n",
       "      <td>2019</td>\n",
       "      <td>Q3</td>\n",
       "      <td>Daylight</td>\n",
       "      <td>1.00</td>\n",
       "      <td>Montgomery</td>\n",
       "      <td>15.0</td>\n",
       "      <td>NaN</td>\n",
       "      <td>63.0</td>\n",
       "      <td>Intersection</td>\n",
       "      <td>2.0</td>\n",
       "      <td>Head On Left Turn</td>\n",
       "      <td>2</td>\n",
       "      <td>Dry</td>\n",
       "      <td>2.0</td>\n",
       "      <td>NaN</td>\n",
       "      <td>NaN</td>\n",
       "      <td>No Defects</td>\n",
       "      <td>1.0</td>\n",
       "      <td>Two-way, Divided, Positive Median Barrier</td>\n",
       "      <td>4.0</td>\n",
       "      <td>Not Applicable</td>\n",
       "      <td>0.0</td>\n",
       "      <td>MCP1475002C</td>\n",
       "      <td>Injury Crash</td>\n",
       "      <td>NaN</td>\n",
       "      <td>6.01</td>\n",
       "      <td>20190922</td>\n",
       "      <td>10:00:00</td>\n",
       "      <td>54114</td>\n",
       "      <td>Yes</td>\n",
       "      <td>Y</td>\n",
       "      <td>N</td>\n",
       "      <td>MONTGOMERY</td>\n",
       "      <td>UNK</td>\n",
       "      <td>NaN</td>\n",
       "      <td>1.0</td>\n",
       "      <td>Not Applicable</td>\n",
       "      <td>0.0</td>\n",
       "      <td>340.0</td>\n",
       "      <td>MU</td>\n",
       "      <td>NaN</td>\n",
       "      <td>0.980</td>\n",
       "      <td>North</td>\n",
       "      <td>N</td>\n",
       "      <td>RUSSELL AVE</td>\n",
       "      <td>0.00</td>\n",
       "      <td>NaN</td>\n",
       "      <td>F</td>\n",
       "      <td>N</td>\n",
       "      <td>182.0</td>\n",
       "      <td>MU</td>\n",
       "      <td>NaN</td>\n",
       "      <td>LAKE FOREST BLVD</td>\n",
       "      <td>39.151418</td>\n",
       "      <td>-77.207443</td>\n",
       "      <td>POINT (-77.2074433333333 39.1514183333333)</td>\n",
       "    </tr>\n",
       "    <tr>\n",
       "      <th>639939</th>\n",
       "      <td>2016</td>\n",
       "      <td>Q2</td>\n",
       "      <td>Daylight</td>\n",
       "      <td>1.00</td>\n",
       "      <td>Baltimore</td>\n",
       "      <td>3.0</td>\n",
       "      <td>NaN</td>\n",
       "      <td>0.0</td>\n",
       "      <td>Non Intersection</td>\n",
       "      <td>1.0</td>\n",
       "      <td>Single Vehicle</td>\n",
       "      <td>17</td>\n",
       "      <td>Dry</td>\n",
       "      <td>2.0</td>\n",
       "      <td>NaN</td>\n",
       "      <td>NaN</td>\n",
       "      <td>No Defects</td>\n",
       "      <td>1.0</td>\n",
       "      <td>Two-way, Not Divided</td>\n",
       "      <td>1.0</td>\n",
       "      <td>Tree Shrubbery</td>\n",
       "      <td>11.0</td>\n",
       "      <td>AE5643000S</td>\n",
       "      <td>Property Damage Crash</td>\n",
       "      <td>NaN</td>\n",
       "      <td>6.01</td>\n",
       "      <td>20160510</td>\n",
       "      <td>06:09:00</td>\n",
       "      <td>PC01 114</td>\n",
       "      <td>No</td>\n",
       "      <td>N</td>\n",
       "      <td>N</td>\n",
       "      <td>BACOPD</td>\n",
       "      <td>UNK</td>\n",
       "      <td>NaN</td>\n",
       "      <td>9.0</td>\n",
       "      <td>Not Applicable</td>\n",
       "      <td>0.0</td>\n",
       "      <td>2937.0</td>\n",
       "      <td>CO</td>\n",
       "      <td>NaN</td>\n",
       "      <td>0.017</td>\n",
       "      <td>South</td>\n",
       "      <td>S</td>\n",
       "      <td>HILLTOP RD S</td>\n",
       "      <td>NaN</td>\n",
       "      <td>NaN</td>\n",
       "      <td>M</td>\n",
       "      <td>S</td>\n",
       "      <td>8746.0</td>\n",
       "      <td>CO</td>\n",
       "      <td>NaN</td>\n",
       "      <td>MORNING WALK DR</td>\n",
       "      <td>39.259988</td>\n",
       "      <td>-76.757913</td>\n",
       "      <td>POINT (-76.7579126358032 39.2599878865495)</td>\n",
       "    </tr>\n",
       "    <tr>\n",
       "      <th>639940</th>\n",
       "      <td>2018</td>\n",
       "      <td>Q4</td>\n",
       "      <td>Daylight</td>\n",
       "      <td>1.00</td>\n",
       "      <td>Baltimore</td>\n",
       "      <td>3.0</td>\n",
       "      <td>NaN</td>\n",
       "      <td>0.0</td>\n",
       "      <td>Non Intersection</td>\n",
       "      <td>1.0</td>\n",
       "      <td>Same Direction Left Turn</td>\n",
       "      <td>9</td>\n",
       "      <td>Dry</td>\n",
       "      <td>2.0</td>\n",
       "      <td>Left Turn Lane</td>\n",
       "      <td>2.0</td>\n",
       "      <td>No Defects</td>\n",
       "      <td>1.0</td>\n",
       "      <td>Two-way, Divided, Positive Median Barrier</td>\n",
       "      <td>4.0</td>\n",
       "      <td>Not Applicable</td>\n",
       "      <td>0.0</td>\n",
       "      <td>MSP6836008R</td>\n",
       "      <td>Property Damage Crash</td>\n",
       "      <td>Clear</td>\n",
       "      <td>6.01</td>\n",
       "      <td>20181016</td>\n",
       "      <td>09:59:00</td>\n",
       "      <td>NaN</td>\n",
       "      <td>No</td>\n",
       "      <td>N</td>\n",
       "      <td>N</td>\n",
       "      <td>MSP</td>\n",
       "      <td>UNK</td>\n",
       "      <td>NaN</td>\n",
       "      <td>1.0</td>\n",
       "      <td>Not Applicable</td>\n",
       "      <td>0.0</td>\n",
       "      <td>695.0</td>\n",
       "      <td>IS</td>\n",
       "      <td>NaN</td>\n",
       "      <td>7.200</td>\n",
       "      <td>North</td>\n",
       "      <td>N</td>\n",
       "      <td>BALTO BELTWAY</td>\n",
       "      <td>100.00</td>\n",
       "      <td>NaN</td>\n",
       "      <td>F</td>\n",
       "      <td>S</td>\n",
       "      <td>70.0</td>\n",
       "      <td>IS</td>\n",
       "      <td>NaN</td>\n",
       "      <td>NO NAME</td>\n",
       "      <td>39.298405</td>\n",
       "      <td>-76.742785</td>\n",
       "      <td>POINT (-76.742785 39.298405)</td>\n",
       "    </tr>\n",
       "    <tr>\n",
       "      <th>639941</th>\n",
       "      <td>2018</td>\n",
       "      <td>Q3</td>\n",
       "      <td>Dark No Lights</td>\n",
       "      <td>4.00</td>\n",
       "      <td>Prince George's</td>\n",
       "      <td>16.0</td>\n",
       "      <td>NaN</td>\n",
       "      <td>0.0</td>\n",
       "      <td>Not Applicable</td>\n",
       "      <td>0.0</td>\n",
       "      <td>Same Direction Rear End</td>\n",
       "      <td>3</td>\n",
       "      <td>Dry</td>\n",
       "      <td>2.0</td>\n",
       "      <td>Right Turn Lane</td>\n",
       "      <td>1.0</td>\n",
       "      <td>No Defects</td>\n",
       "      <td>1.0</td>\n",
       "      <td>Two-way, Divided, Positive Median Barrier</td>\n",
       "      <td>4.0</td>\n",
       "      <td>Not Applicable</td>\n",
       "      <td>0.0</td>\n",
       "      <td>DA31750026</td>\n",
       "      <td>Property Damage Crash</td>\n",
       "      <td>Clear</td>\n",
       "      <td>6.01</td>\n",
       "      <td>20180929</td>\n",
       "      <td>19:50:00</td>\n",
       "      <td>612</td>\n",
       "      <td>No</td>\n",
       "      <td>N</td>\n",
       "      <td>N</td>\n",
       "      <td>PGCOPD</td>\n",
       "      <td>UNK</td>\n",
       "      <td>NaN</td>\n",
       "      <td>1.0</td>\n",
       "      <td>Not Applicable</td>\n",
       "      <td>0.0</td>\n",
       "      <td>210.0</td>\n",
       "      <td>MD</td>\n",
       "      <td>NaN</td>\n",
       "      <td>10.540</td>\n",
       "      <td>North</td>\n",
       "      <td>N</td>\n",
       "      <td>INDIAN HEAD HWY</td>\n",
       "      <td>75.00</td>\n",
       "      <td>NaN</td>\n",
       "      <td>F</td>\n",
       "      <td>N</td>\n",
       "      <td>3645.0</td>\n",
       "      <td>CO</td>\n",
       "      <td>NaN</td>\n",
       "      <td>PALMER RD</td>\n",
       "      <td>38.767483</td>\n",
       "      <td>-76.994545</td>\n",
       "      <td>POINT (-76.9945445208878 38.7674834620352)</td>\n",
       "    </tr>\n",
       "  </tbody>\n",
       "</table>\n",
       "<p>639942 rows × 56 columns</p>\n",
       "</div>"
      ],
      "text/plain": [
       "        YEAR QUARTER      LIGHT_DESC  LIGHT_CODE      COUNTY_DESC  COUNTY_NO  \\\n",
       "0       2020      Q2        Daylight        1.00        Baltimore        3.0   \n",
       "1       2020      Q2             NaN        6.02   Baltimore City       24.0   \n",
       "2       2020      Q2        Daylight        1.00       Montgomery       15.0   \n",
       "3       2017      Q2        Daylight        1.00   Baltimore City       24.0   \n",
       "4       2020      Q2        Daylight        1.00            Cecil        7.0   \n",
       "...      ...     ...             ...         ...              ...        ...   \n",
       "639937  2019      Q3        Daylight        1.00          Charles        8.0   \n",
       "639938  2019      Q3        Daylight        1.00       Montgomery       15.0   \n",
       "639939  2016      Q2        Daylight        1.00        Baltimore        3.0   \n",
       "639940  2018      Q4        Daylight        1.00        Baltimore        3.0   \n",
       "639941  2018      Q3  Dark No Lights        4.00  Prince George's       16.0   \n",
       "\n",
       "        MUNI_DESC  MUNI_CODE     JUNCTION_DESC  JUNCTION_CODE  \\\n",
       "0             NaN        NaN               NaN            NaN   \n",
       "1             NaN        NaN  Non Intersection            1.0   \n",
       "2             NaN        NaN               NaN            NaN   \n",
       "3             NaN        NaN               NaN            NaN   \n",
       "4             NaN        NaN               NaN            NaN   \n",
       "...           ...        ...               ...            ...   \n",
       "639937        NaN        0.0    Not Applicable            0.0   \n",
       "639938        NaN       63.0      Intersection            2.0   \n",
       "639939        NaN        0.0  Non Intersection            1.0   \n",
       "639940        NaN        0.0  Non Intersection            1.0   \n",
       "639941        NaN        0.0    Not Applicable            0.0   \n",
       "\n",
       "             COLLISION_TYPE_DESC  COLLISION_TYPE_CODE SURF_COND_DESC  \\\n",
       "0                          Other                   88            NaN   \n",
       "1                          Other                   88            Dry   \n",
       "2                          Other                   88            NaN   \n",
       "3                 Single Vehicle                   17            NaN   \n",
       "4        Same Direction Rear End                    3            NaN   \n",
       "...                          ...                  ...            ...   \n",
       "639937   Same Direction Rear End                    3            Dry   \n",
       "639938         Head On Left Turn                    2            Dry   \n",
       "639939            Single Vehicle                   17            Dry   \n",
       "639940  Same Direction Left Turn                    9            Dry   \n",
       "639941   Same Direction Rear End                    3            Dry   \n",
       "\n",
       "        SURF_COND_CODE        LANE_DESC  LANE_CODE RD_COND_DESC  RD_COND_CODE  \\\n",
       "0                  NaN              NaN        NaN          NaN           NaN   \n",
       "1                  2.0   Left Turn Lane        2.0   No Defects           1.0   \n",
       "2                  NaN              NaN        NaN          NaN           NaN   \n",
       "3                  NaN              NaN        NaN          NaN           NaN   \n",
       "4                  NaN              NaN        NaN          NaN           NaN   \n",
       "...                ...              ...        ...          ...           ...   \n",
       "639937             2.0  Right Turn Lane        1.0   No Defects           1.0   \n",
       "639938             2.0              NaN        NaN   No Defects           1.0   \n",
       "639939             2.0              NaN        NaN   No Defects           1.0   \n",
       "639940             2.0   Left Turn Lane        2.0   No Defects           1.0   \n",
       "639941             2.0  Right Turn Lane        1.0   No Defects           1.0   \n",
       "\n",
       "                                      RD_DIV_DESC  RD_DIV_CODE  \\\n",
       "0                                             NaN          NaN   \n",
       "1                              One-way Trafficway          2.0   \n",
       "2                                             NaN          NaN   \n",
       "3                                             NaN          NaN   \n",
       "4                                             NaN          NaN   \n",
       "...                                           ...          ...   \n",
       "639937                       Two-way, Not Divided          1.0   \n",
       "639938  Two-way, Divided, Positive Median Barrier          4.0   \n",
       "639939                       Two-way, Not Divided          1.0   \n",
       "639940  Two-way, Divided, Positive Median Barrier          4.0   \n",
       "639941  Two-way, Divided, Positive Median Barrier          4.0   \n",
       "\n",
       "          FIX_OBJ_DESC  FIX_OBJ_CODE     REPORT_NO            REPORT_TYPE  \\\n",
       "0       Not Applicable           0.0    AE58770052  Property Damage Crash   \n",
       "1           Other Pole          10.0    ADJ984001J           Injury Crash   \n",
       "2       Not Applicable           0.0    EJ7878001D           Injury Crash   \n",
       "3       Not Applicable           0.0    ADI7910042           Injury Crash   \n",
       "4       Not Applicable           0.0   MSP6709008R  Property Damage Crash   \n",
       "...                ...           ...           ...                    ...   \n",
       "639937  Not Applicable           0.0  MDTA1582000H  Property Damage Crash   \n",
       "639938  Not Applicable           0.0   MCP1475002C           Injury Crash   \n",
       "639939  Tree Shrubbery          11.0    AE5643000S  Property Damage Crash   \n",
       "639940  Not Applicable           0.0   MSP6836008R  Property Damage Crash   \n",
       "639941  Not Applicable           0.0    DA31750026  Property Damage Crash   \n",
       "\n",
       "          WEATHER_DESC  WEATHER_CODE  ACC_DATE  ACC_TIME  LOC_CODE  \\\n",
       "0       Not Applicable          0.00  20200618  15:15:00       NaN   \n",
       "1                  NaN          7.01  20200430  06:39:00      1003   \n",
       "2                  NaN          6.01  20200504  09:46:00     54222   \n",
       "3                Other         88.00  20170507  10:39:00  CAD#0830   \n",
       "4                  NaN          6.01  20200414  17:32:00       NaN   \n",
       "...                ...           ...       ...       ...       ...   \n",
       "639937             NaN          6.01  20190824  11:30:00       N09   \n",
       "639938             NaN          6.01  20190922  10:00:00     54114   \n",
       "639939             NaN          6.01  20160510  06:09:00  PC01 114   \n",
       "639940           Clear          6.01  20181016  09:59:00       NaN   \n",
       "639941           Clear          6.01  20180929  19:50:00       612   \n",
       "\n",
       "       SIGNAL_FLAG_DESC SIGNAL_FLAG C_M_ZONE_FLAG   AGENCY_CODE AREA_CODE  \\\n",
       "0                    No           N             N        BACOPD       UNK   \n",
       "1                   Yes           Y             N     BALTIMORE       UNK   \n",
       "2                    No           N             N  GAITHERSBURG       UNK   \n",
       "3                   Yes           Y             N     BALTIMORE       UNK   \n",
       "4                    No           N             N           MSP       UNK   \n",
       "...                 ...         ...           ...           ...       ...   \n",
       "639937               No           N             N          MDTA       UNK   \n",
       "639938              Yes           Y             N    MONTGOMERY       UNK   \n",
       "639939               No           N             N        BACOPD       UNK   \n",
       "639940               No           N             N           MSP       UNK   \n",
       "639941               No           N             N        PGCOPD       UNK   \n",
       "\n",
       "       HARM_EVENT_DESC1  HARM_EVENT_CODE1 HARM_EVENT_DESC2  HARM_EVENT_CODE2  \\\n",
       "0        Parked Vehicle               2.0   Not Applicable               0.0   \n",
       "1         Other Vehicle               1.0    Other Vehicle               1.0   \n",
       "2            Pedestrian               3.0   Not Applicable               0.0   \n",
       "3                   NaN               3.0   Not Applicable               0.0   \n",
       "4         Other Vehicle               1.0   Not Applicable               0.0   \n",
       "...                 ...               ...              ...               ...   \n",
       "639937              NaN               1.0    Other Vehicle               1.0   \n",
       "639938              NaN               1.0   Not Applicable               0.0   \n",
       "639939              NaN               9.0   Not Applicable               0.0   \n",
       "639940              NaN               1.0   Not Applicable               0.0   \n",
       "639941              NaN               1.0   Not Applicable               0.0   \n",
       "\n",
       "        RTE_NO ROUTE_TYPE_CODE RTE_SUFFIX  LOG_MILE LOGMILE_DIR_FLAG_DESC  \\\n",
       "0          NaN             NaN        NaN       NaN                   NaN   \n",
       "1          NaN             NaN        NaN     0.000                   NaN   \n",
       "2          NaN             NaN        NaN       NaN                   NaN   \n",
       "3          NaN             NaN        NaN       NaN                   NaN   \n",
       "4          NaN             NaN        NaN       NaN                   NaN   \n",
       "...        ...             ...        ...       ...                   ...   \n",
       "639937   301.0              US        NaN     1.280                 North   \n",
       "639938   340.0              MU        NaN     0.980                 North   \n",
       "639939  2937.0              CO        NaN     0.017                 South   \n",
       "639940   695.0              IS        NaN     7.200                 North   \n",
       "639941   210.0              MD        NaN    10.540                 North   \n",
       "\n",
       "       LOGMILE_DIR_FLAG    MAINROAD_NAME  DISTANCE FEET_MILES_FLAG_DESC  \\\n",
       "0                   NaN              NaN       NaN                  NaN   \n",
       "1                   NaN   CHARLES STREET      2.00                Miles   \n",
       "2                   NaN              NaN       NaN                  NaN   \n",
       "3                   NaN              NaN       NaN                  NaN   \n",
       "4                   NaN              NaN       NaN                  NaN   \n",
       "...                 ...              ...       ...                  ...   \n",
       "639937                N        CRAIN HWY      0.22                  NaN   \n",
       "639938                N      RUSSELL AVE      0.00                  NaN   \n",
       "639939                S     HILLTOP RD S       NaN                  NaN   \n",
       "639940                N    BALTO BELTWAY    100.00                  NaN   \n",
       "639941                N  INDIAN HEAD HWY     75.00                  NaN   \n",
       "\n",
       "       FEET_MILES_FLAG DISTANCE_DIR_FLAG  REFERENCE_NO REFERENCE_TYPE_CODE  \\\n",
       "0                  NaN               NaN           NaN                 NaN   \n",
       "1                    M                 N           NaN                 NaN   \n",
       "2                  NaN               NaN           NaN                 NaN   \n",
       "3                  NaN               NaN           NaN                 NaN   \n",
       "4                  NaN               NaN           NaN                 NaN   \n",
       "...                ...               ...           ...                 ...   \n",
       "639937               M                 N           0.0                  UU   \n",
       "639938               F                 N         182.0                  MU   \n",
       "639939               M                 S        8746.0                  CO   \n",
       "639940               F                 S          70.0                  IS   \n",
       "639941               F                 N        3645.0                  CO   \n",
       "\n",
       "       REFERENCE_SUFFIX          REFERENCE_ROAD_NAME   LATITUDE  LONGITUDE  \\\n",
       "0                   NaN                          NaN  39.277263 -76.503693   \n",
       "1                   NaN                    NORTH AVE  39.311025 -76.616429   \n",
       "2                   NaN                          NaN  39.140680 -77.193413   \n",
       "3                   NaN                          NaN  39.282928 -76.635215   \n",
       "4                   NaN                          NaN  39.611028 -75.951314   \n",
       "...                 ...                          ...        ...        ...   \n",
       "639937              NaN  STRUC #CHZ301 POTOMAC RIVER  38.363845 -76.980606   \n",
       "639938              NaN             LAKE FOREST BLVD  39.151418 -77.207443   \n",
       "639939              NaN              MORNING WALK DR  39.259988 -76.757913   \n",
       "639940              NaN                      NO NAME  39.298405 -76.742785   \n",
       "639941              NaN                    PALMER RD  38.767483 -76.994545   \n",
       "\n",
       "                                          LOCATION  \n",
       "0                  POINT (-76.5036932 39.27726285)  \n",
       "1         POINT (-76.616429453205 39.311024794431)  \n",
       "2         POINT (-77.193412729561 39.140680249069)  \n",
       "3       POINT (-76.6352150952347 39.2829284750108)  \n",
       "4               POINT (-75.951314 39.611027833333)  \n",
       "...                                            ...  \n",
       "639937  POINT (-76.98060605635531 38.363845415321)  \n",
       "639938  POINT (-77.2074433333333 39.1514183333333)  \n",
       "639939  POINT (-76.7579126358032 39.2599878865495)  \n",
       "639940                POINT (-76.742785 39.298405)  \n",
       "639941  POINT (-76.9945445208878 38.7674834620352)  \n",
       "\n",
       "[639942 rows x 56 columns]"
      ]
     },
     "execution_count": 19,
     "metadata": {},
     "output_type": "execute_result"
    }
   ],
   "source": [
    "crashdata"
   ]
  },
  {
   "cell_type": "code",
   "execution_count": 20,
   "metadata": {},
   "outputs": [
    {
     "data": {
      "text/plain": [
       "YEAR                          0\n",
       "QUARTER                       0\n",
       "LIGHT_DESC                21114\n",
       "LIGHT_CODE                    0\n",
       "COUNTY_DESC                   3\n",
       "COUNTY_NO                     3\n",
       "MUNI_DESC                639942\n",
       "MUNI_CODE                170622\n",
       "JUNCTION_DESC             84962\n",
       "JUNCTION_CODE             65230\n",
       "COLLISION_TYPE_DESC           0\n",
       "COLLISION_TYPE_CODE           0\n",
       "SURF_COND_DESC            66990\n",
       "SURF_COND_CODE            65230\n",
       "LANE_DESC                155039\n",
       "LANE_CODE                155031\n",
       "RD_COND_DESC              65230\n",
       "RD_COND_CODE              65230\n",
       "RD_DIV_DESC               68753\n",
       "RD_DIV_CODE               65230\n",
       "FIX_OBJ_DESC              33806\n",
       "FIX_OBJ_CODE                  0\n",
       "REPORT_NO                     0\n",
       "REPORT_TYPE              110733\n",
       "WEATHER_DESC             244800\n",
       "WEATHER_CODE                  0\n",
       "ACC_DATE                      0\n",
       "ACC_TIME                      0\n",
       "LOC_CODE                 338729\n",
       "SIGNAL_FLAG_DESC              0\n",
       "SIGNAL_FLAG                   0\n",
       "C_M_ZONE_FLAG                 0\n",
       "AGENCY_CODE                   0\n",
       "AREA_CODE                     0\n",
       "HARM_EVENT_DESC1         595459\n",
       "HARM_EVENT_CODE1              0\n",
       "HARM_EVENT_DESC2              0\n",
       "HARM_EVENT_CODE2              0\n",
       "RTE_NO                   127932\n",
       "ROUTE_TYPE_CODE          126171\n",
       "RTE_SUFFIX               626992\n",
       "LOG_MILE                  68727\n",
       "LOGMILE_DIR_FLAG_DESC    123095\n",
       "LOGMILE_DIR_FLAG         123089\n",
       "MAINROAD_NAME             65236\n",
       "DISTANCE                  83766\n",
       "FEET_MILES_FLAG_DESC     551996\n",
       "FEET_MILES_FLAG           65231\n",
       "DISTANCE_DIR_FLAG         68608\n",
       "REFERENCE_NO             135131\n",
       "REFERENCE_TYPE_CODE      125919\n",
       "REFERENCE_SUFFIX         626206\n",
       "REFERENCE_ROAD_NAME       65666\n",
       "LATITUDE                      0\n",
       "LONGITUDE                     0\n",
       "LOCATION                      0\n",
       "dtype: int64"
      ]
     },
     "execution_count": 20,
     "metadata": {},
     "output_type": "execute_result"
    }
   ],
   "source": [
    "crashdata.isnull().sum() #looking at the number of null values in each of the columns"
   ]
  },
  {
   "cell_type": "markdown",
   "metadata": {},
   "source": [
    "Because of the size of the dataset, I dropped some columns that were not necessary for this project."
   ]
  },
  {
   "cell_type": "code",
   "execution_count": 21,
   "metadata": {},
   "outputs": [],
   "source": [
    "crashdata=crashdata.drop(columns=['COUNTY_NO', 'MUNI_CODE', 'JUNCTION_CODE', 'JUNCTION_DESC', 'COLLISION_TYPE_DESC','LANE_DESC','RD_DIV_DESC','FIX_OBJ_DESC','SIGNAL_FLAG_DESC','AGENCY_CODE','C_M_ZONE_FLAG','AREA_CODE','HARM_EVENT_DESC1','HARM_EVENT_DESC2','DISTANCE','MUNI_DESC','LOGMILE_DIR_FLAG_DESC','FEET_MILES_FLAG_DESC','FEET_MILES_FLAG','DISTANCE_DIR_FLAG', 'LOG_MILE','LOGMILE_DIR_FLAG_DESC','LOGMILE_DIR_FLAG','RTE_NO','ROUTE_TYPE_CODE', 'RTE_SUFFIX', 'REFERENCE_SUFFIX', 'LOC_CODE', 'WEATHER_DESC', 'SURF_COND_DESC', 'SURF_COND_DESC'], axis=1)\n",
    "#dropping columns not needed for this project to make dataset smaller"
   ]
  },
  {
   "cell_type": "code",
   "execution_count": 22,
   "metadata": {},
   "outputs": [
    {
     "data": {
      "text/plain": [
       "Baltimore          117288\n",
       "Baltimore City     114810\n",
       "Prince George's    101379\n",
       "Montgomery          76393\n",
       "Anne Arundel        58047\n",
       "Howard              22193\n",
       "Frederick           19687\n",
       "Harford             18451\n",
       "Charles             16172\n",
       "Washington          14165\n",
       "Wicomico            12246\n",
       "Carroll             11360\n",
       "Cecil                9861\n",
       "St. Mary's           9289\n",
       "Worcester            7880\n",
       "Calvert              6571\n",
       "Talbot               4482\n",
       "Queen Anne's         4477\n",
       "Allegany             3551\n",
       "Dorchester           3031\n",
       "Garrett              2934\n",
       "Caroline             2644\n",
       "Somerset             1791\n",
       "Kent                 1237\n",
       "Name: COUNTY_DESC, dtype: int64"
      ]
     },
     "execution_count": 22,
     "metadata": {},
     "output_type": "execute_result"
    }
   ],
   "source": [
    "crashdata['COUNTY_DESC'].value_counts() #looking at the different counties included in the dataset and the number of crashes that occurred in each county"
   ]
  },
  {
   "cell_type": "markdown",
   "metadata": {},
   "source": [
    "Since the citation data is only from Montgomery County, I only used crash data from Montgomery County."
   ]
  },
  {
   "cell_type": "code",
   "execution_count": 23,
   "metadata": {},
   "outputs": [],
   "source": [
    "crashdata2=crashdata.loc[crashdata.COUNTY_DESC=='Montgomery'] \n",
    "#making new dataframe with crash data from Montgomery County only"
   ]
  },
  {
   "cell_type": "markdown",
   "metadata": {},
   "source": [
    "Since the citation data starts at 07/03/2019, I made a new dataframe with only dates starting from July 2019 on. The citation dataset has data until 07/02/2020. The crash data was recently updated to include data up until 09/30/2020 so I decided to drop the crashes that took place after 07/02/2020 so I would be looking at the same time period for both data sets. I started by creating a new dataframe from the year 2019 on."
   ]
  },
  {
   "cell_type": "code",
   "execution_count": 24,
   "metadata": {},
   "outputs": [],
   "source": [
    "crashdata_df3=crashdata2.loc[crashdata2.YEAR>=2019] #creating a new dataframe with only crashes that happended in 2019 and 2020"
   ]
  },
  {
   "cell_type": "code",
   "execution_count": 25,
   "metadata": {},
   "outputs": [],
   "source": [
    "index=[]\n",
    "for i in range(len(crashdata_df3)):\n",
    "    index.append(i)\n",
    "crashdata_df3.insert(0, \"Index\", index, False)\n",
    "crashdata_df3.set_index('Index', inplace=True)\n",
    "#resetting the index after creating new dataframe"
   ]
  },
  {
   "cell_type": "markdown",
   "metadata": {},
   "source": [
    "When I looked at the 'ACC_DATE' column in dataframe, the date was formatted as year, month, day without any slashes. I reformatted the dates to be in mm/dd/yyyy format to make it easier to convert the dates to datetime."
   ]
  },
  {
   "cell_type": "code",
   "execution_count": 26,
   "metadata": {},
   "outputs": [],
   "source": [
    "acc_dates=[] #putting all the times into a list to insert a new column with the date formatted as mm/dd/yyyy\n",
    "for date in crashdata_df3['ACC_DATE']:\n",
    "    date=str(date)\n",
    "    dt=date[4:6]+'/'+date[6:9]+'/'+date[0:4] #changing format\n",
    "    acc_dates.append(dt)"
   ]
  },
  {
   "cell_type": "code",
   "execution_count": 27,
   "metadata": {},
   "outputs": [],
   "source": [
    "crashdata_df3.insert(17, \"ACCIDENT_DATE\", acc_dates, False) \n",
    "#inserting acc_dates list as column in dataframe"
   ]
  },
  {
   "cell_type": "code",
   "execution_count": 28,
   "metadata": {},
   "outputs": [],
   "source": [
    "crashdata_df3=crashdata_df3.drop('ACC_DATE', axis=1)\n",
    "#dropping the original 'ACC_DATE' column"
   ]
  },
  {
   "cell_type": "code",
   "execution_count": 29,
   "metadata": {},
   "outputs": [],
   "source": [
    "crashdata_df3['ACCIDENT_DATE']=pd.to_datetime(crashdata_df3['ACCIDENT_DATE']).dt.date \n",
    "#converting the 'ACCIDENT_DATE' column to datetime.date "
   ]
  },
  {
   "cell_type": "code",
   "execution_count": 30,
   "metadata": {},
   "outputs": [],
   "source": [
    "j2019=datetime.strptime('07/03/2019', '%m/%d/%Y').date() #converting string to datetime.date\n",
    "crashdata_df3=crashdata_df3.loc[crashdata_df3.ACCIDENT_DATE>=j2019] #making new dataframe in which the min date is 07/03/2019"
   ]
  },
  {
   "cell_type": "code",
   "execution_count": 31,
   "metadata": {},
   "outputs": [],
   "source": [
    "j2020=datetime.strptime('07/02/2020', '%m/%d/%Y').date() #converting string to datetime.date\n",
    "crashdata_df3=crashdata_df3.loc[crashdata_df3.ACCIDENT_DATE<=j2020] #making new dataframe in which the max date is 07/02/2020"
   ]
  },
  {
   "cell_type": "code",
   "execution_count": 32,
   "metadata": {},
   "outputs": [],
   "source": [
    "index=[]\n",
    "for i in range(len(crashdata_df3)):\n",
    "    index.append(i)\n",
    "crashdata_df3.insert(0, \"Index\", index, False)\n",
    "crashdata_df3.set_index('Index', inplace=True)\n",
    "#resetting index after dropping rows that were outside of the desired date range"
   ]
  },
  {
   "cell_type": "code",
   "execution_count": 33,
   "metadata": {},
   "outputs": [
    {
     "name": "stdout",
     "output_type": "stream",
     "text": [
      "Min Crash Date:  2019-07-03 Max Crash Date:  2020-07-02\n"
     ]
    }
   ],
   "source": [
    "print('Min Crash Date: ', crashdata_df3['ACCIDENT_DATE'].min(), 'Max Crash Date: ', crashdata_df3['ACCIDENT_DATE'].max())"
   ]
  },
  {
   "cell_type": "code",
   "execution_count": 34,
   "metadata": {},
   "outputs": [],
   "source": [
    "crashdata_df3['ACC_TIME']=pd.to_datetime(crashdata_df3['ACC_TIME']).dt.time\n",
    "#converting ACC_TIME column to datetime.time"
   ]
  },
  {
   "cell_type": "code",
   "execution_count": 35,
   "metadata": {},
   "outputs": [
    {
     "name": "stdout",
     "output_type": "stream",
     "text": [
      "Min Crash Time:  00:00:00 Max Crash Time:  23:59:00\n"
     ]
    }
   ],
   "source": [
    "print('Min Crash Time: ', crashdata_df3['ACC_TIME'].min(), 'Max Crash Time: ', crashdata_df3['ACC_TIME'].max())"
   ]
  },
  {
   "cell_type": "markdown",
   "metadata": {},
   "source": [
    "### Exploratory Data Analysis: Citation Data"
   ]
  },
  {
   "cell_type": "code",
   "execution_count": 36,
   "metadata": {},
   "outputs": [
    {
     "data": {
      "text/html": [
       "<div>\n",
       "<style scoped>\n",
       "    .dataframe tbody tr th:only-of-type {\n",
       "        vertical-align: middle;\n",
       "    }\n",
       "\n",
       "    .dataframe tbody tr th {\n",
       "        vertical-align: top;\n",
       "    }\n",
       "\n",
       "    .dataframe thead th {\n",
       "        text-align: right;\n",
       "    }\n",
       "</style>\n",
       "<table border=\"1\" class=\"dataframe\">\n",
       "  <thead>\n",
       "    <tr style=\"text-align: right;\">\n",
       "      <th></th>\n",
       "      <th>Ticket Number</th>\n",
       "      <th>Date/Time</th>\n",
       "      <th>Times</th>\n",
       "      <th>Dates</th>\n",
       "      <th>Parking Division</th>\n",
       "      <th>Ticket Location</th>\n",
       "      <th>Meter</th>\n",
       "      <th>Violation Code</th>\n",
       "      <th>Violation Description</th>\n",
       "      <th>Plate Year</th>\n",
       "      <th>Vehicle Make</th>\n",
       "      <th>Plate Month</th>\n",
       "      <th>Vehicle Type</th>\n",
       "      <th>Vehicle Color</th>\n",
       "      <th>Remarks</th>\n",
       "      <th>Issuing Agency</th>\n",
       "    </tr>\n",
       "    <tr>\n",
       "      <th>Index</th>\n",
       "      <th></th>\n",
       "      <th></th>\n",
       "      <th></th>\n",
       "      <th></th>\n",
       "      <th></th>\n",
       "      <th></th>\n",
       "      <th></th>\n",
       "      <th></th>\n",
       "      <th></th>\n",
       "      <th></th>\n",
       "      <th></th>\n",
       "      <th></th>\n",
       "      <th></th>\n",
       "      <th></th>\n",
       "      <th></th>\n",
       "      <th></th>\n",
       "    </tr>\n",
       "  </thead>\n",
       "  <tbody>\n",
       "    <tr>\n",
       "      <th>0</th>\n",
       "      <td>407607690</td>\n",
       "      <td>08/26/0019 01:41:00 PM</td>\n",
       "      <td>13:41:00</td>\n",
       "      <td>2019-08-26</td>\n",
       "      <td>2</td>\n",
       "      <td>8100 NORFOLK AVE</td>\n",
       "      <td>1104302</td>\n",
       "      <td>50.0</td>\n",
       "      <td>EXPIRED PRKG METER</td>\n",
       "      <td>2021</td>\n",
       "      <td>SUBA</td>\n",
       "      <td>9.0</td>\n",
       "      <td>4D</td>\n",
       "      <td>WH</td>\n",
       "      <td>2 HR PARKING</td>\n",
       "      <td>DOT</td>\n",
       "    </tr>\n",
       "    <tr>\n",
       "      <th>1</th>\n",
       "      <td>407556122</td>\n",
       "      <td>08/15/0019 05:07:00 PM</td>\n",
       "      <td>17:07:00</td>\n",
       "      <td>2019-08-15</td>\n",
       "      <td>2</td>\n",
       "      <td>G40-4935 ST ELMO AVE</td>\n",
       "      <td>3400323</td>\n",
       "      <td>50.0</td>\n",
       "      <td>EXPIRED PRKG METER</td>\n",
       "      <td>2019</td>\n",
       "      <td>TESL</td>\n",
       "      <td>10.0</td>\n",
       "      <td>4D</td>\n",
       "      <td>RE</td>\n",
       "      <td>4 HR PARKING</td>\n",
       "      <td>DOT</td>\n",
       "    </tr>\n",
       "    <tr>\n",
       "      <th>2</th>\n",
       "      <td>407841700</td>\n",
       "      <td>10/18/0019 09:25:00 AM</td>\n",
       "      <td>09:25:00</td>\n",
       "      <td>2019-10-18</td>\n",
       "      <td>8</td>\n",
       "      <td>MEDICAL CENTER DR</td>\n",
       "      <td>1601887</td>\n",
       "      <td>50.0</td>\n",
       "      <td>EXPIRED PRKG METER</td>\n",
       "      <td>2019</td>\n",
       "      <td>BMW</td>\n",
       "      <td>10.0</td>\n",
       "      <td>4D</td>\n",
       "      <td>GY</td>\n",
       "      <td>12 HR PARKING</td>\n",
       "      <td>DOT</td>\n",
       "    </tr>\n",
       "    <tr>\n",
       "      <th>3</th>\n",
       "      <td>407344663</td>\n",
       "      <td>07/08/0019 10:47:00 AM</td>\n",
       "      <td>10:47:00</td>\n",
       "      <td>2019-07-08</td>\n",
       "      <td>2</td>\n",
       "      <td>4800 HAMPDEN LN</td>\n",
       "      <td>1103032</td>\n",
       "      <td>50.0</td>\n",
       "      <td>EXPIRED PRKG METER</td>\n",
       "      <td>2020</td>\n",
       "      <td>FORD</td>\n",
       "      <td>2.0</td>\n",
       "      <td>4D</td>\n",
       "      <td>WH</td>\n",
       "      <td>1 HR PARKING</td>\n",
       "      <td>DOT</td>\n",
       "    </tr>\n",
       "    <tr>\n",
       "      <th>4</th>\n",
       "      <td>407645910</td>\n",
       "      <td>09/02/0019 10:56:00 AM</td>\n",
       "      <td>10:56:00</td>\n",
       "      <td>2019-09-02</td>\n",
       "      <td>2</td>\n",
       "      <td>7000 WISCONSIN AVE</td>\n",
       "      <td>1105612</td>\n",
       "      <td>50.0</td>\n",
       "      <td>EXPIRED PRKG METER</td>\n",
       "      <td>2020</td>\n",
       "      <td>TOYT</td>\n",
       "      <td>10.0</td>\n",
       "      <td>4D</td>\n",
       "      <td>SI</td>\n",
       "      <td>1 HR PARKING</td>\n",
       "      <td>DOT</td>\n",
       "    </tr>\n",
       "    <tr>\n",
       "      <th>...</th>\n",
       "      <td>...</td>\n",
       "      <td>...</td>\n",
       "      <td>...</td>\n",
       "      <td>...</td>\n",
       "      <td>...</td>\n",
       "      <td>...</td>\n",
       "      <td>...</td>\n",
       "      <td>...</td>\n",
       "      <td>...</td>\n",
       "      <td>...</td>\n",
       "      <td>...</td>\n",
       "      <td>...</td>\n",
       "      <td>...</td>\n",
       "      <td>...</td>\n",
       "      <td>...</td>\n",
       "      <td>...</td>\n",
       "    </tr>\n",
       "    <tr>\n",
       "      <th>127125</th>\n",
       "      <td>408114814</td>\n",
       "      <td>12/15/0019 04:18:00 PM</td>\n",
       "      <td>16:18:00</td>\n",
       "      <td>2019-12-15</td>\n",
       "      <td>3</td>\n",
       "      <td>800 ROEDER RD</td>\n",
       "      <td>1207011</td>\n",
       "      <td>50.0</td>\n",
       "      <td>EXPIRED PRKG METER</td>\n",
       "      <td>2020</td>\n",
       "      <td>VOLK</td>\n",
       "      <td>3.0</td>\n",
       "      <td>4D</td>\n",
       "      <td>SI</td>\n",
       "      <td>2 HR PARKING</td>\n",
       "      <td>DOT</td>\n",
       "    </tr>\n",
       "    <tr>\n",
       "      <th>127126</th>\n",
       "      <td>407392871</td>\n",
       "      <td>07/12/0019 06:12:00 PM</td>\n",
       "      <td>18:12:00</td>\n",
       "      <td>2019-07-12</td>\n",
       "      <td>8A</td>\n",
       "      <td>11815 GRAND PARK AVE</td>\n",
       "      <td>NaN</td>\n",
       "      <td>35.0</td>\n",
       "      <td>VIOLATION OFFICIAL SIGN  ON STREET</td>\n",
       "      <td>2019</td>\n",
       "      <td>HOND</td>\n",
       "      <td>10.0</td>\n",
       "      <td>4D</td>\n",
       "      <td>GY</td>\n",
       "      <td>NO PARKING 5 PM - 12 AM/. SIGNS POSTED</td>\n",
       "      <td>DOT</td>\n",
       "    </tr>\n",
       "    <tr>\n",
       "      <th>127127</th>\n",
       "      <td>407777322</td>\n",
       "      <td>10/04/0019 06:14:00 PM</td>\n",
       "      <td>18:14:00</td>\n",
       "      <td>2019-10-04</td>\n",
       "      <td>3</td>\n",
       "      <td>G2-8700 CAMERON ST</td>\n",
       "      <td>3021058</td>\n",
       "      <td>50.0</td>\n",
       "      <td>EXPIRED PRKG METER</td>\n",
       "      <td>2019</td>\n",
       "      <td>NISS</td>\n",
       "      <td>1.0</td>\n",
       "      <td>SU</td>\n",
       "      <td>WH</td>\n",
       "      <td>2 HR PARKING</td>\n",
       "      <td>DOT</td>\n",
       "    </tr>\n",
       "    <tr>\n",
       "      <th>127128</th>\n",
       "      <td>408161364</td>\n",
       "      <td>12/28/0019 12:39:00 PM</td>\n",
       "      <td>12:39:00</td>\n",
       "      <td>2019-12-28</td>\n",
       "      <td>2</td>\n",
       "      <td>L24-4601 LELAND ST</td>\n",
       "      <td>2240108</td>\n",
       "      <td>50.0</td>\n",
       "      <td>EXPIRED PRKG METER</td>\n",
       "      <td>2021</td>\n",
       "      <td>HOND</td>\n",
       "      <td>5.0</td>\n",
       "      <td>4D</td>\n",
       "      <td>SI</td>\n",
       "      <td>2 HR PARKING</td>\n",
       "      <td>DOT</td>\n",
       "    </tr>\n",
       "    <tr>\n",
       "      <th>127129</th>\n",
       "      <td>408115842</td>\n",
       "      <td>12/15/0019 06:08:00 PM</td>\n",
       "      <td>18:08:00</td>\n",
       "      <td>2019-12-15</td>\n",
       "      <td>2</td>\n",
       "      <td>4800 BETHESDA AVE</td>\n",
       "      <td>1101332</td>\n",
       "      <td>50.0</td>\n",
       "      <td>EXPIRED PRKG METER</td>\n",
       "      <td>2021</td>\n",
       "      <td>SUBA</td>\n",
       "      <td>1.0</td>\n",
       "      <td>SU</td>\n",
       "      <td>WH</td>\n",
       "      <td>1 HR PARKING</td>\n",
       "      <td>DOT</td>\n",
       "    </tr>\n",
       "  </tbody>\n",
       "</table>\n",
       "<p>127130 rows × 16 columns</p>\n",
       "</div>"
      ],
      "text/plain": [
       "        Ticket Number               Date/Time     Times       Dates  \\\n",
       "Index                                                                 \n",
       "0           407607690  08/26/0019 01:41:00 PM  13:41:00  2019-08-26   \n",
       "1           407556122  08/15/0019 05:07:00 PM  17:07:00  2019-08-15   \n",
       "2           407841700  10/18/0019 09:25:00 AM  09:25:00  2019-10-18   \n",
       "3           407344663  07/08/0019 10:47:00 AM  10:47:00  2019-07-08   \n",
       "4           407645910  09/02/0019 10:56:00 AM  10:56:00  2019-09-02   \n",
       "...               ...                     ...       ...         ...   \n",
       "127125      408114814  12/15/0019 04:18:00 PM  16:18:00  2019-12-15   \n",
       "127126      407392871  07/12/0019 06:12:00 PM  18:12:00  2019-07-12   \n",
       "127127      407777322  10/04/0019 06:14:00 PM  18:14:00  2019-10-04   \n",
       "127128      408161364  12/28/0019 12:39:00 PM  12:39:00  2019-12-28   \n",
       "127129      408115842  12/15/0019 06:08:00 PM  18:08:00  2019-12-15   \n",
       "\n",
       "       Parking Division       Ticket Location    Meter  Violation Code  \\\n",
       "Index                                                                    \n",
       "0                     2      8100 NORFOLK AVE  1104302            50.0   \n",
       "1                     2  G40-4935 ST ELMO AVE  3400323            50.0   \n",
       "2                     8     MEDICAL CENTER DR  1601887            50.0   \n",
       "3                     2       4800 HAMPDEN LN  1103032            50.0   \n",
       "4                     2    7000 WISCONSIN AVE  1105612            50.0   \n",
       "...                 ...                   ...      ...             ...   \n",
       "127125                3         800 ROEDER RD  1207011            50.0   \n",
       "127126               8A  11815 GRAND PARK AVE      NaN            35.0   \n",
       "127127                3    G2-8700 CAMERON ST  3021058            50.0   \n",
       "127128                2    L24-4601 LELAND ST  2240108            50.0   \n",
       "127129                2     4800 BETHESDA AVE  1101332            50.0   \n",
       "\n",
       "                     Violation Description Plate Year Vehicle Make  \\\n",
       "Index                                                                \n",
       "0                       EXPIRED PRKG METER       2021         SUBA   \n",
       "1                       EXPIRED PRKG METER       2019         TESL   \n",
       "2                       EXPIRED PRKG METER       2019          BMW   \n",
       "3                       EXPIRED PRKG METER       2020         FORD   \n",
       "4                       EXPIRED PRKG METER       2020         TOYT   \n",
       "...                                    ...        ...          ...   \n",
       "127125                  EXPIRED PRKG METER       2020         VOLK   \n",
       "127126  VIOLATION OFFICIAL SIGN  ON STREET       2019         HOND   \n",
       "127127                  EXPIRED PRKG METER       2019         NISS   \n",
       "127128                  EXPIRED PRKG METER       2021         HOND   \n",
       "127129                  EXPIRED PRKG METER       2021         SUBA   \n",
       "\n",
       "        Plate Month Vehicle Type Vehicle Color  \\\n",
       "Index                                            \n",
       "0               9.0           4D            WH   \n",
       "1              10.0           4D            RE   \n",
       "2              10.0           4D            GY   \n",
       "3               2.0           4D            WH   \n",
       "4              10.0           4D            SI   \n",
       "...             ...          ...           ...   \n",
       "127125          3.0           4D            SI   \n",
       "127126         10.0           4D            GY   \n",
       "127127          1.0           SU            WH   \n",
       "127128          5.0           4D            SI   \n",
       "127129          1.0           SU            WH   \n",
       "\n",
       "                                       Remarks Issuing Agency  \n",
       "Index                                                          \n",
       "0                                 2 HR PARKING            DOT  \n",
       "1                                 4 HR PARKING            DOT  \n",
       "2                                12 HR PARKING            DOT  \n",
       "3                                 1 HR PARKING            DOT  \n",
       "4                                 1 HR PARKING            DOT  \n",
       "...                                        ...            ...  \n",
       "127125                            2 HR PARKING            DOT  \n",
       "127126  NO PARKING 5 PM - 12 AM/. SIGNS POSTED            DOT  \n",
       "127127                            2 HR PARKING            DOT  \n",
       "127128                            2 HR PARKING            DOT  \n",
       "127129                            1 HR PARKING            DOT  \n",
       "\n",
       "[127130 rows x 16 columns]"
      ]
     },
     "execution_count": 36,
     "metadata": {},
     "output_type": "execute_result"
    }
   ],
   "source": [
    "citations"
   ]
  },
  {
   "cell_type": "markdown",
   "metadata": {},
   "source": [
    "#### Hours:"
   ]
  },
  {
   "cell_type": "markdown",
   "metadata": {},
   "source": [
    "I first wanted to see during which hours were the most parking citations given out. I started by extracting the hours out of each of the citation times and putting them into a list."
   ]
  },
  {
   "cell_type": "code",
   "execution_count": 37,
   "metadata": {},
   "outputs": [],
   "source": [
    "hours=[] #putting all the hour values into a list to insert as a column in citation dataframe\n",
    "for h in range(len(citations)):\n",
    "    hr=citations['Times'][h].hour #extracting the hour value from each of the times\n",
    "    hours.append(hr)"
   ]
  },
  {
   "cell_type": "code",
   "execution_count": 38,
   "metadata": {},
   "outputs": [],
   "source": [
    "citations.insert(2, 'Hours', hours, False)\n",
    "#inserting hours column into dataframe"
   ]
  },
  {
   "cell_type": "code",
   "execution_count": 39,
   "metadata": {},
   "outputs": [],
   "source": [
    "by_cithours=citations.groupby(['Hours']) \n",
    "by_cithours=by_cithours['Hours'].count()\n",
    "#grouping data by hour "
   ]
  },
  {
   "cell_type": "code",
   "execution_count": 43,
   "metadata": {},
   "outputs": [
    {
     "data": {
      "text/plain": [
       "Hours\n",
       "5         1\n",
       "6      1158\n",
       "7      4833\n",
       "8      4650\n",
       "9      7226\n",
       "10     9880\n",
       "11    11546\n",
       "12    12346\n",
       "13    11757\n",
       "14     8732\n",
       "15     9407\n",
       "16     7871\n",
       "17     5887\n",
       "18     9246\n",
       "19     8877\n",
       "20     9415\n",
       "21     4298\n",
       "Name: Hours, dtype: int64"
      ]
     },
     "execution_count": 43,
     "metadata": {},
     "output_type": "execute_result"
    }
   ],
   "source": [
    "by_cithours"
   ]
  },
  {
   "cell_type": "code",
   "execution_count": 97,
   "metadata": {},
   "outputs": [
    {
     "data": {
      "image/png": "[encoded data removed]",
      "text/plain": [
       "<Figure size 720x360 with 1 Axes>"
      ]
     },
     "metadata": {},
     "output_type": "display_data"
    }
   ],
   "source": [
    "seaborn.set(rc={'figure.figsize':(10,5)})\n",
    "plot1=seaborn.barplot(y=by_cithours, x=by_cithours.index)\n",
    "plot1.set(xlabel='Hours', ylabel = 'Number of Citations');"
   ]
  },
  {
   "cell_type": "markdown",
   "metadata": {},
   "source": [
    "From the bar graph we can see that most of the citations were given around hour 12, 12 pm. From the graph it does not appear that there were citations given between 22:00-4:00."
   ]
  },
  {
   "cell_type": "markdown",
   "metadata": {},
   "source": [
    "#### Violations:"
   ]
  },
  {
   "cell_type": "markdown",
   "metadata": {},
   "source": [
    "I also wanted to look at the most common violations."
   ]
  },
  {
   "cell_type": "code",
   "execution_count": 57,
   "metadata": {},
   "outputs": [
    {
     "name": "stdout",
     "output_type": "stream",
     "text": [
      "Violation Code:  38 Violation Description:  38\n"
     ]
    }
   ],
   "source": [
    "print('Violation Code: ', citations['Violation Code'].nunique(), 'Violation Description: ', citations['Violation Description'].nunique())\n",
    "#number of unique values for Violation Code and Violation Description columns                                                                                                     "
   ]
  },
  {
   "cell_type": "markdown",
   "metadata": {},
   "source": [
    "I wanted the violation descriptions to be listed next to the violation codes so that it was clear what the violation was for so I printed each value of both series out next to each other. "
   ]
  },
  {
   "cell_type": "markdown",
   "metadata": {},
   "source": [
    "The top 10 violations:"
   ]
  },
  {
   "cell_type": "code",
   "execution_count": 58,
   "metadata": {},
   "outputs": [],
   "source": [
    "code=citations['Violation Code'].value_counts().head(10)\n",
    "description=citations['Violation Description'].value_counts().head(10)\n",
    "#saving the series for top 10 codes and descriptions as variables"
   ]
  },
  {
   "cell_type": "code",
   "execution_count": 59,
   "metadata": {},
   "outputs": [
    {
     "name": "stdout",
     "output_type": "stream",
     "text": [
      "Violation:  50.0 EXPIRED PRKG METER :  Number of Citations:  97213\n",
      "Violation:  7.0 OVERTM PRKG - STREET :  Number of Citations:  6732\n",
      "Violation:  34.0 NPAT - ON STREET :  Number of Citations:  4397\n",
      "Violation:  17.0 PRK/STND/STOP RUSH H :  Number of Citations:  3323\n",
      "Violation:  35.0 VIOLATION OFFICIAL SIGN  ON STREET :  Number of Citations:  2876\n",
      "Violation:  2.0 UNREGISTERED VEH  ON STR :  Number of Citations:  2636\n",
      "Violation:  54.0 RES PRKG PERMIT ONLY :  Number of Citations:  2541\n",
      "Violation:  42.0 UNREG VEH OFF STREET :  Number of Citations:  2355\n",
      "Violation:  36.0 OFFICIAL SIGN OFF ST :  Number of Citations:  2293\n",
      "Violation:  23.0 NO STANDING - ON STR :  Number of Citations:  956\n"
     ]
    }
   ],
   "source": [
    "for i in range(len(code.index)): #printing violations codes and descriptions\n",
    "    ind=code.index[i]\n",
    "    print('Violation: ', code.index[i], description.index[i], ': ', 'Number of Citations: ', code[ind])"
   ]
  },
  {
   "cell_type": "markdown",
   "metadata": {},
   "source": [
    "The bottom 10 violations:"
   ]
  },
  {
   "cell_type": "code",
   "execution_count": 60,
   "metadata": {},
   "outputs": [],
   "source": [
    "code2=citations['Violation Code'].value_counts().tail(10)\n",
    "description2=citations['Violation Description'].value_counts().tail(10)\n",
    "#saving the series for bottom 10 codes and descriptions as variables"
   ]
  },
  {
   "cell_type": "code",
   "execution_count": 61,
   "metadata": {},
   "outputs": [
    {
     "name": "stdout",
     "output_type": "stream",
     "text": [
      "Violation:  25.0 IMPDG TRFF/SAFE ALLY :  Number of Citations:  4\n",
      "Violation:  40.0 PRK/STND/STOP CROSS :  Number of Citations:  2\n",
      "Violation:  21.0 BLK ANTHR VEH OFF ST :  Number of Citations:  2\n",
      "Violation:  10.0 TMP NPAT ZN OFF STRE :  Number of Citations:  2\n",
      "Violation:  12.0 PRK/STND/STOP SIDEWA :  Number of Citations:  2\n",
      "Violation:  39.0 WITHIN 30 FT SIG/STO :  Number of Citations:  2\n",
      "Violation:  22.0 PRK/STND/STOP INTERS :  Number of Citations:  1\n",
      "Violation:  11.0 PRKD WTHIN 35 FT INT :  Number of Citations:  1\n",
      "Violation:  6.0 PRK/STND/STOP FIREHS :  Number of Citations:  1\n",
      "Violation:  32.0 NO STND/STOP TAXI STA :  Number of Citations:  1\n"
     ]
    }
   ],
   "source": [
    "for i in range(len(code2.index)): #printing violations codes and descriptions\n",
    "    ind=code2.index[i]\n",
    "    print('Violation: ', code2.index[i], description2.index[i], ': ', 'Number of Citations: ', code2[ind])"
   ]
  },
  {
   "cell_type": "markdown",
   "metadata": {},
   "source": [
    "I then wanted to display all of the violation codes and their corresponding descriptions in descending order."
   ]
  },
  {
   "cell_type": "code",
   "execution_count": 62,
   "metadata": {},
   "outputs": [],
   "source": [
    "codeall=citations['Violation Code'].value_counts().head(38)\n",
    "descriptionall=citations['Violation Description'].value_counts().head(38)"
   ]
  },
  {
   "cell_type": "code",
   "execution_count": 63,
   "metadata": {},
   "outputs": [
    {
     "name": "stdout",
     "output_type": "stream",
     "text": [
      "Violation:  50.0 EXPIRED PRKG METER :  Number of Citations:  97213\n",
      "Violation:  7.0 OVERTM PRKG - STREET :  Number of Citations:  6732\n",
      "Violation:  34.0 NPAT - ON STREET :  Number of Citations:  4397\n",
      "Violation:  17.0 PRK/STND/STOP RUSH H :  Number of Citations:  3323\n",
      "Violation:  35.0 VIOLATION OFFICIAL SIGN  ON STREET :  Number of Citations:  2876\n",
      "Violation:  2.0 UNREGISTERED VEH  ON STR :  Number of Citations:  2636\n",
      "Violation:  54.0 RES PRKG PERMIT ONLY :  Number of Citations:  2541\n",
      "Violation:  42.0 UNREG VEH OFF STREET :  Number of Citations:  2355\n",
      "Violation:  36.0 OFFICIAL SIGN OFF ST :  Number of Citations:  2293\n",
      "Violation:  23.0 NO STANDING - ON STR :  Number of Citations:  956\n",
      "Violation:  24.0 DOUBLE PARKED - STRE :  Number of Citations:  492\n",
      "Violation:  3.0 EMRGNCY NPAT - STREE :  Number of Citations:  264\n",
      "Violation:  19.0 WITHIN 15 FT HYDRANT :  Number of Citations:  151\n",
      "Violation:  28.0 OPP TRAFFIC - ON STR :  Number of Citations:  138\n",
      "Violation:  41.0 OVR 24 HRS OFF STREE :  Number of Citations:  101\n",
      "Violation:  43.0 HANDICAP PKG AREA :  Number of Citations:  91\n",
      "Violation:  27.0 PARK MORE 1 FT CURB :  Number of Citations:  74\n",
      "Violation:  37.0 IMPEDING TRAFF/SAFET :  Number of Citations:  65\n",
      "Violation:  9.0 NPAT OFF STR :  Number of Citations:  65\n",
      "Violation:  59.0 PARKED ON SIDEWALK :  Number of Citations:  58\n",
      "Violation:  38.0 NT IN PRK SPC OFF ST :  Number of Citations:  56\n",
      "Violation:  5.0 OVER 24 HRS - STREET :  Number of Citations:  54\n",
      "Violation:  47.0 IMPEDING TRFF OFF ST :  Number of Citations:  21\n",
      "Violation:  20.0 NO STND/STOP BUS ST :  Number of Citations:  12\n",
      "Violation:  31.0 WITHIN 20 FT CROSSWK :  Number of Citations:  12\n",
      "Violation:  46.0 UNATTD/UNSEC VEHICLE :  Number of Citations:  7\n",
      "Violation:  55.0 WTHIN 5 FT DRIVEWAY :  Number of Citations:  4\n",
      "Violation:  8.0 NO STND/PRK FIRE LN :  Number of Citations:  4\n",
      "Violation:  25.0 IMPDG TRFF/SAFE ALLY :  Number of Citations:  4\n",
      "Violation:  40.0 PRK/STND/STOP CROSS :  Number of Citations:  2\n",
      "Violation:  21.0 BLK ANTHR VEH OFF ST :  Number of Citations:  2\n",
      "Violation:  10.0 TMP NPAT ZN OFF STRE :  Number of Citations:  2\n",
      "Violation:  12.0 PRK/STND/STOP SIDEWA :  Number of Citations:  2\n",
      "Violation:  39.0 WITHIN 30 FT SIG/STO :  Number of Citations:  2\n",
      "Violation:  22.0 PRK/STND/STOP INTERS :  Number of Citations:  1\n",
      "Violation:  11.0 PRKD WTHIN 35 FT INT :  Number of Citations:  1\n",
      "Violation:  6.0 PRK/STND/STOP FIREHS :  Number of Citations:  1\n",
      "Violation:  32.0 NO STND/STOP TAXI STA :  Number of Citations:  1\n"
     ]
    }
   ],
   "source": [
    "for i in range(len(codeall.index)): #printing violations codes and descriptions\n",
    "    ind=codeall.index[i]\n",
    "    print('Violation: ', codeall.index[i], descriptionall.index[i], ': ', 'Number of Citations: ', codeall[ind])"
   ]
  },
  {
   "cell_type": "code",
   "execution_count": 64,
   "metadata": {},
   "outputs": [
    {
     "data": {
      "image/png": "[encoded data removed]",
      "text/plain": [
       "<Figure size 1296x576 with 1 Axes>"
      ]
     },
     "metadata": {},
     "output_type": "display_data"
    }
   ],
   "source": [
    "seaborn.set(rc={'figure.figsize':(18,8)})\n",
    "plot2=seaborn.barplot(y=citations['Violation Code'].value_counts(), x=citations['Violation Code'].value_counts().index)\n",
    "plot2.set(xlabel='Violation Code', ylabel = 'Number of Citations');"
   ]
  },
  {
   "cell_type": "markdown",
   "metadata": {},
   "source": [
    "I wanted to see the percentages each violation made up out of the total amount of violations."
   ]
  },
  {
   "cell_type": "code",
   "execution_count": 65,
   "metadata": {},
   "outputs": [],
   "source": [
    "per_viol_code=(codeall/127130)*100 #dividing the value counts series for the violations code by the total number of citations and multiplied it to get the percentage"
   ]
  },
  {
   "cell_type": "code",
   "execution_count": 70,
   "metadata": {},
   "outputs": [
    {
     "name": "stdout",
     "output_type": "stream",
     "text": [
      "Violation:  50.0 EXPIRED PRKG METER :  Percentage of Citations:  76.46739557932824 %\n",
      "Violation:  7.0 OVERTM PRKG - STREET :  Percentage of Citations:  5.295366947219382 %\n",
      "Violation:  34.0 NPAT - ON STREET :  Percentage of Citations:  3.4586643593172344 %\n",
      "Violation:  17.0 PRK/STND/STOP RUSH H :  Percentage of Citations:  2.6138598285219854 %\n",
      "Violation:  35.0 VIOLATION OFFICIAL SIGN  ON STREET :  Percentage of Citations:  2.2622512388893257 %\n",
      "Violation:  2.0 UNREGISTERED VEH  ON STR :  Percentage of Citations:  2.073468103516086 %\n",
      "Violation:  54.0 RES PRKG PERMIT ONLY :  Percentage of Citations:  1.9987414457641783 %\n",
      "Violation:  42.0 UNREG VEH OFF STREET :  Percentage of Citations:  1.8524345158499174 %\n",
      "Violation:  36.0 OFFICIAL SIGN OFF ST :  Percentage of Citations:  1.8036655392118306 %\n",
      "Violation:  23.0 NO STANDING - ON STR :  Percentage of Citations:  0.751986155903406 %\n",
      "Violation:  24.0 DOUBLE PARKED - STRE :  Percentage of Citations:  0.387005427515142 %\n",
      "Violation:  3.0 EMRGNCY NPAT - STREE :  Percentage of Citations:  0.20766144891056398 %\n",
      "Violation:  19.0 WITHIN 15 FT HYDRANT :  Percentage of Citations:  0.11877605600566349 %\n",
      "Violation:  28.0 OPP TRAFFIC - ON STR :  Percentage of Citations:  0.10855030283961299 %\n",
      "Violation:  41.0 OVR 24 HRS OFF STREE :  Percentage of Citations:  0.0794462361362385 %\n",
      "Violation:  43.0 HANDICAP PKG AREA :  Percentage of Citations:  0.07158027216235349 %\n",
      "Violation:  27.0 PARK MORE 1 FT CURB :  Percentage of Citations:  0.058208133406749 %\n",
      "Violation:  37.0 IMPEDING TRAFF/SAFET :  Percentage of Citations:  0.05112876583025249 %\n",
      "Violation:  9.0 NPAT OFF STR :  Percentage of Citations:  0.05112876583025249 %\n",
      "Violation:  59.0 PARKED ON SIDEWALK :  Percentage of Citations:  0.045622591048532994 %\n",
      "Violation:  38.0 NT IN PRK SPC OFF ST :  Percentage of Citations:  0.044049398253756 %\n",
      "Violation:  5.0 OVER 24 HRS - STREET :  Percentage of Citations:  0.042476205458979 %\n",
      "Violation:  47.0 IMPEDING TRFF OFF ST :  Percentage of Citations:  0.0165185243451585 %\n",
      "Violation:  20.0 NO STND/STOP BUS ST :  Percentage of Citations:  0.009439156768662 %\n",
      "Violation:  31.0 WITHIN 20 FT CROSSWK :  Percentage of Citations:  0.009439156768662 %\n",
      "Violation:  46.0 UNATTD/UNSEC VEHICLE :  Percentage of Citations:  0.0055061747817195 %\n",
      "Violation:  55.0 WTHIN 5 FT DRIVEWAY :  Percentage of Citations:  0.0031463855895539996 %\n",
      "Violation:  8.0 NO STND/PRK FIRE LN :  Percentage of Citations:  0.0031463855895539996 %\n",
      "Violation:  25.0 IMPDG TRFF/SAFE ALLY :  Percentage of Citations:  0.0031463855895539996 %\n",
      "Violation:  40.0 PRK/STND/STOP CROSS :  Percentage of Citations:  0.0015731927947769998 %\n",
      "Violation:  21.0 BLK ANTHR VEH OFF ST :  Percentage of Citations:  0.0015731927947769998 %\n",
      "Violation:  10.0 TMP NPAT ZN OFF STRE :  Percentage of Citations:  0.0015731927947769998 %\n",
      "Violation:  12.0 PRK/STND/STOP SIDEWA :  Percentage of Citations:  0.0015731927947769998 %\n",
      "Violation:  39.0 WITHIN 30 FT SIG/STO :  Percentage of Citations:  0.0015731927947769998 %\n",
      "Violation:  22.0 PRK/STND/STOP INTERS :  Percentage of Citations:  0.0007865963973884999 %\n",
      "Violation:  11.0 PRKD WTHIN 35 FT INT :  Percentage of Citations:  0.0007865963973884999 %\n",
      "Violation:  6.0 PRK/STND/STOP FIREHS :  Percentage of Citations:  0.0007865963973884999 %\n",
      "Violation:  32.0 NO STND/STOP TAXI STA :  Percentage of Citations:  0.0007865963973884999 %\n"
     ]
    }
   ],
   "source": [
    "for i in range(len(per_viol_code.index)): #printing violations codes and descriptions\n",
    "    ind=per_viol_code.index[i]\n",
    "    print('Violation: ', per_viol_code.index[i], descriptionall.index[i], ': ', 'Percentage of Citations: ', per_viol_code[ind], '%')"
   ]
  },
  {
   "cell_type": "code",
   "execution_count": 68,
   "metadata": {},
   "outputs": [
    {
     "data": {
      "image/png": "[encoded data removed]",
      "text/plain": [
       "<Figure size 1296x576 with 1 Axes>"
      ]
     },
     "metadata": {},
     "output_type": "display_data"
    }
   ],
   "source": [
    "seaborn.set(rc={'figure.figsize':(18,8)})\n",
    "plot3=seaborn.barplot(y=per_viol_code, x=per_viol_code.index)\n",
    "plot3.set(xlabel='Violation Code', ylabel = 'Percentage of Citations');"
   ]
  },
  {
   "cell_type": "markdown",
   "metadata": {},
   "source": [
    "#### Vehicle Make, Color, and Types:"
   ]
  },
  {
   "cell_type": "markdown",
   "metadata": {},
   "source": [
    "I wanted to look at the which vehicle makes, vehicle colors, and vehicle types had the most and least amount of citations."
   ]
  },
  {
   "cell_type": "markdown",
   "metadata": {},
   "source": [
    "I did not find a data dictionary for this dataset. There are a abbreviations used in the Vehicle Make and Vehicle Color columns, because of the time constraint for this project I tried to find other sources to find what the abbreviations stood for instead of contacting the dataset owner. I will include these sources when discussing my findings on those columns below. "
   ]
  },
  {
   "cell_type": "markdown",
   "metadata": {},
   "source": [
    "#### Vehicle Make:"
   ]
  },
  {
   "cell_type": "code",
   "execution_count": 48,
   "metadata": {},
   "outputs": [
    {
     "data": {
      "text/plain": [
       "73"
      ]
     },
     "execution_count": 48,
     "metadata": {},
     "output_type": "execute_result"
    }
   ],
   "source": [
    "citations['Vehicle Make'].nunique() #number of unique values in this column"
   ]
  },
  {
   "cell_type": "markdown",
   "metadata": {},
   "source": [
    "To find what the vehicle make abbreviations stood for I used this list of vehicle make abbreviations: https://pdf4pro.com/cdn/motor-vehicle-make-abbreviation-list-592398.pdf"
   ]
  },
  {
   "cell_type": "markdown",
   "metadata": {},
   "source": [
    "10 vehicle makes with the most citations:"
   ]
  },
  {
   "cell_type": "code",
   "execution_count": 49,
   "metadata": {},
   "outputs": [
    {
     "data": {
      "text/plain": [
       "TOYT    19476\n",
       "HOND    16901\n",
       "FORD    10408\n",
       "CHEV     8234\n",
       "NISS     8184\n",
       "MERZ     5864\n",
       "HYUN     4998\n",
       "BMW      4988\n",
       "JEEP     4720\n",
       "VOLK     4051\n",
       "Name: Vehicle Make, dtype: int64"
      ]
     },
     "execution_count": 49,
     "metadata": {},
     "output_type": "execute_result"
    }
   ],
   "source": [
    "citations['Vehicle Make'].value_counts().head(10) "
   ]
  },
  {
   "cell_type": "markdown",
   "metadata": {},
   "source": [
    "The top 10 vehicle makes with the most citations were: Toyota, Honda, Ford, Chevrolet, Nissan, Mercedes-Benz, Hyundai, BMW, Jeep, and Volkswagen."
   ]
  },
  {
   "cell_type": "code",
   "execution_count": 80,
   "metadata": {},
   "outputs": [
    {
     "data": {
      "image/png": "[encoded data removed]",
      "text/plain": [
       "<Figure size 1296x576 with 1 Axes>"
      ]
     },
     "metadata": {},
     "output_type": "display_data"
    }
   ],
   "source": [
    "seaborn.set_palette(\"husl\", 8)\n",
    "plot4=seaborn.barplot(y=citations['Vehicle Make'].value_counts().head(10), x=citations['Vehicle Make'].value_counts().head(10).index)\n",
    "plot4.set(xlabel='Vehicle Make', ylabel = 'Number of Citations');"
   ]
  },
  {
   "cell_type": "markdown",
   "metadata": {},
   "source": [
    "10 vehicle makes with the least amount of citations:"
   ]
  },
  {
   "cell_type": "code",
   "execution_count": 50,
   "metadata": {},
   "outputs": [
    {
     "data": {
      "text/plain": [
       "ROLS    2\n",
       "GEO     2\n",
       "UD      2\n",
       "OTH     2\n",
       "PLYM    2\n",
       "KAWK    2\n",
       "MOTO    1\n",
       "AMER    1\n",
       "LANC    1\n",
       "LOTU    1\n",
       "Name: Vehicle Make, dtype: int64"
      ]
     },
     "execution_count": 50,
     "metadata": {},
     "output_type": "execute_result"
    }
   ],
   "source": [
    "citations['Vehicle Make'].value_counts().tail(10)"
   ]
  },
  {
   "cell_type": "markdown",
   "metadata": {},
   "source": [
    "The bottom 10 vehicle makes with the least citations were: UD, GEO, Plymouth, MG, OTH (could not find this abbreviation, most likely stands for 'other'), Rolls-Royce, Lanchester, American Motors, MOTOROAM.IND.,.INC., and Lotus."
   ]
  },
  {
   "cell_type": "code",
   "execution_count": 82,
   "metadata": {},
   "outputs": [
    {
     "data": {
      "image/png": "[encoded data removed]",
      "text/plain": [
       "<Figure size 1296x576 with 1 Axes>"
      ]
     },
     "metadata": {},
     "output_type": "display_data"
    }
   ],
   "source": [
    "seaborn.set_palette(\"husl\", 8)\n",
    "plot5=seaborn.barplot(y=citations['Vehicle Make'].value_counts().tail(10), x=citations['Vehicle Make'].value_counts().tail(10).index)\n",
    "plot5.set(xlabel='Vehicle Make', ylabel = 'Number of Citations');"
   ]
  },
  {
   "cell_type": "markdown",
   "metadata": {},
   "source": [
    "#### Vehicle Colors:"
   ]
  },
  {
   "cell_type": "markdown",
   "metadata": {},
   "source": [
    "To find what the color abbreviations stood for I used the vehicle color list from the Department of Wisconsin because many of the color abbreviations were very similar: https://wisconsindot.gov/Pages/dmv/vehicles/title-plates/veh-color-abbrev.aspx"
   ]
  },
  {
   "cell_type": "code",
   "execution_count": 51,
   "metadata": {},
   "outputs": [
    {
     "data": {
      "text/plain": [
       "34"
      ]
     },
     "execution_count": 51,
     "metadata": {},
     "output_type": "execute_result"
    }
   ],
   "source": [
    "citations['Vehicle Color'].nunique() #number of unique values in this column"
   ]
  },
  {
   "cell_type": "markdown",
   "metadata": {},
   "source": [
    "5 vehicle colors with the most citations:"
   ]
  },
  {
   "cell_type": "code",
   "execution_count": 52,
   "metadata": {
    "scrolled": true
   },
   "outputs": [
    {
     "data": {
      "text/plain": [
       "BK    29900\n",
       "WH    25553\n",
       "GY    24935\n",
       "SI    18169\n",
       "BL    10575\n",
       "Name: Vehicle Color, dtype: int64"
      ]
     },
     "execution_count": 52,
     "metadata": {},
     "output_type": "execute_result"
    }
   ],
   "source": [
    "citations['Vehicle Color'].value_counts().head(5)"
   ]
  },
  {
   "cell_type": "markdown",
   "metadata": {},
   "source": [
    "The top 5 vehicle colors with the most citations: black, white, gray, silver, and blue. "
   ]
  },
  {
   "cell_type": "code",
   "execution_count": 85,
   "metadata": {},
   "outputs": [
    {
     "data": {
      "image/png": "[encoded data removed]",
      "text/plain": [
       "<Figure size 720x360 with 1 Axes>"
      ]
     },
     "metadata": {},
     "output_type": "display_data"
    }
   ],
   "source": [
    "seaborn.set(rc={'figure.figsize':(10,5)})\n",
    "seaborn.set_palette(\"husl\", 8)\n",
    "plot6=seaborn.barplot(y=citations['Vehicle Color'].value_counts().head(5), x=citations['Vehicle Color'].value_counts().head(5).index)\n",
    "plot6.set(xlabel='Vehicle Color', ylabel = 'Number of Citations');"
   ]
  },
  {
   "cell_type": "markdown",
   "metadata": {},
   "source": [
    "5 vehicle colors with least citations:"
   ]
  },
  {
   "cell_type": "code",
   "execution_count": 53,
   "metadata": {},
   "outputs": [
    {
     "data": {
      "text/plain": [
       "BZ    6\n",
       "CM    4\n",
       "LV    4\n",
       "CA    1\n",
       "MV    1\n",
       "Name: Vehicle Color, dtype: int64"
      ]
     },
     "execution_count": 53,
     "metadata": {},
     "output_type": "execute_result"
    }
   ],
   "source": [
    "citations['Vehicle Color'].value_counts().tail(5)"
   ]
  },
  {
   "cell_type": "markdown",
   "metadata": {},
   "source": [
    "The bottom 5 vehicles colors with the least citations: bronze, chrome, lavender, camouflage, and mauve."
   ]
  },
  {
   "cell_type": "code",
   "execution_count": 87,
   "metadata": {},
   "outputs": [
    {
     "data": {
      "image/png": "[encoded data removed]",
      "text/plain": [
       "<Figure size 720x360 with 1 Axes>"
      ]
     },
     "metadata": {},
     "output_type": "display_data"
    }
   ],
   "source": [
    "seaborn.set(rc={'figure.figsize':(10,5)})\n",
    "seaborn.set_palette(\"husl\", 8)\n",
    "plot7=seaborn.barplot(y=citations['Vehicle Color'].value_counts().tail(5), x=citations['Vehicle Color'].value_counts().tail(5).index)\n",
    "plot7.set(xlabel='Vehicle Color', ylabel = 'Number of Citations');"
   ]
  },
  {
   "cell_type": "markdown",
   "metadata": {},
   "source": [
    "#### Vehicle Type:"
   ]
  },
  {
   "cell_type": "markdown",
   "metadata": {},
   "source": [
    "To find the what the abbreviations in this section stood for I used this list from the California DMV: https://www.dmv.ca.gov/portal/handbook/vehicle-industry-registration-procedures-manual-2/inquiries/chart-1-body-type-model-and-body-type-codes/"
   ]
  },
  {
   "cell_type": "code",
   "execution_count": 54,
   "metadata": {},
   "outputs": [
    {
     "data": {
      "text/plain": [
       "14"
      ]
     },
     "execution_count": 54,
     "metadata": {},
     "output_type": "execute_result"
    }
   ],
   "source": [
    "citations['Vehicle Type'].nunique() #number of unique values in this column"
   ]
  },
  {
   "cell_type": "code",
   "execution_count": 55,
   "metadata": {},
   "outputs": [
    {
     "data": {
      "text/plain": [
       "4D    58079\n",
       "SU    44576\n",
       "VN     8890\n",
       "2D     6138\n",
       "PU     5215\n",
       "TK     1941\n",
       "SW      816\n",
       "CV      475\n",
       "TL       91\n",
       "TX       89\n",
       "BU       75\n",
       "MC       43\n",
       "BT        6\n",
       "MS        3\n",
       "Name: Vehicle Type, dtype: int64"
      ]
     },
     "execution_count": 55,
     "metadata": {},
     "output_type": "execute_result"
    }
   ],
   "source": [
    "citations['Vehicle Type'].value_counts()"
   ]
  },
  {
   "cell_type": "code",
   "execution_count": 88,
   "metadata": {},
   "outputs": [
    {
     "data": {
      "image/png": "[encoded data removed]",
      "text/plain": [
       "<Figure size 720x360 with 1 Axes>"
      ]
     },
     "metadata": {},
     "output_type": "display_data"
    }
   ],
   "source": [
    "plot8=seaborn.barplot(y=citations['Vehicle Type'].value_counts(), x=citations['Vehicle Type'].value_counts().index)\n",
    "plot8.set(xlabel='Vehicle Type', ylabel = 'Number of Citations');"
   ]
  },
  {
   "cell_type": "markdown",
   "metadata": {},
   "source": [
    "3 vehicle types with most citations:"
   ]
  },
  {
   "cell_type": "code",
   "execution_count": 56,
   "metadata": {},
   "outputs": [
    {
     "data": {
      "text/plain": [
       "4D    58079\n",
       "SU    44576\n",
       "VN     8890\n",
       "Name: Vehicle Type, dtype: int64"
      ]
     },
     "execution_count": 56,
     "metadata": {},
     "output_type": "execute_result"
    }
   ],
   "source": [
    "citations['Vehicle Type'].value_counts().head(3)"
   ]
  },
  {
   "cell_type": "markdown",
   "metadata": {},
   "source": [
    "The top 3 vehicle types with the most citations: 4 door sedans, SUVs, and vans. "
   ]
  },
  {
   "cell_type": "code",
   "execution_count": 89,
   "metadata": {},
   "outputs": [
    {
     "data": {
      "image/png": "[encoded data removed]",
      "text/plain": [
       "<Figure size 720x360 with 1 Axes>"
      ]
     },
     "metadata": {},
     "output_type": "display_data"
    }
   ],
   "source": [
    "plot9=seaborn.barplot(y=citations['Vehicle Type'].value_counts().head(3), x=citations['Vehicle Type'].value_counts().head(3).index)\n",
    "plot9.set(xlabel='Vehicle Type', ylabel = 'Number of Citations');"
   ]
  },
  {
   "cell_type": "markdown",
   "metadata": {},
   "source": [
    "3 vehicle types with least citations:"
   ]
  },
  {
   "cell_type": "code",
   "execution_count": 57,
   "metadata": {},
   "outputs": [
    {
     "data": {
      "text/plain": [
       "MC    43\n",
       "BT     6\n",
       "MS     3\n",
       "Name: Vehicle Type, dtype: int64"
      ]
     },
     "execution_count": 57,
     "metadata": {},
     "output_type": "execute_result"
    }
   ],
   "source": [
    "citations['Vehicle Type'].value_counts().tail(3)"
   ]
  },
  {
   "cell_type": "markdown",
   "metadata": {},
   "source": [
    "The bottom 3 vehicle types with the least citations: motorcycles, boats, and motorscooters."
   ]
  },
  {
   "cell_type": "code",
   "execution_count": 90,
   "metadata": {},
   "outputs": [
    {
     "data": {
      "image/png": "[encoded data removed]",
      "text/plain": [
       "<Figure size 720x360 with 1 Axes>"
      ]
     },
     "metadata": {},
     "output_type": "display_data"
    }
   ],
   "source": [
    "plot10=seaborn.barplot(y=citations['Vehicle Type'].value_counts().tail(3), x=citations['Vehicle Type'].value_counts().tail(3).index)\n",
    "plot10.set(xlabel='Vehicle Type', ylabel = 'Number of Citations');"
   ]
  },
  {
   "cell_type": "markdown",
   "metadata": {},
   "source": [
    "### Exploratory Data Analysis: Crash Data"
   ]
  },
  {
   "cell_type": "markdown",
   "metadata": {},
   "source": [
    "There was a data dictionary for this dataset (link:https://catalog.data.gov/dataset/maryland-statewide-vehicle-crash-data-dictionary-f4840), which I used to determine what the codes for some of the columns meant."
   ]
  },
  {
   "cell_type": "markdown",
   "metadata": {},
   "source": [
    "#### Hours:"
   ]
  },
  {
   "cell_type": "code",
   "execution_count": 92,
   "metadata": {},
   "outputs": [
    {
     "data": {
      "text/html": [
       "<div>\n",
       "<style scoped>\n",
       "    .dataframe tbody tr th:only-of-type {\n",
       "        vertical-align: middle;\n",
       "    }\n",
       "\n",
       "    .dataframe tbody tr th {\n",
       "        vertical-align: top;\n",
       "    }\n",
       "\n",
       "    .dataframe thead th {\n",
       "        text-align: right;\n",
       "    }\n",
       "</style>\n",
       "<table border=\"1\" class=\"dataframe\">\n",
       "  <thead>\n",
       "    <tr style=\"text-align: right;\">\n",
       "      <th></th>\n",
       "      <th>YEAR</th>\n",
       "      <th>QUARTER</th>\n",
       "      <th>LIGHT_DESC</th>\n",
       "      <th>LIGHT_CODE</th>\n",
       "      <th>COUNTY_DESC</th>\n",
       "      <th>COLLISION_TYPE_CODE</th>\n",
       "      <th>SURF_COND_CODE</th>\n",
       "      <th>LANE_CODE</th>\n",
       "      <th>RD_COND_DESC</th>\n",
       "      <th>RD_COND_CODE</th>\n",
       "      <th>RD_DIV_CODE</th>\n",
       "      <th>FIX_OBJ_CODE</th>\n",
       "      <th>REPORT_NO</th>\n",
       "      <th>REPORT_TYPE</th>\n",
       "      <th>WEATHER_CODE</th>\n",
       "      <th>ACC_TIME</th>\n",
       "      <th>ACCIDENT_DATE</th>\n",
       "      <th>SIGNAL_FLAG</th>\n",
       "      <th>HARM_EVENT_CODE1</th>\n",
       "      <th>HARM_EVENT_CODE2</th>\n",
       "      <th>MAINROAD_NAME</th>\n",
       "      <th>REFERENCE_NO</th>\n",
       "      <th>REFERENCE_TYPE_CODE</th>\n",
       "      <th>REFERENCE_ROAD_NAME</th>\n",
       "      <th>LATITUDE</th>\n",
       "      <th>LONGITUDE</th>\n",
       "      <th>LOCATION</th>\n",
       "    </tr>\n",
       "    <tr>\n",
       "      <th>Index</th>\n",
       "      <th></th>\n",
       "      <th></th>\n",
       "      <th></th>\n",
       "      <th></th>\n",
       "      <th></th>\n",
       "      <th></th>\n",
       "      <th></th>\n",
       "      <th></th>\n",
       "      <th></th>\n",
       "      <th></th>\n",
       "      <th></th>\n",
       "      <th></th>\n",
       "      <th></th>\n",
       "      <th></th>\n",
       "      <th></th>\n",
       "      <th></th>\n",
       "      <th></th>\n",
       "      <th></th>\n",
       "      <th></th>\n",
       "      <th></th>\n",
       "      <th></th>\n",
       "      <th></th>\n",
       "      <th></th>\n",
       "      <th></th>\n",
       "      <th></th>\n",
       "      <th></th>\n",
       "      <th></th>\n",
       "    </tr>\n",
       "  </thead>\n",
       "  <tbody>\n",
       "    <tr>\n",
       "      <th>0</th>\n",
       "      <td>2020</td>\n",
       "      <td>Q2</td>\n",
       "      <td>Daylight</td>\n",
       "      <td>1.0</td>\n",
       "      <td>Montgomery</td>\n",
       "      <td>88</td>\n",
       "      <td>NaN</td>\n",
       "      <td>NaN</td>\n",
       "      <td>NaN</td>\n",
       "      <td>NaN</td>\n",
       "      <td>NaN</td>\n",
       "      <td>0.0</td>\n",
       "      <td>EJ7878001D</td>\n",
       "      <td>Injury Crash</td>\n",
       "      <td>6.01</td>\n",
       "      <td>09:46:00</td>\n",
       "      <td>2020-05-04</td>\n",
       "      <td>N</td>\n",
       "      <td>3.0</td>\n",
       "      <td>0.0</td>\n",
       "      <td>NaN</td>\n",
       "      <td>NaN</td>\n",
       "      <td>NaN</td>\n",
       "      <td>NaN</td>\n",
       "      <td>39.140680</td>\n",
       "      <td>-77.193413</td>\n",
       "      <td>POINT (-77.193412729561 39.140680249069)</td>\n",
       "    </tr>\n",
       "    <tr>\n",
       "      <th>1</th>\n",
       "      <td>2020</td>\n",
       "      <td>Q2</td>\n",
       "      <td>Daylight</td>\n",
       "      <td>1.0</td>\n",
       "      <td>Montgomery</td>\n",
       "      <td>88</td>\n",
       "      <td>NaN</td>\n",
       "      <td>NaN</td>\n",
       "      <td>NaN</td>\n",
       "      <td>NaN</td>\n",
       "      <td>NaN</td>\n",
       "      <td>0.0</td>\n",
       "      <td>MCP23720030</td>\n",
       "      <td>Property Damage Crash</td>\n",
       "      <td>6.01</td>\n",
       "      <td>11:05:00</td>\n",
       "      <td>2020-06-30</td>\n",
       "      <td>N</td>\n",
       "      <td>2.0</td>\n",
       "      <td>0.0</td>\n",
       "      <td>NaN</td>\n",
       "      <td>NaN</td>\n",
       "      <td>NaN</td>\n",
       "      <td>NaN</td>\n",
       "      <td>39.051872</td>\n",
       "      <td>-77.111598</td>\n",
       "      <td>POINT (-77.111598166667 39.0518715)</td>\n",
       "    </tr>\n",
       "    <tr>\n",
       "      <th>2</th>\n",
       "      <td>2020</td>\n",
       "      <td>Q2</td>\n",
       "      <td>Daylight</td>\n",
       "      <td>1.0</td>\n",
       "      <td>Montgomery</td>\n",
       "      <td>17</td>\n",
       "      <td>NaN</td>\n",
       "      <td>NaN</td>\n",
       "      <td>NaN</td>\n",
       "      <td>NaN</td>\n",
       "      <td>NaN</td>\n",
       "      <td>7.0</td>\n",
       "      <td>MCP2859008W</td>\n",
       "      <td>Property Damage Crash</td>\n",
       "      <td>7.01</td>\n",
       "      <td>13:20:00</td>\n",
       "      <td>2020-04-01</td>\n",
       "      <td>N</td>\n",
       "      <td>9.0</td>\n",
       "      <td>0.0</td>\n",
       "      <td>NaN</td>\n",
       "      <td>NaN</td>\n",
       "      <td>NaN</td>\n",
       "      <td>NaN</td>\n",
       "      <td>39.119458</td>\n",
       "      <td>-77.211542</td>\n",
       "      <td>POINT (-77.211541666667 39.119458333333)</td>\n",
       "    </tr>\n",
       "    <tr>\n",
       "      <th>3</th>\n",
       "      <td>2020</td>\n",
       "      <td>Q2</td>\n",
       "      <td>Daylight</td>\n",
       "      <td>1.0</td>\n",
       "      <td>Montgomery</td>\n",
       "      <td>17</td>\n",
       "      <td>NaN</td>\n",
       "      <td>NaN</td>\n",
       "      <td>NaN</td>\n",
       "      <td>NaN</td>\n",
       "      <td>NaN</td>\n",
       "      <td>2.0</td>\n",
       "      <td>MCP32350015</td>\n",
       "      <td>Property Damage Crash</td>\n",
       "      <td>6.01</td>\n",
       "      <td>16:19:00</td>\n",
       "      <td>2020-06-12</td>\n",
       "      <td>N</td>\n",
       "      <td>9.0</td>\n",
       "      <td>0.0</td>\n",
       "      <td>NaN</td>\n",
       "      <td>NaN</td>\n",
       "      <td>NaN</td>\n",
       "      <td>NaN</td>\n",
       "      <td>39.038177</td>\n",
       "      <td>-76.990072</td>\n",
       "      <td>POINT (-76.990071666667 39.038176666667)</td>\n",
       "    </tr>\n",
       "    <tr>\n",
       "      <th>4</th>\n",
       "      <td>2020</td>\n",
       "      <td>Q2</td>\n",
       "      <td>Dark Lights On</td>\n",
       "      <td>3.0</td>\n",
       "      <td>Montgomery</td>\n",
       "      <td>17</td>\n",
       "      <td>NaN</td>\n",
       "      <td>NaN</td>\n",
       "      <td>NaN</td>\n",
       "      <td>NaN</td>\n",
       "      <td>NaN</td>\n",
       "      <td>8.0</td>\n",
       "      <td>MCP3156001C</td>\n",
       "      <td>Property Damage Crash</td>\n",
       "      <td>7.01</td>\n",
       "      <td>01:20:00</td>\n",
       "      <td>2020-05-29</td>\n",
       "      <td>N</td>\n",
       "      <td>9.0</td>\n",
       "      <td>10.0</td>\n",
       "      <td>NaN</td>\n",
       "      <td>NaN</td>\n",
       "      <td>NaN</td>\n",
       "      <td>NaN</td>\n",
       "      <td>38.990567</td>\n",
       "      <td>-77.023835</td>\n",
       "      <td>POINT (-77.023835 38.990566666667)</td>\n",
       "    </tr>\n",
       "    <tr>\n",
       "      <th>...</th>\n",
       "      <td>...</td>\n",
       "      <td>...</td>\n",
       "      <td>...</td>\n",
       "      <td>...</td>\n",
       "      <td>...</td>\n",
       "      <td>...</td>\n",
       "      <td>...</td>\n",
       "      <td>...</td>\n",
       "      <td>...</td>\n",
       "      <td>...</td>\n",
       "      <td>...</td>\n",
       "      <td>...</td>\n",
       "      <td>...</td>\n",
       "      <td>...</td>\n",
       "      <td>...</td>\n",
       "      <td>...</td>\n",
       "      <td>...</td>\n",
       "      <td>...</td>\n",
       "      <td>...</td>\n",
       "      <td>...</td>\n",
       "      <td>...</td>\n",
       "      <td>...</td>\n",
       "      <td>...</td>\n",
       "      <td>...</td>\n",
       "      <td>...</td>\n",
       "      <td>...</td>\n",
       "      <td>...</td>\n",
       "    </tr>\n",
       "    <tr>\n",
       "      <th>11675</th>\n",
       "      <td>2019</td>\n",
       "      <td>Q3</td>\n",
       "      <td>Daylight</td>\n",
       "      <td>1.0</td>\n",
       "      <td>Montgomery</td>\n",
       "      <td>7</td>\n",
       "      <td>2.0</td>\n",
       "      <td>3.0</td>\n",
       "      <td>No Defects</td>\n",
       "      <td>1.0</td>\n",
       "      <td>4.0</td>\n",
       "      <td>0.0</td>\n",
       "      <td>MCP3112002W</td>\n",
       "      <td>Property Damage Crash</td>\n",
       "      <td>7.01</td>\n",
       "      <td>15:02:00</td>\n",
       "      <td>2019-07-24</td>\n",
       "      <td>Y</td>\n",
       "      <td>1.0</td>\n",
       "      <td>0.0</td>\n",
       "      <td>BRADLEY BLVD</td>\n",
       "      <td>362.0</td>\n",
       "      <td>CO</td>\n",
       "      <td>ARLINGTON RD</td>\n",
       "      <td>38.978215</td>\n",
       "      <td>-77.098181</td>\n",
       "      <td>POINT (-77.098181 38.978215)</td>\n",
       "    </tr>\n",
       "    <tr>\n",
       "      <th>11676</th>\n",
       "      <td>2019</td>\n",
       "      <td>Q3</td>\n",
       "      <td>Daylight</td>\n",
       "      <td>1.0</td>\n",
       "      <td>Montgomery</td>\n",
       "      <td>9</td>\n",
       "      <td>2.0</td>\n",
       "      <td>2.0</td>\n",
       "      <td>No Defects</td>\n",
       "      <td>1.0</td>\n",
       "      <td>4.0</td>\n",
       "      <td>0.0</td>\n",
       "      <td>MCP32010008</td>\n",
       "      <td>Property Damage Crash</td>\n",
       "      <td>0.00</td>\n",
       "      <td>13:03:00</td>\n",
       "      <td>2019-09-08</td>\n",
       "      <td>N</td>\n",
       "      <td>1.0</td>\n",
       "      <td>0.0</td>\n",
       "      <td>EISENHOWER MEMORIAL HWY</td>\n",
       "      <td>0.0</td>\n",
       "      <td>UU</td>\n",
       "      <td>MILE MARKER 18.0</td>\n",
       "      <td>39.256142</td>\n",
       "      <td>-77.304413</td>\n",
       "      <td>POINT (-77.30441333333331 39.2561416666667)</td>\n",
       "    </tr>\n",
       "    <tr>\n",
       "      <th>11677</th>\n",
       "      <td>2019</td>\n",
       "      <td>Q3</td>\n",
       "      <td>Daylight</td>\n",
       "      <td>1.0</td>\n",
       "      <td>Montgomery</td>\n",
       "      <td>3</td>\n",
       "      <td>2.0</td>\n",
       "      <td>6.0</td>\n",
       "      <td>No Defects</td>\n",
       "      <td>1.0</td>\n",
       "      <td>4.0</td>\n",
       "      <td>0.0</td>\n",
       "      <td>MSP692000B3</td>\n",
       "      <td>Injury Crash</td>\n",
       "      <td>6.01</td>\n",
       "      <td>17:55:00</td>\n",
       "      <td>2019-07-31</td>\n",
       "      <td>N</td>\n",
       "      <td>1.0</td>\n",
       "      <td>1.0</td>\n",
       "      <td>EISENHOWER MEMORIAL HWY</td>\n",
       "      <td>212.0</td>\n",
       "      <td>CO</td>\n",
       "      <td>SHADY GROVE RD</td>\n",
       "      <td>39.109364</td>\n",
       "      <td>-77.185876</td>\n",
       "      <td>POINT (-77.1858761666667 39.1093643)</td>\n",
       "    </tr>\n",
       "    <tr>\n",
       "      <th>11678</th>\n",
       "      <td>2019</td>\n",
       "      <td>Q3</td>\n",
       "      <td>Daylight</td>\n",
       "      <td>1.0</td>\n",
       "      <td>Montgomery</td>\n",
       "      <td>17</td>\n",
       "      <td>NaN</td>\n",
       "      <td>NaN</td>\n",
       "      <td>NaN</td>\n",
       "      <td>NaN</td>\n",
       "      <td>NaN</td>\n",
       "      <td>11.0</td>\n",
       "      <td>MCP3180000R</td>\n",
       "      <td>Injury Crash</td>\n",
       "      <td>6.01</td>\n",
       "      <td>13:04:00</td>\n",
       "      <td>2019-09-19</td>\n",
       "      <td>N</td>\n",
       "      <td>9.0</td>\n",
       "      <td>10.0</td>\n",
       "      <td>NaN</td>\n",
       "      <td>NaN</td>\n",
       "      <td>NaN</td>\n",
       "      <td>NaN</td>\n",
       "      <td>39.152937</td>\n",
       "      <td>-77.069092</td>\n",
       "      <td>POINT (-77.0690916666667 39.1529366666667)</td>\n",
       "    </tr>\n",
       "    <tr>\n",
       "      <th>11679</th>\n",
       "      <td>2019</td>\n",
       "      <td>Q3</td>\n",
       "      <td>Daylight</td>\n",
       "      <td>1.0</td>\n",
       "      <td>Montgomery</td>\n",
       "      <td>2</td>\n",
       "      <td>2.0</td>\n",
       "      <td>NaN</td>\n",
       "      <td>No Defects</td>\n",
       "      <td>1.0</td>\n",
       "      <td>4.0</td>\n",
       "      <td>0.0</td>\n",
       "      <td>MCP1475002C</td>\n",
       "      <td>Injury Crash</td>\n",
       "      <td>6.01</td>\n",
       "      <td>10:00:00</td>\n",
       "      <td>2019-09-22</td>\n",
       "      <td>Y</td>\n",
       "      <td>1.0</td>\n",
       "      <td>0.0</td>\n",
       "      <td>RUSSELL AVE</td>\n",
       "      <td>182.0</td>\n",
       "      <td>MU</td>\n",
       "      <td>LAKE FOREST BLVD</td>\n",
       "      <td>39.151418</td>\n",
       "      <td>-77.207443</td>\n",
       "      <td>POINT (-77.2074433333333 39.1514183333333)</td>\n",
       "    </tr>\n",
       "  </tbody>\n",
       "</table>\n",
       "<p>11680 rows × 27 columns</p>\n",
       "</div>"
      ],
      "text/plain": [
       "       YEAR QUARTER      LIGHT_DESC  LIGHT_CODE COUNTY_DESC  \\\n",
       "Index                                                         \n",
       "0      2020      Q2        Daylight         1.0  Montgomery   \n",
       "1      2020      Q2        Daylight         1.0  Montgomery   \n",
       "2      2020      Q2        Daylight         1.0  Montgomery   \n",
       "3      2020      Q2        Daylight         1.0  Montgomery   \n",
       "4      2020      Q2  Dark Lights On         3.0  Montgomery   \n",
       "...     ...     ...             ...         ...         ...   \n",
       "11675  2019      Q3        Daylight         1.0  Montgomery   \n",
       "11676  2019      Q3        Daylight         1.0  Montgomery   \n",
       "11677  2019      Q3        Daylight         1.0  Montgomery   \n",
       "11678  2019      Q3        Daylight         1.0  Montgomery   \n",
       "11679  2019      Q3        Daylight         1.0  Montgomery   \n",
       "\n",
       "       COLLISION_TYPE_CODE  SURF_COND_CODE  LANE_CODE RD_COND_DESC  \\\n",
       "Index                                                                \n",
       "0                       88             NaN        NaN          NaN   \n",
       "1                       88             NaN        NaN          NaN   \n",
       "2                       17             NaN        NaN          NaN   \n",
       "3                       17             NaN        NaN          NaN   \n",
       "4                       17             NaN        NaN          NaN   \n",
       "...                    ...             ...        ...          ...   \n",
       "11675                    7             2.0        3.0   No Defects   \n",
       "11676                    9             2.0        2.0   No Defects   \n",
       "11677                    3             2.0        6.0   No Defects   \n",
       "11678                   17             NaN        NaN          NaN   \n",
       "11679                    2             2.0        NaN   No Defects   \n",
       "\n",
       "       RD_COND_CODE  RD_DIV_CODE  FIX_OBJ_CODE    REPORT_NO  \\\n",
       "Index                                                         \n",
       "0               NaN          NaN           0.0   EJ7878001D   \n",
       "1               NaN          NaN           0.0  MCP23720030   \n",
       "2               NaN          NaN           7.0  MCP2859008W   \n",
       "3               NaN          NaN           2.0  MCP32350015   \n",
       "4               NaN          NaN           8.0  MCP3156001C   \n",
       "...             ...          ...           ...          ...   \n",
       "11675           1.0          4.0           0.0  MCP3112002W   \n",
       "11676           1.0          4.0           0.0  MCP32010008   \n",
       "11677           1.0          4.0           0.0  MSP692000B3   \n",
       "11678           NaN          NaN          11.0  MCP3180000R   \n",
       "11679           1.0          4.0           0.0  MCP1475002C   \n",
       "\n",
       "                 REPORT_TYPE  WEATHER_CODE  ACC_TIME ACCIDENT_DATE  \\\n",
       "Index                                                                \n",
       "0               Injury Crash          6.01  09:46:00    2020-05-04   \n",
       "1      Property Damage Crash          6.01  11:05:00    2020-06-30   \n",
       "2      Property Damage Crash          7.01  13:20:00    2020-04-01   \n",
       "3      Property Damage Crash          6.01  16:19:00    2020-06-12   \n",
       "4      Property Damage Crash          7.01  01:20:00    2020-05-29   \n",
       "...                      ...           ...       ...           ...   \n",
       "11675  Property Damage Crash          7.01  15:02:00    2019-07-24   \n",
       "11676  Property Damage Crash          0.00  13:03:00    2019-09-08   \n",
       "11677           Injury Crash          6.01  17:55:00    2019-07-31   \n",
       "11678           Injury Crash          6.01  13:04:00    2019-09-19   \n",
       "11679           Injury Crash          6.01  10:00:00    2019-09-22   \n",
       "\n",
       "      SIGNAL_FLAG  HARM_EVENT_CODE1  HARM_EVENT_CODE2  \\\n",
       "Index                                                   \n",
       "0               N               3.0               0.0   \n",
       "1               N               2.0               0.0   \n",
       "2               N               9.0               0.0   \n",
       "3               N               9.0               0.0   \n",
       "4               N               9.0              10.0   \n",
       "...           ...               ...               ...   \n",
       "11675           Y               1.0               0.0   \n",
       "11676           N               1.0               0.0   \n",
       "11677           N               1.0               1.0   \n",
       "11678           N               9.0              10.0   \n",
       "11679           Y               1.0               0.0   \n",
       "\n",
       "                 MAINROAD_NAME  REFERENCE_NO REFERENCE_TYPE_CODE  \\\n",
       "Index                                                              \n",
       "0                          NaN           NaN                 NaN   \n",
       "1                          NaN           NaN                 NaN   \n",
       "2                          NaN           NaN                 NaN   \n",
       "3                          NaN           NaN                 NaN   \n",
       "4                          NaN           NaN                 NaN   \n",
       "...                        ...           ...                 ...   \n",
       "11675             BRADLEY BLVD         362.0                  CO   \n",
       "11676  EISENHOWER MEMORIAL HWY           0.0                  UU   \n",
       "11677  EISENHOWER MEMORIAL HWY         212.0                  CO   \n",
       "11678                      NaN           NaN                 NaN   \n",
       "11679              RUSSELL AVE         182.0                  MU   \n",
       "\n",
       "      REFERENCE_ROAD_NAME   LATITUDE  LONGITUDE  \\\n",
       "Index                                             \n",
       "0                     NaN  39.140680 -77.193413   \n",
       "1                     NaN  39.051872 -77.111598   \n",
       "2                     NaN  39.119458 -77.211542   \n",
       "3                     NaN  39.038177 -76.990072   \n",
       "4                     NaN  38.990567 -77.023835   \n",
       "...                   ...        ...        ...   \n",
       "11675        ARLINGTON RD  38.978215 -77.098181   \n",
       "11676    MILE MARKER 18.0  39.256142 -77.304413   \n",
       "11677      SHADY GROVE RD  39.109364 -77.185876   \n",
       "11678                 NaN  39.152937 -77.069092   \n",
       "11679    LAKE FOREST BLVD  39.151418 -77.207443   \n",
       "\n",
       "                                          LOCATION  \n",
       "Index                                               \n",
       "0         POINT (-77.193412729561 39.140680249069)  \n",
       "1              POINT (-77.111598166667 39.0518715)  \n",
       "2         POINT (-77.211541666667 39.119458333333)  \n",
       "3         POINT (-76.990071666667 39.038176666667)  \n",
       "4               POINT (-77.023835 38.990566666667)  \n",
       "...                                            ...  \n",
       "11675                 POINT (-77.098181 38.978215)  \n",
       "11676  POINT (-77.30441333333331 39.2561416666667)  \n",
       "11677         POINT (-77.1858761666667 39.1093643)  \n",
       "11678   POINT (-77.0690916666667 39.1529366666667)  \n",
       "11679   POINT (-77.2074433333333 39.1514183333333)  \n",
       "\n",
       "[11680 rows x 27 columns]"
      ]
     },
     "execution_count": 92,
     "metadata": {},
     "output_type": "execute_result"
    }
   ],
   "source": [
    "crashdata_df3"
   ]
  },
  {
   "cell_type": "markdown",
   "metadata": {},
   "source": [
    "I first wanted to see during which hours the most amount of crashes took place."
   ]
  },
  {
   "cell_type": "code",
   "execution_count": 93,
   "metadata": {},
   "outputs": [],
   "source": [
    "hours_crash=[] #putting all the hour values into a list to insert as a column in crash dataframe\n",
    "for h in range(len(crashdata_df3)):\n",
    "    hr=crashdata_df3['ACC_TIME'][h].hour #extracting the hour value from each of the times\n",
    "    hours_crash.append(hr)"
   ]
  },
  {
   "cell_type": "code",
   "execution_count": 94,
   "metadata": {},
   "outputs": [],
   "source": [
    "crashdata_df3.insert(2, 'HOURS', hours_crash, False)\n",
    "#inserting hours column into dataframe"
   ]
  },
  {
   "cell_type": "code",
   "execution_count": 95,
   "metadata": {},
   "outputs": [],
   "source": [
    "by_acchours=crashdata_df3.groupby(['HOURS']) \n",
    "by_acchours=by_acchours['HOURS'].count()\n",
    "#grouping data by hour"
   ]
  },
  {
   "cell_type": "code",
   "execution_count": 96,
   "metadata": {},
   "outputs": [
    {
     "data": {
      "image/png": "[encoded data removed]",
      "text/plain": [
       "<Figure size 720x360 with 1 Axes>"
      ]
     },
     "metadata": {},
     "output_type": "display_data"
    }
   ],
   "source": [
    "plot11=seaborn.barplot(y=by_acchours, x=by_acchours.index)\n",
    "plot11.set(xlabel='Hours', ylabel = 'Number of Collisions');"
   ]
  },
  {
   "cell_type": "markdown",
   "metadata": {},
   "source": [
    "From the bar graph we can see that most of the crashes took place around hour 17, around 5 pm."
   ]
  },
  {
   "cell_type": "markdown",
   "metadata": {},
   "source": [
    "#### Weather Code:"
   ]
  },
  {
   "cell_type": "markdown",
   "metadata": {},
   "source": [
    "I also wanted to see what the weather was when the crashes took place."
   ]
  },
  {
   "cell_type": "code",
   "execution_count": 98,
   "metadata": {},
   "outputs": [
    {
     "data": {
      "text/plain": [
       "12"
      ]
     },
     "execution_count": 98,
     "metadata": {},
     "output_type": "execute_result"
    }
   ],
   "source": [
    "crashdata_df3['WEATHER_CODE'].nunique() #number of unique values for WEATHER_CODE column"
   ]
  },
  {
   "cell_type": "markdown",
   "metadata": {},
   "source": [
    "All of the weather codes and their descriptions:"
   ]
  },
  {
   "cell_type": "markdown",
   "metadata": {},
   "source": [
    "0.00:\tNot Applicable\n",
    "\n",
    "2.00:\tFoggy\n",
    "\n",
    "3.00:\tRaining\n",
    "\n",
    "5.00:\tSevere Winds\n",
    "\n",
    "6.01:\tClear\n",
    "\n",
    "7.01:\tCloudy\n",
    "\n",
    "8.04:\tSnow\n",
    "\n",
    "9.04:\tSleet\n",
    "\n",
    "10.04:\tBlowing Snow\n",
    "\n",
    "11.88:\tBlowing Sand, Soil, Dirt\n",
    "\n",
    "12.04:\tWintry Mix\n",
    "\n",
    "88.00:\tOther\n",
    "\n",
    "99.00:\tUnknown"
   ]
  },
  {
   "cell_type": "code",
   "execution_count": 99,
   "metadata": {},
   "outputs": [
    {
     "data": {
      "text/plain": [
       "6.01     7724\n",
       "3.00     1621\n",
       "7.01     1233\n",
       "0.00      917\n",
       "99.00      65\n",
       "2.00       53\n",
       "8.04       24\n",
       "88.00      14\n",
       "12.04      13\n",
       "9.04        9\n",
       "5.00        5\n",
       "10.04       2\n",
       "Name: WEATHER_CODE, dtype: int64"
      ]
     },
     "execution_count": 99,
     "metadata": {},
     "output_type": "execute_result"
    }
   ],
   "source": [
    "crashdata_df3['WEATHER_CODE'].value_counts()"
   ]
  },
  {
   "cell_type": "markdown",
   "metadata": {},
   "source": [
    "The most crashes took place when the weather was marked as 'clear.' And the least amount took place when the weather was marked as 'blowing snow.' None of the crashes were marked as taking place when there was 'blowing sand, soil, dirt.'"
   ]
  },
  {
   "cell_type": "code",
   "execution_count": 103,
   "metadata": {},
   "outputs": [
    {
     "data": {
      "image/png": "[encoded data removed]",
      "text/plain": [
       "<Figure size 720x360 with 1 Axes>"
      ]
     },
     "metadata": {},
     "output_type": "display_data"
    }
   ],
   "source": [
    "plot12=seaborn.barplot(y=crashdata_df3['WEATHER_CODE'].value_counts(), x=crashdata_df3['WEATHER_CODE'].value_counts().index)\n",
    "plot12.set(xlabel='Weather Code', ylabel = 'Number of Collisions');"
   ]
  },
  {
   "cell_type": "markdown",
   "metadata": {},
   "source": [
    "#### Light Code:"
   ]
  },
  {
   "cell_type": "markdown",
   "metadata": {},
   "source": [
    "I wanted to see what the lighting was when the crashes took place as well."
   ]
  },
  {
   "cell_type": "code",
   "execution_count": 101,
   "metadata": {},
   "outputs": [
    {
     "data": {
      "text/plain": [
       "9"
      ]
     },
     "execution_count": 101,
     "metadata": {},
     "output_type": "execute_result"
    }
   ],
   "source": [
    "crashdata_df3['LIGHT_CODE'].nunique() #number of unique values for LIGHT_CODE column"
   ]
  },
  {
   "cell_type": "markdown",
   "metadata": {},
   "source": [
    "All of the light codes and their descriptions:"
   ]
  },
  {
   "cell_type": "markdown",
   "metadata": {},
   "source": [
    "0.00:\tNot Applicable\n",
    "\n",
    "1.00:\tDaylight\n",
    "\n",
    "3.00:\tDark Lights On\n",
    "\n",
    "4.00:\tDark No Lights\n",
    "\n",
    "5.02:\tDawn\n",
    "\n",
    "6.02:\tDusk\n",
    "\n",
    "7.88:\tDark - Unknown Lighting\n",
    "\n",
    "88.00:\tOther\n",
    "\n",
    "99.00:\tUnknown"
   ]
  },
  {
   "cell_type": "code",
   "execution_count": 102,
   "metadata": {},
   "outputs": [
    {
     "data": {
      "text/plain": [
       "1.00     7326\n",
       "3.00     3102\n",
       "4.00      409\n",
       "5.02      260\n",
       "6.02      240\n",
       "7.88      173\n",
       "0.00       84\n",
       "99.00      62\n",
       "88.00      24\n",
       "Name: LIGHT_CODE, dtype: int64"
      ]
     },
     "execution_count": 102,
     "metadata": {},
     "output_type": "execute_result"
    }
   ],
   "source": [
    "crashdata_df3['LIGHT_CODE'].value_counts()"
   ]
  },
  {
   "cell_type": "markdown",
   "metadata": {},
   "source": [
    "Most of the crashes when the lighting was marked as being 'daylight.' The least amount of crashes when the lighting was marked as being 'other.'"
   ]
  },
  {
   "cell_type": "code",
   "execution_count": 105,
   "metadata": {},
   "outputs": [
    {
     "data": {
      "image/png": "[encoded data removed]",
      "text/plain": [
       "<Figure size 720x360 with 1 Axes>"
      ]
     },
     "metadata": {},
     "output_type": "display_data"
    }
   ],
   "source": [
    "seaborn.set_palette(\"husl\", 8)\n",
    "plot13=seaborn.barplot(y=crashdata_df3['LIGHT_CODE'].value_counts(), x=crashdata_df3['LIGHT_CODE'].value_counts().index)\n",
    "plot13.set(xlabel='Light Code', ylabel = 'Number of Collisions');"
   ]
  },
  {
   "cell_type": "markdown",
   "metadata": {},
   "source": [
    "#### Collision Type:"
   ]
  },
  {
   "cell_type": "markdown",
   "metadata": {},
   "source": [
    "I also wanted to look at the types of collisions that occurred."
   ]
  },
  {
   "cell_type": "code",
   "execution_count": 106,
   "metadata": {},
   "outputs": [
    {
     "data": {
      "text/plain": [
       "19"
      ]
     },
     "execution_count": 106,
     "metadata": {},
     "output_type": "execute_result"
    }
   ],
   "source": [
    "crashdata_df3['COLLISION_TYPE_CODE'].nunique() #number of unique values for LIGHT_CODE column"
   ]
  },
  {
   "cell_type": "markdown",
   "metadata": {},
   "source": [
    "All of the collision codes and their descriptions:"
   ]
  },
  {
   "cell_type": "markdown",
   "metadata": {},
   "source": [
    "0:\tNot Applicable\n",
    "\n",
    "1:\tHead On\n",
    "\n",
    "2:\tHead On Left Turn\n",
    "\n",
    "3:\tSame Direction Rear End\n",
    "\n",
    "4:\tSame Direction Rear End Right Turn\n",
    "\n",
    "5:\tSame Direction Rear End Left Turn\n",
    "\n",
    "6:\tOpposite Direction Sideswipe\n",
    "\n",
    "7:\tSame Direction Sideswipe\n",
    "\n",
    "8:\tSame Direction Right Turn\n",
    "\n",
    "9:\tSame Direction Left Turn\n",
    "\n",
    "10:\tSame Direction Both Left Turn\n",
    "\n",
    "11:\tSame Movement Angle\n",
    "\n",
    "12:\tAngle Meets Right Turn\n",
    "\n",
    "13:\tAngle Meets Left Turn\n",
    "\n",
    "14:\tAngle Meets Left Turn Head On\n",
    "\n",
    "15:\tOpposite Direction Both Left Turn\n",
    "\n",
    "17:\tSingle Vehicle\n",
    "\n",
    "88:\tOther\n",
    "\n",
    "99:\tUnknown"
   ]
  },
  {
   "cell_type": "code",
   "execution_count": 107,
   "metadata": {},
   "outputs": [
    {
     "data": {
      "text/plain": [
       "3     3466\n",
       "17    2202\n",
       "11    1545\n",
       "88    1499\n",
       "7     1182\n",
       "2      564\n",
       "9      225\n",
       "8      210\n",
       "1      201\n",
       "6      157\n",
       "13     107\n",
       "12      64\n",
       "99      62\n",
       "0       52\n",
       "10      38\n",
       "14      33\n",
       "5       30\n",
       "4       27\n",
       "15      16\n",
       "Name: COLLISION_TYPE_CODE, dtype: int64"
      ]
     },
     "execution_count": 107,
     "metadata": {},
     "output_type": "execute_result"
    }
   ],
   "source": [
    "crashdata_df3['COLLISION_TYPE_CODE'].value_counts().head(19)"
   ]
  },
  {
   "cell_type": "markdown",
   "metadata": {},
   "source": [
    "Most of the collisions that happened were of the type 'same direction rear end.' Collisions of type 'opposite direction both left turn' were the least common. "
   ]
  },
  {
   "cell_type": "code",
   "execution_count": 108,
   "metadata": {},
   "outputs": [
    {
     "data": {
      "image/png": "[encoded data removed]",
      "text/plain": [
       "<Figure size 720x360 with 1 Axes>"
      ]
     },
     "metadata": {},
     "output_type": "display_data"
    }
   ],
   "source": [
    "seaborn.set_palette(\"husl\", 8)\n",
    "plot14=seaborn.barplot(y=crashdata_df3['COLLISION_TYPE_CODE'].value_counts(), x=crashdata_df3['COLLISION_TYPE_CODE'].value_counts().index)\n",
    "plot14.set(xlabel='Collision Type Code', ylabel = 'Number of Collisions');"
   ]
  },
  {
   "cell_type": "markdown",
   "metadata": {},
   "source": [
    "### Hypothesis: There will be more crashes and citations during winter than during other seasons."
   ]
  },
  {
   "cell_type": "markdown",
   "metadata": {},
   "source": [
    "In order to investigate this hypothesis, I first looked up when each of the seasons started and made variables for the start dates and converted them to datetime.date. "
   ]
  },
  {
   "cell_type": "code",
   "execution_count": 109,
   "metadata": {},
   "outputs": [],
   "source": [
    "#making variables for start dates of each of the seasons in the dataset and converting them to datetime.date\n",
    "summer2019=datetime.strptime('06/21/2019', '%m/%d/%Y').date()\n",
    "summer2020=datetime.strptime('06/20/2020', '%m/%d/%Y').date()\n",
    "fall2019=datetime.strptime('09/23/2019', '%m/%d/%Y').date()\n",
    "winter2019=datetime.strptime('12/21/2019', '%m/%d/%Y').date()\n",
    "spring2019=datetime.strptime('03/20/2019', '%m/%d/%Y').date()\n",
    "spring2020=datetime.strptime('03/19/2020', '%m/%d/%Y').date()"
   ]
  },
  {
   "cell_type": "markdown",
   "metadata": {},
   "source": [
    "I then made a for loop to go through all of the dates in the ACCIDENT_DATE column and appened the season the date was in to a list."
   ]
  },
  {
   "cell_type": "code",
   "execution_count": 110,
   "metadata": {},
   "outputs": [],
   "source": [
    "seasons_crashes=[] #making a list of all of the seasons for the dates in ACCIDENT_DATE\n",
    "for date in crashdata_df3['ACCIDENT_DATE']:\n",
    "    if summer2019<=date<fall2019: \n",
    "        seasons_crashes.append('Summer')\n",
    "    elif fall2019<=date<winter2019:\n",
    "        seasons_crashes.append('Fall')\n",
    "    elif winter2019<=date<spring2020:\n",
    "        seasons_crashes.append('Winter')\n",
    "    elif spring2020<=date<summer2020:\n",
    "        seasons_crashes.append('Spring')\n",
    "    elif summer2020<=date:\n",
    "        seasons_crashes.append('Summer')"
   ]
  },
  {
   "cell_type": "code",
   "execution_count": 111,
   "metadata": {},
   "outputs": [],
   "source": [
    "crashdata_df3.insert(2, \"Seasons\", seasons_crashes, False)\n",
    "#inserting the seasons_crashes list into dataframe as column"
   ]
  },
  {
   "cell_type": "markdown",
   "metadata": {},
   "source": [
    "I then did the same process with the citation dataframe."
   ]
  },
  {
   "cell_type": "code",
   "execution_count": 112,
   "metadata": {},
   "outputs": [],
   "source": [
    "seasons_citations=[] #making a list of all the seasons for the dates in Times column of citation dataframe\n",
    "for date in citations['Dates']:\n",
    "    if summer2019<=date<fall2019:\n",
    "        seasons_citations.append('Summer')\n",
    "    elif fall2019<=date<winter2019:\n",
    "        seasons_citations.append('Fall')\n",
    "    elif winter2019<=date<spring2020:\n",
    "        seasons_citations.append('Winter')\n",
    "    elif spring2020<=date<summer2020:\n",
    "        seasons_citations.append('Spring')\n",
    "    elif summer2020<=date:\n",
    "        seasons_citations.append('Summer')"
   ]
  },
  {
   "cell_type": "code",
   "execution_count": 113,
   "metadata": {},
   "outputs": [],
   "source": [
    "citations.insert(2, \"Seasons\", seasons_citations, False)\n",
    "#inserting seasons_citations list into dataframe as column"
   ]
  },
  {
   "cell_type": "markdown",
   "metadata": {},
   "source": [
    "I then grouped each of the dataframes by the season column and merged them into one dataframe to make them easier to compare."
   ]
  },
  {
   "cell_type": "code",
   "execution_count": 114,
   "metadata": {},
   "outputs": [],
   "source": [
    "by_accseason=crashdata_df3.groupby(['Seasons']) \n",
    "by_accseason=by_accseason['Seasons'].count()\n",
    "#grouping crash data by season"
   ]
  },
  {
   "cell_type": "code",
   "execution_count": 115,
   "metadata": {},
   "outputs": [
    {
     "data": {
      "text/plain": [
       "Seasons\n",
       "Fall      3739\n",
       "Spring    1653\n",
       "Summer    3193\n",
       "Winter    3095\n",
       "Name: Seasons, dtype: int64"
      ]
     },
     "execution_count": 115,
     "metadata": {},
     "output_type": "execute_result"
    }
   ],
   "source": [
    "by_accseason"
   ]
  },
  {
   "cell_type": "code",
   "execution_count": 116,
   "metadata": {},
   "outputs": [],
   "source": [
    "by_citseason=citations.groupby(['Seasons'])\n",
    "by_citseason=by_citseason['Seasons'].count()\n",
    "#grouping citation data by season"
   ]
  },
  {
   "cell_type": "code",
   "execution_count": 117,
   "metadata": {},
   "outputs": [
    {
     "data": {
      "text/plain": [
       "Seasons\n",
       "Fall      39634\n",
       "Spring     5990\n",
       "Summer    38755\n",
       "Winter    42751\n",
       "Name: Seasons, dtype: int64"
      ]
     },
     "execution_count": 117,
     "metadata": {},
     "output_type": "execute_result"
    }
   ],
   "source": [
    "by_citseason"
   ]
  },
  {
   "cell_type": "code",
   "execution_count": 118,
   "metadata": {},
   "outputs": [],
   "source": [
    "by_accseasondf=crashdata_df3.groupby(['Seasons']) \n",
    "by_accseasondf=by_accseasondf['Seasons'].count().to_frame()\n",
    "#grouping crash data by season and making results into a dataframe"
   ]
  },
  {
   "cell_type": "code",
   "execution_count": 119,
   "metadata": {},
   "outputs": [],
   "source": [
    "by_accseasondf.columns=['AccidentSeasons']\n",
    "#renaming the Seasons column in new dataframe to make it easier to distinguish from citation data results"
   ]
  },
  {
   "cell_type": "code",
   "execution_count": 120,
   "metadata": {},
   "outputs": [],
   "source": [
    "by_citseasondf=citations.groupby(['Seasons'])\n",
    "by_citseasondf=by_citseasondf['Seasons'].count().to_frame()\n",
    "#grouping citation data by season and making results into a dataframe"
   ]
  },
  {
   "cell_type": "code",
   "execution_count": 121,
   "metadata": {},
   "outputs": [],
   "source": [
    "by_citseasondf.columns=['CitationSeasons']\n",
    "#renaming the Seasons column in new dataframe to make it easier to distinguish from crash data results"
   ]
  },
  {
   "cell_type": "code",
   "execution_count": 122,
   "metadata": {},
   "outputs": [],
   "source": [
    "cit_crashseasons=by_accseasondf.merge(by_citseasondf, left_on='Seasons', right_index=True)\n",
    "#merging the two dataframes together using a left join and merging them on the Seasons index\n",
    "#Reference for Merging Dataframes: https://www.youtube.com/watch?v=jcbRt3RWcGI&ab_channel=LearnPandas"
   ]
  },
  {
   "cell_type": "code",
   "execution_count": 123,
   "metadata": {},
   "outputs": [
    {
     "data": {
      "text/html": [
       "<div>\n",
       "<style scoped>\n",
       "    .dataframe tbody tr th:only-of-type {\n",
       "        vertical-align: middle;\n",
       "    }\n",
       "\n",
       "    .dataframe tbody tr th {\n",
       "        vertical-align: top;\n",
       "    }\n",
       "\n",
       "    .dataframe thead th {\n",
       "        text-align: right;\n",
       "    }\n",
       "</style>\n",
       "<table border=\"1\" class=\"dataframe\">\n",
       "  <thead>\n",
       "    <tr style=\"text-align: right;\">\n",
       "      <th></th>\n",
       "      <th>AccidentSeasons</th>\n",
       "      <th>CitationSeasons</th>\n",
       "    </tr>\n",
       "    <tr>\n",
       "      <th>Seasons</th>\n",
       "      <th></th>\n",
       "      <th></th>\n",
       "    </tr>\n",
       "  </thead>\n",
       "  <tbody>\n",
       "    <tr>\n",
       "      <th>Fall</th>\n",
       "      <td>3739</td>\n",
       "      <td>39634</td>\n",
       "    </tr>\n",
       "    <tr>\n",
       "      <th>Spring</th>\n",
       "      <td>1653</td>\n",
       "      <td>5990</td>\n",
       "    </tr>\n",
       "    <tr>\n",
       "      <th>Summer</th>\n",
       "      <td>3193</td>\n",
       "      <td>38755</td>\n",
       "    </tr>\n",
       "    <tr>\n",
       "      <th>Winter</th>\n",
       "      <td>3095</td>\n",
       "      <td>42751</td>\n",
       "    </tr>\n",
       "  </tbody>\n",
       "</table>\n",
       "</div>"
      ],
      "text/plain": [
       "         AccidentSeasons  CitationSeasons\n",
       "Seasons                                  \n",
       "Fall                3739            39634\n",
       "Spring              1653             5990\n",
       "Summer              3193            38755\n",
       "Winter              3095            42751"
      ]
     },
     "execution_count": 123,
     "metadata": {},
     "output_type": "execute_result"
    }
   ],
   "source": [
    "cit_crashseasons\n",
    "#merged dataframe"
   ]
  },
  {
   "cell_type": "markdown",
   "metadata": {},
   "source": [
    "I then wanted to look at the percentage of the total number of parking violations and collisions that took place during each of the seasons. "
   ]
  },
  {
   "cell_type": "code",
   "execution_count": 124,
   "metadata": {},
   "outputs": [
    {
     "data": {
      "text/plain": [
       "(11680, 29)"
      ]
     },
     "execution_count": 124,
     "metadata": {},
     "output_type": "execute_result"
    }
   ],
   "source": [
    "crashdata_df3.shape #looking at the total number of crashes"
   ]
  },
  {
   "cell_type": "code",
   "execution_count": 125,
   "metadata": {},
   "outputs": [
    {
     "data": {
      "text/plain": [
       "(127130, 18)"
      ]
     },
     "execution_count": 125,
     "metadata": {},
     "output_type": "execute_result"
    }
   ],
   "source": [
    "citations.shape #looking at the total number of citations"
   ]
  },
  {
   "cell_type": "code",
   "execution_count": 126,
   "metadata": {},
   "outputs": [],
   "source": [
    "by_accseasonperdf=(by_accseasondf/11680)*100 \n",
    "#getting the percentages of collisions that took place during each season by dividing the number of collisions that took place during each season by the total number of collisions and multiplying each by 100"
   ]
  },
  {
   "cell_type": "code",
   "execution_count": 127,
   "metadata": {},
   "outputs": [],
   "source": [
    "by_citseasonperdf=(by_citseasondf/127130)*100\n",
    "#getting the percentages of citations that were given during each season by dividing the number of citations that took place during each season by the total number of citations and multiplying each by 100"
   ]
  },
  {
   "cell_type": "code",
   "execution_count": 128,
   "metadata": {},
   "outputs": [],
   "source": [
    "cit_crashseasonsper=by_accseasonperdf.merge(by_citseasonperdf, left_on='Seasons', right_index=True)\n",
    "#merging the two dataframes together using a left join and merging them on the Seasons index\n",
    "#Reference for Merging Dataframes: https://www.youtube.com/watch?v=jcbRt3RWcGI&ab_channel=LearnPandas"
   ]
  },
  {
   "cell_type": "code",
   "execution_count": 129,
   "metadata": {},
   "outputs": [
    {
     "data": {
      "text/html": [
       "<div>\n",
       "<style scoped>\n",
       "    .dataframe tbody tr th:only-of-type {\n",
       "        vertical-align: middle;\n",
       "    }\n",
       "\n",
       "    .dataframe tbody tr th {\n",
       "        vertical-align: top;\n",
       "    }\n",
       "\n",
       "    .dataframe thead th {\n",
       "        text-align: right;\n",
       "    }\n",
       "</style>\n",
       "<table border=\"1\" class=\"dataframe\">\n",
       "  <thead>\n",
       "    <tr style=\"text-align: right;\">\n",
       "      <th></th>\n",
       "      <th>AccidentSeasons</th>\n",
       "      <th>CitationSeasons</th>\n",
       "    </tr>\n",
       "    <tr>\n",
       "      <th>Seasons</th>\n",
       "      <th></th>\n",
       "      <th></th>\n",
       "    </tr>\n",
       "  </thead>\n",
       "  <tbody>\n",
       "    <tr>\n",
       "      <th>Fall</th>\n",
       "      <td>32.011986</td>\n",
       "      <td>31.175962</td>\n",
       "    </tr>\n",
       "    <tr>\n",
       "      <th>Spring</th>\n",
       "      <td>14.152397</td>\n",
       "      <td>4.711712</td>\n",
       "    </tr>\n",
       "    <tr>\n",
       "      <th>Summer</th>\n",
       "      <td>27.337329</td>\n",
       "      <td>30.484543</td>\n",
       "    </tr>\n",
       "    <tr>\n",
       "      <th>Winter</th>\n",
       "      <td>26.498288</td>\n",
       "      <td>33.627783</td>\n",
       "    </tr>\n",
       "  </tbody>\n",
       "</table>\n",
       "</div>"
      ],
      "text/plain": [
       "         AccidentSeasons  CitationSeasons\n",
       "Seasons                                  \n",
       "Fall           32.011986        31.175962\n",
       "Spring         14.152397         4.711712\n",
       "Summer         27.337329        30.484543\n",
       "Winter         26.498288        33.627783"
      ]
     },
     "execution_count": 129,
     "metadata": {},
     "output_type": "execute_result"
    }
   ],
   "source": [
    "cit_crashseasonsper\n",
    "#merged dataframe"
   ]
  },
  {
   "cell_type": "markdown",
   "metadata": {},
   "source": [
    "I then made bar graphs of both of the merged dataframes to visualize the restults."
   ]
  },
  {
   "cell_type": "code",
   "execution_count": 90,
   "metadata": {},
   "outputs": [
    {
     "data": {
      "image/png": "[encoded data removed]",
      "text/plain": [
       "<Figure size 432x288 with 1 Axes>"
      ]
     },
     "metadata": {
      "needs_background": "light"
     },
     "output_type": "display_data"
    }
   ],
   "source": [
    "cit_crashseasons.plot.bar()\n",
    "plt.ylabel('Number of Collisions (Blue)/ Citations (Orange)',fontsize=12)\n",
    "plt.xticks(rotation='vertical')\n",
    "plt.rcParams['figure.figsize']=(10,7);"
   ]
  },
  {
   "cell_type": "code",
   "execution_count": 91,
   "metadata": {},
   "outputs": [
    {
     "data": {
      "image/png": "[encoded data removed]",
      "text/plain": [
       "<Figure size 720x504 with 1 Axes>"
      ]
     },
     "metadata": {
      "needs_background": "light"
     },
     "output_type": "display_data"
    }
   ],
   "source": [
    "cit_crashseasonsper.plot.bar()\n",
    "plt.ylabel('Percent of Collisions (Blue)/ Citations (Orange)',fontsize=12)\n",
    "plt.xticks(rotation='vertical')\n",
    "plt.rcParams['figure.figsize']=(10,7);"
   ]
  },
  {
   "cell_type": "markdown",
   "metadata": {},
   "source": [
    "From looking at the bar graphs we can see that for the crash data, the most collisions took place in the Fall. The least amount of collisions took place in the Spring. The most parking citations were given out during the Winter and the least were given out during the Spring.\n",
    "\n",
    "From the graphs it would appear as though my hypothesis would be correct for the citation data and not for the crash data, however during the Spring of 2020 and the Summer of 2020 corona virus restrictions were in place so there were less people on the roads and less people leaving their homes. The Spring category is Spring of 2020 when these restrictions were taking place. The Summer category contained crashes that happened from July 3, 2019- September 22,  2019 before corona virus and also crashes that happened from June 21, 2020 to July 2, 2020 also when corona virus restrictions were taking place. This could be the reason why these two categories were lower for both datasets. This is especially apparent in the citation dataset as there is a significant drop of citations in the Spring category. In the future I would like to look at data from before corona virus restrictions were put in place or after they were no longer in place as that may give a more accurate answer to this hypothesis."
   ]
  },
  {
   "cell_type": "markdown",
   "metadata": {},
   "source": [
    "### Is there was any correlation between the number of crashes and  citations in Montgomery County?"
   ]
  },
  {
   "cell_type": "markdown",
   "metadata": {},
   "source": [
    "I first wanted to look at the days for both datasets that had the most crashes or citations."
   ]
  },
  {
   "cell_type": "code",
   "execution_count": 92,
   "metadata": {},
   "outputs": [
    {
     "data": {
      "text/plain": [
       "0    2019-10-31\n",
       "dtype: object"
      ]
     },
     "execution_count": 92,
     "metadata": {},
     "output_type": "execute_result"
    }
   ],
   "source": [
    "crashdata_df3['ACCIDENT_DATE'].mode() #looking at the day that the most collisions happened on"
   ]
  },
  {
   "cell_type": "code",
   "execution_count": 93,
   "metadata": {},
   "outputs": [
    {
     "data": {
      "text/plain": [
       "0    2019-12-08\n",
       "dtype: object"
      ]
     },
     "execution_count": 93,
     "metadata": {},
     "output_type": "execute_result"
    }
   ],
   "source": [
    "citations['Dates'].mode() #looking at the day that the most citations were given on"
   ]
  },
  {
   "cell_type": "markdown",
   "metadata": {},
   "source": [
    "Then I looked at the value counts for the date columns of the datasets."
   ]
  },
  {
   "cell_type": "code",
   "execution_count": 94,
   "metadata": {
    "scrolled": false
   },
   "outputs": [
    {
     "data": {
      "text/plain": [
       "2020-04-06     7\n",
       "2020-03-29     7\n",
       "2020-05-24     8\n",
       "2020-03-31     8\n",
       "2020-04-01     8\n",
       "              ..\n",
       "2020-01-03    62\n",
       "2019-12-10    63\n",
       "2019-11-07    63\n",
       "2019-12-17    63\n",
       "2019-10-31    98\n",
       "Name: ACCIDENT_DATE, Length: 366, dtype: int64"
      ]
     },
     "execution_count": 94,
     "metadata": {},
     "output_type": "execute_result"
    }
   ],
   "source": [
    "crashdata_df3['ACCIDENT_DATE'].value_counts(ascending=True)\n",
    "#looking at the number of collisions that happened for each date in the data set in ascending order\n",
    "#Reference for ascending argument: https://towardsdatascience.com/getting-more-value-from-the-pandas-value-counts-aa17230907a6"
   ]
  },
  {
   "cell_type": "code",
   "execution_count": 95,
   "metadata": {},
   "outputs": [
    {
     "data": {
      "text/plain": [
       "2019-10-16      1\n",
       "2020-06-15     22\n",
       "2020-04-13     27\n",
       "2020-04-22     27\n",
       "2020-05-11     28\n",
       "             ... \n",
       "2020-02-01    744\n",
       "2020-02-27    749\n",
       "2020-01-02    771\n",
       "2020-02-06    780\n",
       "2019-12-08    785\n",
       "Name: Dates, Length: 305, dtype: int64"
      ]
     },
     "execution_count": 95,
     "metadata": {},
     "output_type": "execute_result"
    }
   ],
   "source": [
    "citations['Dates'].value_counts(ascending=True)\n",
    "#looking at the number of citations that happened for each date in the data set in ascending order\n",
    "#Reference for ascending argument: https://towardsdatascience.com/getting-more-value-from-the-pandas-value-counts-aa17230907a6"
   ]
  },
  {
   "cell_type": "markdown",
   "metadata": {},
   "source": [
    "From looking at the value counts, there are a couple of days that are close to each other where there were a higher number of crashes and citations. For example, one of the days with the most collisions was 12/10/2019 and on 12/8/2019 was one of the days with the most citations. Another example is 1/2/2020 which was one of the days with the most citations and 1/3/2020 which was one of the days with the most crashes."
   ]
  },
  {
   "cell_type": "markdown",
   "metadata": {},
   "source": [
    "I then grouped the data for the crashes and citations by date."
   ]
  },
  {
   "cell_type": "code",
   "execution_count": 96,
   "metadata": {},
   "outputs": [],
   "source": [
    "by_accdate=crashdata_df3.groupby(['ACCIDENT_DATE']) \n",
    "by_accdate=by_accdate['ACCIDENT_DATE'].count()\n",
    "#grouping data by crash date"
   ]
  },
  {
   "cell_type": "code",
   "execution_count": 97,
   "metadata": {},
   "outputs": [
    {
     "data": {
      "text/plain": [
       "ACCIDENT_DATE\n",
       "2019-07-03    46\n",
       "2019-07-04    31\n",
       "2019-07-05    25\n",
       "2019-07-06    27\n",
       "2019-07-07    26\n",
       "              ..\n",
       "2020-06-28    17\n",
       "2020-06-29    28\n",
       "2020-06-30    16\n",
       "2020-07-01    20\n",
       "2020-07-02    34\n",
       "Name: ACCIDENT_DATE, Length: 366, dtype: int64"
      ]
     },
     "execution_count": 97,
     "metadata": {},
     "output_type": "execute_result"
    }
   ],
   "source": [
    "by_accdate"
   ]
  },
  {
   "cell_type": "code",
   "execution_count": 98,
   "metadata": {},
   "outputs": [],
   "source": [
    "by_citdate=citations.groupby(['Dates'])\n",
    "by_citdate=by_citdate['Dates'].count()\n",
    "#grouping data by citation date"
   ]
  },
  {
   "cell_type": "code",
   "execution_count": 99,
   "metadata": {},
   "outputs": [
    {
     "data": {
      "text/plain": [
       "Dates\n",
       "2019-07-03    336\n",
       "2019-07-04    686\n",
       "2019-07-05    639\n",
       "2019-07-07    643\n",
       "2019-07-08    408\n",
       "             ... \n",
       "2020-06-27     69\n",
       "2020-06-28     60\n",
       "2020-06-29     36\n",
       "2020-07-01     93\n",
       "2020-07-02     87\n",
       "Name: Dates, Length: 305, dtype: int64"
      ]
     },
     "execution_count": 99,
     "metadata": {},
     "output_type": "execute_result"
    }
   ],
   "source": [
    "by_citdate"
   ]
  },
  {
   "cell_type": "markdown",
   "metadata": {},
   "source": [
    "I then used the results to make a line graph."
   ]
  },
  {
   "cell_type": "code",
   "execution_count": 100,
   "metadata": {},
   "outputs": [
    {
     "data": {
      "image/png": "[encoded data removed]",
      "text/plain": [
       "<Figure size 720x504 with 1 Axes>"
      ]
     },
     "metadata": {
      "needs_background": "light"
     },
     "output_type": "display_data"
    }
   ],
   "source": [
    "by_accdate.plot(label='Collisions') \n",
    "plt.ylabel('Number of Collisions (Blue)/ Citations (Orange)',fontsize=12)\n",
    "plt.xlabel('Dates',fontsize=12)\n",
    "plt.xticks(rotation='vertical')\n",
    "plt.rcParams['figure.figsize']=(15,7);\n",
    "by_citdate.plot(label='Citations')\n",
    "plt.ylabel('Number of Collisions (Blue)/ Citations (Orange)',fontsize=12)\n",
    "plt.xlabel('Dates',fontsize=12)\n",
    "plt.xticks(rotation='vertical')\n",
    "plt.rcParams['figure.figsize']=(15,7)\n",
    "plt.legend(loc=\"best\");\n",
    "#Reference for lengend and labels: https://stackoverflow.com/questions/19125722/adding-a-legend-to-pyplot-in-matplotlib-in-the-simplest-manner-possible"
   ]
  },
  {
   "cell_type": "markdown",
   "metadata": {},
   "source": [
    "I then wanted to make a visualization of the percentage of crashes and citations that happened on certain days."
   ]
  },
  {
   "cell_type": "code",
   "execution_count": 101,
   "metadata": {},
   "outputs": [
    {
     "data": {
      "text/plain": [
       "(11680, 29)"
      ]
     },
     "execution_count": 101,
     "metadata": {},
     "output_type": "execute_result"
    }
   ],
   "source": [
    "crashdata_df3.shape #finding the amount of crashes there were in total"
   ]
  },
  {
   "cell_type": "code",
   "execution_count": 102,
   "metadata": {},
   "outputs": [
    {
     "data": {
      "text/plain": [
       "(127130, 18)"
      ]
     },
     "execution_count": 102,
     "metadata": {},
     "output_type": "execute_result"
    }
   ],
   "source": [
    "citations.shape #finding the amount of crashes there were in total"
   ]
  },
  {
   "cell_type": "code",
   "execution_count": 103,
   "metadata": {},
   "outputs": [],
   "source": [
    "by_accdateper=(by_accdate/11680)*100"
   ]
  },
  {
   "cell_type": "code",
   "execution_count": 104,
   "metadata": {},
   "outputs": [
    {
     "data": {
      "text/plain": [
       "ACCIDENT_DATE\n",
       "2019-07-03    0.393836\n",
       "2019-07-04    0.265411\n",
       "2019-07-05    0.214041\n",
       "2019-07-06    0.231164\n",
       "2019-07-07    0.222603\n",
       "                ...   \n",
       "2020-06-28    0.145548\n",
       "2020-06-29    0.239726\n",
       "2020-06-30    0.136986\n",
       "2020-07-01    0.171233\n",
       "2020-07-02    0.291096\n",
       "Name: ACCIDENT_DATE, Length: 366, dtype: float64"
      ]
     },
     "execution_count": 104,
     "metadata": {},
     "output_type": "execute_result"
    }
   ],
   "source": [
    "by_accdateper"
   ]
  },
  {
   "cell_type": "code",
   "execution_count": 105,
   "metadata": {},
   "outputs": [],
   "source": [
    "by_citdateper=(by_citdate/127130)*100"
   ]
  },
  {
   "cell_type": "code",
   "execution_count": 106,
   "metadata": {},
   "outputs": [
    {
     "data": {
      "text/plain": [
       "Dates\n",
       "2019-07-03    0.264296\n",
       "2019-07-04    0.539605\n",
       "2019-07-05    0.502635\n",
       "2019-07-07    0.505781\n",
       "2019-07-08    0.320931\n",
       "                ...   \n",
       "2020-06-27    0.054275\n",
       "2020-06-28    0.047196\n",
       "2020-06-29    0.028317\n",
       "2020-07-01    0.073153\n",
       "2020-07-02    0.068434\n",
       "Name: Dates, Length: 305, dtype: float64"
      ]
     },
     "execution_count": 106,
     "metadata": {},
     "output_type": "execute_result"
    }
   ],
   "source": [
    "by_citdateper"
   ]
  },
  {
   "cell_type": "code",
   "execution_count": 107,
   "metadata": {},
   "outputs": [
    {
     "data": {
      "image/png": "[encoded data removed]",
      "text/plain": [
       "<Figure size 1080x504 with 1 Axes>"
      ]
     },
     "metadata": {
      "needs_background": "light"
     },
     "output_type": "display_data"
    }
   ],
   "source": [
    "by_accdateper.plot(label='Collisions') \n",
    "plt.ylabel('Percent of  Total Collisions (Blue)/ Citations (Orange)',fontsize=12)\n",
    "plt.xlabel('Dates',fontsize=12)\n",
    "plt.xticks(rotation='vertical')\n",
    "plt.rcParams['figure.figsize']=(15,7);\n",
    "by_citdateper.plot(label='Citations')\n",
    "plt.ylabel('Percent of Total Collisions (Blue)/ Citations (Orange)',fontsize=12)\n",
    "plt.xlabel('Dates',fontsize=12)\n",
    "plt.xticks(rotation='vertical')\n",
    "plt.rcParams['figure.figsize']=(15,7)\n",
    "plt.legend(loc=\"best\");\n",
    "#Reference for lengend and labels: https://stackoverflow.com/questions/19125722/adding-a-legend-to-pyplot-in-matplotlib-in-the-simplest-manner-possible"
   ]
  },
  {
   "cell_type": "markdown",
   "metadata": {},
   "source": [
    "From looking at the graph, I saw that there did seem to be some increases in both citations and crashes around the same times. It did not appear to be a very strong relationship, but it seemed as though there was somewhat of a relationship. I also noticed that both crash and citation numbers and percentages dropped between the months of April 2020 and July 2020. This could be due to the corona virus restrictions that I discussed earlier. "
   ]
  },
  {
   "cell_type": "markdown",
   "metadata": {},
   "source": [
    "I then wanted to look at dates that had both citations and crashes, as there were dates in the datasets that were not in both."
   ]
  },
  {
   "cell_type": "markdown",
   "metadata": {},
   "source": [
    "I first started by appending the indexes of dates that were in the citations dataset but not in the crash dataset to a list of indexes and then repeated the same process that I did above."
   ]
  },
  {
   "cell_type": "code",
   "execution_count": 108,
   "metadata": {},
   "outputs": [],
   "source": [
    "crashdates=[] #making a list of all of the dates in the ACCIDENT_DATE column\n",
    "for date in crashdata_df3['ACCIDENT_DATE']:\n",
    "    crashdates.append(date)"
   ]
  },
  {
   "cell_type": "code",
   "execution_count": 109,
   "metadata": {},
   "outputs": [],
   "source": [
    "indexes=[] #making a list of the indexes of the rows where the citation date was not in the ACCIDENT_DATE column\n",
    "for d in range(len(citations['Dates'])):\n",
    "    if citations['Dates'][d] in crashdates:\n",
    "        True\n",
    "    else:\n",
    "        indexes.append(d)"
   ]
  },
  {
   "cell_type": "markdown",
   "metadata": {},
   "source": [
    "Then I dropped the rows in the index list from the citations dataset."
   ]
  },
  {
   "cell_type": "code",
   "execution_count": 110,
   "metadata": {},
   "outputs": [],
   "source": [
    "citations.drop(indexes, axis=0, inplace=True)\n",
    "#dropping rows in the indexes list"
   ]
  },
  {
   "cell_type": "code",
   "execution_count": 111,
   "metadata": {},
   "outputs": [],
   "source": [
    "index=[]\n",
    "for i in range(len(citations)):\n",
    "    index.append(i)\n",
    "citations.insert(0, \"Index\", index, False)\n",
    "citations.set_index('Index', inplace=True)\n",
    "#resetting the index"
   ]
  },
  {
   "cell_type": "markdown",
   "metadata": {},
   "source": [
    "I then repeated the same process for the crash data."
   ]
  },
  {
   "cell_type": "code",
   "execution_count": 112,
   "metadata": {},
   "outputs": [],
   "source": [
    "citation_dates=[] #making a list of all of the dates in the Dates column of citation dataframe\n",
    "for date in citations['Dates']:\n",
    "    citation_dates.append(date)"
   ]
  },
  {
   "cell_type": "code",
   "execution_count": 113,
   "metadata": {},
   "outputs": [],
   "source": [
    "indexs=[] #making a list of the indexes of the rows where the crash date was not in the Dates column of citation dataframe\n",
    "for d in range(len(crashdata_df3['ACCIDENT_DATE'])):\n",
    "    if crashdata_df3['ACCIDENT_DATE'][d] in citation_dates:\n",
    "        True\n",
    "    else:\n",
    "        indexs.append(d)"
   ]
  },
  {
   "cell_type": "code",
   "execution_count": 114,
   "metadata": {},
   "outputs": [],
   "source": [
    "crashdata_df3.drop(indexs, axis=0, inplace=True)\n",
    "#dropping rows in indexs list"
   ]
  },
  {
   "cell_type": "code",
   "execution_count": 115,
   "metadata": {},
   "outputs": [],
   "source": [
    "index=[]\n",
    "for i in range(len(crashdata_df3)):\n",
    "    index.append(i)\n",
    "crashdata_df3.insert(0, \"Index\", index, False)\n",
    "crashdata_df3.set_index('Index', inplace=True)\n",
    "#resetting index"
   ]
  },
  {
   "cell_type": "code",
   "execution_count": 116,
   "metadata": {},
   "outputs": [
    {
     "data": {
      "text/plain": [
       "2020-04-06     7\n",
       "2020-03-29     7\n",
       "2020-05-24     8\n",
       "2020-04-01     8\n",
       "2020-03-26     9\n",
       "              ..\n",
       "2019-11-18    57\n",
       "2019-10-16    57\n",
       "2019-12-14    61\n",
       "2019-11-07    63\n",
       "2019-10-31    98\n",
       "Name: ACCIDENT_DATE, Length: 305, dtype: int64"
      ]
     },
     "execution_count": 116,
     "metadata": {},
     "output_type": "execute_result"
    }
   ],
   "source": [
    "crashdata_df3['ACCIDENT_DATE'].value_counts(ascending=True)\n",
    "#looking at the number of crashes that happened for each date in the data set in ascending order"
   ]
  },
  {
   "cell_type": "code",
   "execution_count": 117,
   "metadata": {},
   "outputs": [
    {
     "data": {
      "text/plain": [
       "2019-10-16      1\n",
       "2020-06-15     22\n",
       "2020-04-13     27\n",
       "2020-04-22     27\n",
       "2020-05-11     28\n",
       "             ... \n",
       "2020-02-01    744\n",
       "2020-02-27    749\n",
       "2020-01-02    771\n",
       "2020-02-06    780\n",
       "2019-12-08    785\n",
       "Name: Dates, Length: 305, dtype: int64"
      ]
     },
     "execution_count": 117,
     "metadata": {},
     "output_type": "execute_result"
    }
   ],
   "source": [
    "citations['Dates'].value_counts(ascending=True)\n",
    "#looking at the number of citations that happened for each date in the data set in ascending order"
   ]
  },
  {
   "cell_type": "code",
   "execution_count": 118,
   "metadata": {},
   "outputs": [],
   "source": [
    "by_accdate2=crashdata_df3.groupby(['ACCIDENT_DATE']) \n",
    "by_accdate2=by_accdate2['ACCIDENT_DATE'].count()\n",
    "#grouping data by accident date"
   ]
  },
  {
   "cell_type": "code",
   "execution_count": 119,
   "metadata": {},
   "outputs": [],
   "source": [
    "by_citdate2=citations.groupby(['Dates'])\n",
    "by_citdate2=by_citdate2['Dates'].count()\n",
    "#grouping data by citation date"
   ]
  },
  {
   "cell_type": "code",
   "execution_count": 120,
   "metadata": {},
   "outputs": [
    {
     "data": {
      "text/plain": [
       "ACCIDENT_DATE\n",
       "2019-07-03    46\n",
       "2019-07-04    31\n",
       "2019-07-05    25\n",
       "2019-07-07    26\n",
       "2019-07-08    38\n",
       "              ..\n",
       "2020-06-27    17\n",
       "2020-06-28    17\n",
       "2020-06-29    28\n",
       "2020-07-01    20\n",
       "2020-07-02    34\n",
       "Name: ACCIDENT_DATE, Length: 305, dtype: int64"
      ]
     },
     "execution_count": 120,
     "metadata": {},
     "output_type": "execute_result"
    }
   ],
   "source": [
    "by_accdate2"
   ]
  },
  {
   "cell_type": "code",
   "execution_count": 121,
   "metadata": {},
   "outputs": [
    {
     "data": {
      "text/plain": [
       "Dates\n",
       "2019-07-03    336\n",
       "2019-07-04    686\n",
       "2019-07-05    639\n",
       "2019-07-07    643\n",
       "2019-07-08    408\n",
       "             ... \n",
       "2020-06-27     69\n",
       "2020-06-28     60\n",
       "2020-06-29     36\n",
       "2020-07-01     93\n",
       "2020-07-02     87\n",
       "Name: Dates, Length: 305, dtype: int64"
      ]
     },
     "execution_count": 121,
     "metadata": {},
     "output_type": "execute_result"
    }
   ],
   "source": [
    "by_citdate2"
   ]
  },
  {
   "cell_type": "code",
   "execution_count": 122,
   "metadata": {},
   "outputs": [
    {
     "data": {
      "image/png": "[encoded data removed]",
      "text/plain": [
       "<Figure size 1080x504 with 1 Axes>"
      ]
     },
     "metadata": {
      "needs_background": "light"
     },
     "output_type": "display_data"
    }
   ],
   "source": [
    "by_accdate2.plot(label='Collisions') \n",
    "plt.ylabel('Number of Collisions (Blue)/ Citations (Orange)',fontsize=12)\n",
    "plt.xlabel('Dates',fontsize=12)\n",
    "plt.xticks(rotation='vertical')\n",
    "plt.rcParams['figure.figsize']=(15,7);\n",
    "by_citdate2.plot(label='Citations')\n",
    "plt.ylabel('Number of Collisions (Blue)/ Citations (Orange)',fontsize=12)\n",
    "plt.xlabel('Dates',fontsize=12)\n",
    "plt.xticks(rotation='vertical')\n",
    "plt.rcParams['figure.figsize']=(15,7)\n",
    "plt.legend(loc=\"best\");\n",
    "#Reference for lengend and labels: https://stackoverflow.com/questions/19125722/adding-a-legend-to-pyplot-in-matplotlib-in-the-simplest-manner-possible"
   ]
  },
  {
   "cell_type": "code",
   "execution_count": 123,
   "metadata": {},
   "outputs": [
    {
     "data": {
      "text/plain": [
       "(9594, 29)"
      ]
     },
     "execution_count": 123,
     "metadata": {},
     "output_type": "execute_result"
    }
   ],
   "source": [
    "crashdata_df3.shape #finding the amount of crashes there were in total"
   ]
  },
  {
   "cell_type": "code",
   "execution_count": 124,
   "metadata": {},
   "outputs": [
    {
     "data": {
      "text/plain": [
       "(127130, 18)"
      ]
     },
     "execution_count": 124,
     "metadata": {},
     "output_type": "execute_result"
    }
   ],
   "source": [
    "citations.shape #finding the amount of crashes there were in total"
   ]
  },
  {
   "cell_type": "code",
   "execution_count": 125,
   "metadata": {},
   "outputs": [],
   "source": [
    "by_accdateper2=(by_accdate/9594)*100"
   ]
  },
  {
   "cell_type": "code",
   "execution_count": 126,
   "metadata": {},
   "outputs": [
    {
     "data": {
      "text/plain": [
       "ACCIDENT_DATE\n",
       "2019-07-03    0.479466\n",
       "2019-07-04    0.323119\n",
       "2019-07-05    0.260580\n",
       "2019-07-06    0.281426\n",
       "2019-07-07    0.271003\n",
       "                ...   \n",
       "2020-06-28    0.177194\n",
       "2020-06-29    0.291849\n",
       "2020-06-30    0.166771\n",
       "2020-07-01    0.208464\n",
       "2020-07-02    0.354388\n",
       "Name: ACCIDENT_DATE, Length: 366, dtype: float64"
      ]
     },
     "execution_count": 126,
     "metadata": {},
     "output_type": "execute_result"
    }
   ],
   "source": [
    "by_accdateper2"
   ]
  },
  {
   "cell_type": "code",
   "execution_count": 127,
   "metadata": {},
   "outputs": [],
   "source": [
    "by_citdateper2=(by_citdate/127130)*100"
   ]
  },
  {
   "cell_type": "code",
   "execution_count": 128,
   "metadata": {},
   "outputs": [
    {
     "data": {
      "text/plain": [
       "Dates\n",
       "2019-07-03    0.264296\n",
       "2019-07-04    0.539605\n",
       "2019-07-05    0.502635\n",
       "2019-07-07    0.505781\n",
       "2019-07-08    0.320931\n",
       "                ...   \n",
       "2020-06-27    0.054275\n",
       "2020-06-28    0.047196\n",
       "2020-06-29    0.028317\n",
       "2020-07-01    0.073153\n",
       "2020-07-02    0.068434\n",
       "Name: Dates, Length: 305, dtype: float64"
      ]
     },
     "execution_count": 128,
     "metadata": {},
     "output_type": "execute_result"
    }
   ],
   "source": [
    "by_citdateper2"
   ]
  },
  {
   "cell_type": "code",
   "execution_count": 129,
   "metadata": {},
   "outputs": [
    {
     "data": {
      "image/png": "[encoded data removed]",
      "text/plain": [
       "<Figure size 1080x504 with 1 Axes>"
      ]
     },
     "metadata": {
      "needs_background": "light"
     },
     "output_type": "display_data"
    }
   ],
   "source": [
    "by_accdateper2.plot(label='Collisions') \n",
    "plt.ylabel('Percent of  Total Collisions (Blue)/ Citations (Orange)',fontsize=12)\n",
    "plt.xlabel('Dates',fontsize=12)\n",
    "plt.xticks(rotation='vertical')\n",
    "plt.rcParams['figure.figsize']=(15,7);\n",
    "by_citdateper2.plot(label='Citations')\n",
    "plt.ylabel('Percent of Total Collisions (Blue)/ Citations (Orange)',fontsize=12)\n",
    "plt.xlabel('Dates',fontsize=12)\n",
    "plt.xticks(rotation='vertical')\n",
    "plt.rcParams['figure.figsize']=(15,7)\n",
    "plt.legend(loc=\"best\");\n",
    "#Reference for lengend and labels: https://stackoverflow.com/questions/19125722/adding-a-legend-to-pyplot-in-matplotlib-in-the-simplest-manner-possible"
   ]
  },
  {
   "cell_type": "markdown",
   "metadata": {},
   "source": [
    "I then wanted to see if there was a correlation between the number of crashes and the number of citations. For this I used pearsonr() from scipy.stats and corr() from pandas. I then used a heatmap to visualize the results."
   ]
  },
  {
   "cell_type": "code",
   "execution_count": 130,
   "metadata": {},
   "outputs": [],
   "source": [
    "corr, pvalue=pearsonr(by_accdate2, by_citdate2)\n",
    "#finding the correlation between the number of crashes and citations\n",
    "#Reference: https://www.youtube.com/watch?v=TRNaMGkdn-A&ab_channel=stikpet"
   ]
  },
  {
   "cell_type": "code",
   "execution_count": 131,
   "metadata": {},
   "outputs": [
    {
     "data": {
      "text/plain": [
       "0.5108166433084227"
      ]
     },
     "execution_count": 131,
     "metadata": {},
     "output_type": "execute_result"
    }
   ],
   "source": [
    "corr #Pearson's Correlation Coefficient"
   ]
  },
  {
   "cell_type": "code",
   "execution_count": 132,
   "metadata": {},
   "outputs": [
    {
     "data": {
      "text/plain": [
       "1.1328994789033865e-21"
      ]
     },
     "execution_count": 132,
     "metadata": {},
     "output_type": "execute_result"
    }
   ],
   "source": [
    "pvalue #P-value"
   ]
  },
  {
   "cell_type": "markdown",
   "metadata": {},
   "source": [
    "I then made to dataframes of the groupby results so that I could merge them together, find the correlation, and then make a heatmap of the results to show the correlation."
   ]
  },
  {
   "cell_type": "code",
   "execution_count": 133,
   "metadata": {},
   "outputs": [],
   "source": [
    "by_accdate2df=crashdata_df3.groupby(['ACCIDENT_DATE']) \n",
    "by_accdate2df=by_accdate2df['ACCIDENT_DATE'].count().to_frame()\n",
    "#grouping the data by date and making result dataframe"
   ]
  },
  {
   "cell_type": "code",
   "execution_count": 134,
   "metadata": {},
   "outputs": [],
   "source": [
    "by_accdate2df.index.name='Dates'\n",
    "#renaming index to make merging easier"
   ]
  },
  {
   "cell_type": "code",
   "execution_count": 135,
   "metadata": {},
   "outputs": [],
   "source": [
    "by_citdate2df=citations.groupby(['Dates'])\n",
    "by_citdate2df=by_citdate2df['Dates'].count().to_frame()\n",
    "#grouping the data by date and making result dataframe"
   ]
  },
  {
   "cell_type": "code",
   "execution_count": 136,
   "metadata": {},
   "outputs": [],
   "source": [
    "by_citdate2df.index.name='Dates'\n",
    "#renaming index to make merging easier"
   ]
  },
  {
   "cell_type": "code",
   "execution_count": 137,
   "metadata": {},
   "outputs": [],
   "source": [
    "cit_crash=by_accdate2df.merge(by_citdate2df, left_on='Dates', right_index=True)\n",
    "#merging the dataframes on the Dates index\n",
    "#Reference for Merging Dataframes: https://www.youtube.com/watch?v=jcbRt3RWcGI&ab_channel=LearnPandas"
   ]
  },
  {
   "cell_type": "code",
   "execution_count": 138,
   "metadata": {},
   "outputs": [],
   "source": [
    "cit_crash.columns=['AccidentDates', 'CitationDates']\n",
    "#renaming columns to distinguish them from each other"
   ]
  },
  {
   "cell_type": "code",
   "execution_count": 139,
   "metadata": {},
   "outputs": [
    {
     "data": {
      "text/html": [
       "<div>\n",
       "<style scoped>\n",
       "    .dataframe tbody tr th:only-of-type {\n",
       "        vertical-align: middle;\n",
       "    }\n",
       "\n",
       "    .dataframe tbody tr th {\n",
       "        vertical-align: top;\n",
       "    }\n",
       "\n",
       "    .dataframe thead th {\n",
       "        text-align: right;\n",
       "    }\n",
       "</style>\n",
       "<table border=\"1\" class=\"dataframe\">\n",
       "  <thead>\n",
       "    <tr style=\"text-align: right;\">\n",
       "      <th></th>\n",
       "      <th>AccidentDates</th>\n",
       "      <th>CitationDates</th>\n",
       "    </tr>\n",
       "    <tr>\n",
       "      <th>Dates</th>\n",
       "      <th></th>\n",
       "      <th></th>\n",
       "    </tr>\n",
       "  </thead>\n",
       "  <tbody>\n",
       "    <tr>\n",
       "      <th>2019-07-03</th>\n",
       "      <td>46</td>\n",
       "      <td>336</td>\n",
       "    </tr>\n",
       "    <tr>\n",
       "      <th>2019-07-04</th>\n",
       "      <td>31</td>\n",
       "      <td>686</td>\n",
       "    </tr>\n",
       "    <tr>\n",
       "      <th>2019-07-05</th>\n",
       "      <td>25</td>\n",
       "      <td>639</td>\n",
       "    </tr>\n",
       "    <tr>\n",
       "      <th>2019-07-07</th>\n",
       "      <td>26</td>\n",
       "      <td>643</td>\n",
       "    </tr>\n",
       "    <tr>\n",
       "      <th>2019-07-08</th>\n",
       "      <td>38</td>\n",
       "      <td>408</td>\n",
       "    </tr>\n",
       "    <tr>\n",
       "      <th>...</th>\n",
       "      <td>...</td>\n",
       "      <td>...</td>\n",
       "    </tr>\n",
       "    <tr>\n",
       "      <th>2020-06-27</th>\n",
       "      <td>17</td>\n",
       "      <td>69</td>\n",
       "    </tr>\n",
       "    <tr>\n",
       "      <th>2020-06-28</th>\n",
       "      <td>17</td>\n",
       "      <td>60</td>\n",
       "    </tr>\n",
       "    <tr>\n",
       "      <th>2020-06-29</th>\n",
       "      <td>28</td>\n",
       "      <td>36</td>\n",
       "    </tr>\n",
       "    <tr>\n",
       "      <th>2020-07-01</th>\n",
       "      <td>20</td>\n",
       "      <td>93</td>\n",
       "    </tr>\n",
       "    <tr>\n",
       "      <th>2020-07-02</th>\n",
       "      <td>34</td>\n",
       "      <td>87</td>\n",
       "    </tr>\n",
       "  </tbody>\n",
       "</table>\n",
       "<p>305 rows × 2 columns</p>\n",
       "</div>"
      ],
      "text/plain": [
       "            AccidentDates  CitationDates\n",
       "Dates                                   \n",
       "2019-07-03             46            336\n",
       "2019-07-04             31            686\n",
       "2019-07-05             25            639\n",
       "2019-07-07             26            643\n",
       "2019-07-08             38            408\n",
       "...                   ...            ...\n",
       "2020-06-27             17             69\n",
       "2020-06-28             17             60\n",
       "2020-06-29             28             36\n",
       "2020-07-01             20             93\n",
       "2020-07-02             34             87\n",
       "\n",
       "[305 rows x 2 columns]"
      ]
     },
     "execution_count": 139,
     "metadata": {},
     "output_type": "execute_result"
    }
   ],
   "source": [
    "cit_crash"
   ]
  },
  {
   "cell_type": "code",
   "execution_count": 140,
   "metadata": {},
   "outputs": [],
   "source": [
    "cit_crash_corr=cit_crash.corr()\n",
    "#finding Pearson's Correlation Coefficient \n",
    "#Reference: https://www.youtube.com/watch?v=B8LcYdblXBI&ab_channel=TheEngineeringWorld"
   ]
  },
  {
   "cell_type": "code",
   "execution_count": 141,
   "metadata": {},
   "outputs": [
    {
     "data": {
      "text/html": [
       "<div>\n",
       "<style scoped>\n",
       "    .dataframe tbody tr th:only-of-type {\n",
       "        vertical-align: middle;\n",
       "    }\n",
       "\n",
       "    .dataframe tbody tr th {\n",
       "        vertical-align: top;\n",
       "    }\n",
       "\n",
       "    .dataframe thead th {\n",
       "        text-align: right;\n",
       "    }\n",
       "</style>\n",
       "<table border=\"1\" class=\"dataframe\">\n",
       "  <thead>\n",
       "    <tr style=\"text-align: right;\">\n",
       "      <th></th>\n",
       "      <th>AccidentDates</th>\n",
       "      <th>CitationDates</th>\n",
       "    </tr>\n",
       "  </thead>\n",
       "  <tbody>\n",
       "    <tr>\n",
       "      <th>AccidentDates</th>\n",
       "      <td>1.000000</td>\n",
       "      <td>0.510817</td>\n",
       "    </tr>\n",
       "    <tr>\n",
       "      <th>CitationDates</th>\n",
       "      <td>0.510817</td>\n",
       "      <td>1.000000</td>\n",
       "    </tr>\n",
       "  </tbody>\n",
       "</table>\n",
       "</div>"
      ],
      "text/plain": [
       "               AccidentDates  CitationDates\n",
       "AccidentDates       1.000000       0.510817\n",
       "CitationDates       0.510817       1.000000"
      ]
     },
     "execution_count": 141,
     "metadata": {},
     "output_type": "execute_result"
    }
   ],
   "source": [
    "cit_crash_corr"
   ]
  },
  {
   "cell_type": "code",
   "execution_count": 145,
   "metadata": {},
   "outputs": [
    {
     "data": {
      "image/png": "[encoded data removed]",
      "text/plain": [
       "<Figure size 1080x504 with 2 Axes>"
      ]
     },
     "metadata": {
      "needs_background": "light"
     },
     "output_type": "display_data"
    }
   ],
   "source": [
    "seaborn.heatmap(cit_crash_corr, xticklabels=cit_crash_corr.values, yticklabels=cit_crash_corr.values);\n",
    "#making heatmap of correlation results\n",
    "#Reference: https://www.youtube.com/watch?v=B8LcYdblXBI&ab_channel=TheEngineeringWorld"
   ]
  },
  {
   "cell_type": "markdown",
   "metadata": {},
   "source": [
    "The Pearson's Correlation Coefficient was 0.5 so there did seem to be a moderate positive correlation. This is illustrated in the heatmap. In the future I would like to look more at this relationship. One of the areas that I would like to look at is the weather column to see if the weather had an impact on the number of citations and crashes."
   ]
  },
  {
   "cell_type": "code",
   "execution_count": null,
   "metadata": {},
   "outputs": [],
   "source": []
  }
 ],
 "metadata": {
  "kernelspec": {
   "display_name": "Python 3",
   "language": "python",
   "name": "python3"
  },
  "language_info": {
   "codemirror_mode": {
    "name": "ipython",
    "version": 3
   },
   "file_extension": ".py",
   "mimetype": "text/x-python",
   "name": "python",
   "nbconvert_exporter": "python",
   "pygments_lexer": "ipython3",
   "version": "3.8.3"
  }
 },
 "nbformat": 4,
 "nbformat_minor": 4
}
